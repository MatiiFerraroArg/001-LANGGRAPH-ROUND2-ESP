{
 "cells": [
  {
   "cell_type": "markdown",
   "id": "da057a27-6921-44b0-af22-c6b4fb17ecc4",
   "metadata": {},
   "source": [
    "# Usando schemas de memoria (Memory Schemas) complejos para operaciones avanzadas (2): Guardando memories en collections.\n",
    "* En el ejercicio anterior aprendimos a guardar recuerdos (memories) en un solo perfil de usuario, pero ¿qué pasa si queremos guardar recuerdos en una colección (collection) en lugar de un solo perfil? Aprenderemos cómo hacerlo en este ejercicio."
   ]
  },
  {
   "cell_type": "markdown",
   "id": "7d579ef3-83fd-4d92-a5a4-95c2cb18e57e",
   "metadata": {},
   "source": [
    "## ¿Qué es una colección (collection) y por qué querríamos usarla?\n",
    "\n",
    "Aclaremos qué significa esto paso a paso:\n",
    "\n",
    "#### Perfil único de usuario\n",
    "En el ejercicio anterior, guardamos todos los **recuerdos** (memories, fragmentos de información) en un **único perfil** para un usuario.\n",
    "\n",
    "Por ejemplo:\n",
    "- El Usuario 1 tiene un perfil con este recuerdo (memories):\n",
    "  ```\n",
    "  \"El usuario disfruta aprender sobre francés.\"\n",
    "  ```\n",
    "- Todos los recuerdos se almacenan **en un solo lugar**, solo para **un usuario**.\n",
    "\n",
    "#### Colección (collection)\n",
    "Ahora, este ejercicio introduce la idea de guardar **recuerdos en una colección** en lugar de vincularlos a un **perfil único**.\n",
    "\n",
    "Una **colección (collection)** es como una **carpeta** o una **base de datos** que puede almacenar **recuerdos de múltiples usuarios**.\n",
    "\n",
    "Ejemplo:\n",
    "- Colección de recuerdos para **Usuario 1**:\n",
    "  ```\n",
    "  [\"Al usuario le gusta aprender sobre el idioma francés.\", \"El usuario prefiere cursos online.\"]\n",
    "  ```\n",
    "\n",
    "- Colección de recuerdos para **Usuario 2**:  \n",
    "  ```\n",
    "  [\"El usuario quiere aprender español.\", \"El usuario prefiere clases presenciales.\"]\n",
    "  ```\n",
    "\n",
    "#### Diferencia clave\n",
    "- **Perfil único:** Almacena recuerdos para **un solo usuario**.  \n",
    "- **Colección (collection):** Almacena **recuerdos de múltiples usuarios** o **múltiples temas** de manera organizada.\n",
    "\n",
    "#### ¿Por qué usar una colección (collection)?\n",
    "Una colección facilita:\n",
    "1. Almacenar recuerdos de **múltiples usuarios**.  \n",
    "2. **Recuperar recuerdos específicos** para un usuario determinado.  \n",
    "3. **Escalar el sistema** a medida que se agregan más usuarios o recuerdos.  \n",
    "\n",
    "#### Analogía\n",
    "- **Perfil único** = Un cuaderno para **un estudiante**.  \n",
    "- **Colección** = Una **estantería** con cuadernos separados para **muchos estudiantes**.\n",
    "\n",
    "Este enfoque es útil cuando tu aplicación o sistema necesita manejar **más de un usuario** o **datos más complejos**."
   ]
  },
  {
   "cell_type": "markdown",
   "id": "be46161e-45e9-46d7-8214-bcbea10aff2e",
   "metadata": {},
   "source": [
    "## Setup"
   ]
  },
  {
   "cell_type": "markdown",
   "id": "871e0018-cba4-4959-881a-0a65093d202d",
   "metadata": {},
   "source": [
    "#### After you download the code from the github repository in your computer\n",
    "In terminal:\n",
    "* cd project_name\n",
    "* pyenv local 3.11.4\n",
    "* poetry install\n",
    "* poetry shell"
   ]
  },
  {
   "cell_type": "markdown",
   "id": "4065e336-d054-412c-8a3f-1fbec63e1bcd",
   "metadata": {},
   "source": [
    "#### To open the notebook with Jupyter Notebooks\n",
    "In terminal:\n",
    "* jupyter lab\n",
    "\n",
    "Go to the folder of notebooks and open the right notebook."
   ]
  },
  {
   "cell_type": "markdown",
   "id": "62dda8d4-80cf-4b8f-9981-94edda5e9911",
   "metadata": {},
   "source": [
    "#### To see the code in Virtual Studio Code or your editor of choice.\n",
    "* open Virtual Studio Code or your editor of choice.\n",
    "* open the project-folder\n",
    "* open the 027-collection-schema.py file"
   ]
  },
  {
   "cell_type": "markdown",
   "id": "af743328-1bc8-4b01-85fb-fcb21c6499c2",
   "metadata": {},
   "source": [
    "## Create your .env file\n",
    "* In the github repo we have included a file named .env.example\n",
    "* Rename that file to .env file and here is where you will add your confidential api keys. Remember to include:\n",
    "* OPENAI_API_KEY=your_openai_api_key\n",
    "* LANGCHAIN_TRACING_V2=true\n",
    "* LANGCHAIN_ENDPOINT=https://api.smith.langchain.com\n",
    "* LANGCHAIN_API_KEY=your_langchain_api_key\n",
    "* LANGCHAIN_PROJECT=your_project_name"
   ]
  },
  {
   "cell_type": "markdown",
   "id": "863dd299-0780-49ad-a1b7-b76e249350da",
   "metadata": {},
   "source": [
    "We will call our LangSmith project **001-langgraph**."
   ]
  },
  {
   "cell_type": "markdown",
   "id": "40e766aa-f3e2-491f-be99-d0c6b700d47a",
   "metadata": {},
   "source": [
    "## Track operations\n",
    "From now on, we can track the operations **and the cost** of this project from LangSmith:\n",
    "* [smith.langchain.com](https://smith.langchain.com)"
   ]
  },
  {
   "cell_type": "markdown",
   "id": "4f99504a-1b8f-4360-b342-0b81ffa06aff",
   "metadata": {},
   "source": [
    "## Connect with the .env file located in the same directory of this notebook"
   ]
  },
  {
   "cell_type": "markdown",
   "id": "e39e5789-5bde-42e1-88dd-92dc8e363c24",
   "metadata": {},
   "source": [
    "If you are using the pre-loaded poetry shell, you do not need to install the following package because it is already pre-loaded for you:"
   ]
  },
  {
   "cell_type": "code",
   "execution_count": 1,
   "id": "c5514113-ddca-4ae9-9de6-0b9225b18f3c",
   "metadata": {},
   "outputs": [],
   "source": [
    "#pip install python-dotenv"
   ]
  },
  {
   "cell_type": "code",
   "execution_count": 2,
   "id": "fecd39d0-e72e-4bc2-8a68-2fa4008ea365",
   "metadata": {},
   "outputs": [],
   "source": [
    "import os\n",
    "from dotenv import load_dotenv, find_dotenv\n",
    "_ = load_dotenv(find_dotenv())\n",
    "openai_api_key = os.environ[\"OPENAI_API_KEY\"]"
   ]
  },
  {
   "cell_type": "markdown",
   "id": "03f4a923-b19e-498e-9be5-e47ec4a77d80",
   "metadata": {},
   "source": [
    "#### Install LangChain"
   ]
  },
  {
   "cell_type": "markdown",
   "id": "9fef1e5c-b7e2-4a04-96c5-8f64377b8eba",
   "metadata": {},
   "source": [
    "If you are using the pre-loaded poetry shell, you do not need to install the following package because it is already pre-loaded for you:"
   ]
  },
  {
   "cell_type": "code",
   "execution_count": 3,
   "id": "c1cf94ae-6c39-4475-9c5b-4b74d8d78753",
   "metadata": {},
   "outputs": [],
   "source": [
    "#!pip install langchain"
   ]
  },
  {
   "cell_type": "markdown",
   "id": "189e9e17-dfb0-4fd3-85b9-1fba83771941",
   "metadata": {},
   "source": [
    "## Connect with an LLM"
   ]
  },
  {
   "cell_type": "markdown",
   "id": "b21d23f4-61f5-4227-8a75-7eefde6680ee",
   "metadata": {},
   "source": [
    "If you are using the pre-loaded poetry shell, you do not need to install the following package because it is already pre-loaded for you:"
   ]
  },
  {
   "cell_type": "code",
   "execution_count": 4,
   "id": "148df8e0-361d-4ddd-8709-af48fa1648d1",
   "metadata": {},
   "outputs": [],
   "source": [
    "#!pip install langchain-openai"
   ]
  },
  {
   "cell_type": "code",
   "execution_count": 5,
   "id": "df978ec5-bfd2-4167-bd33-86bc2687d1cb",
   "metadata": {},
   "outputs": [],
   "source": [
    "from langchain_openai import ChatOpenAI\n",
    "\n",
    "chatModel35 = ChatOpenAI(model=\"gpt-3.5-turbo-0125\")\n",
    "chatModel4o = ChatOpenAI(model=\"gpt-4o\")"
   ]
  },
  {
   "cell_type": "markdown",
   "id": "ffbb7ebe-726c-4fa9-9854-15d0fbde3a19",
   "metadata": {},
   "source": [
    "## Nuestro objetivo: almacenar los recuerdos sobre las interacciones del usuario en una colección (collection)  \n",
    "* En lugar de almacenar la información del usuario en una estructura de perfil fija, queremos crear un **schema de collection flexible** para almacenar recuerdos sobre las interacciones del usuario.  \n",
    "    * Cada recuerdo se almacenará como una entrada separada con un único campo `content` que contendrá la información principal que queremos recordar.  \n",
    "* Este enfoque nos permite construir una colección de recuerdos abierta, que **puede crecer y cambiar a medida que aprendemos más sobre el usuario**."
   ]
  },
  {
   "cell_type": "markdown",
   "id": "b400d299-3489-4aa8-8657-439754425233",
   "metadata": {},
   "source": [
    "## Comencemos definiendo el schema de la collection"
   ]
  },
  {
   "cell_type": "code",
   "execution_count": 6,
   "id": "76db7850-d968-4352-8cb6-c9f8615d5d70",
   "metadata": {},
   "outputs": [],
   "source": [
    "from pydantic import BaseModel, Field\n",
    "\n",
    "class Memory(BaseModel):\n",
    "    content: str = Field(description=\"The main content of the memory. For example: User expressed interest in learning about French.\")\n",
    "\n",
    "class MemoryCollection(BaseModel):\n",
    "    memories: list[Memory] = Field(description=\"A list of memories about the user.\")"
   ]
  },
  {
   "cell_type": "markdown",
   "id": "44a040c8-4851-4140-a9c3-d779abcd3972",
   "metadata": {},
   "source": [
    "## OK. Revisemos lo que acabamos de hacer.  \n",
    "\n",
    "El código anterior define dos clases (class) utilizando **Pydantic**, una biblioteca de Python para validación de datos y gestión de configuraciones. Aquí tienes una explicación sencilla:  \n",
    "\n",
    "#### Clase `Memory`\n",
    "- Representa un **fragmento de información** (recuerdo) sobre el usuario.  \n",
    "- Contiene **un atributo**:  \n",
    "  - **`content`** (un string de texto) – Almacena el recuerdo en sí, como \"El usuario quiere aprender francés.\"  \n",
    "  - Incluye una **descripción** que explica el propósito de este campo.  \n",
    "\n",
    "#### Clase `MemoryCollection`\n",
    "- Representa una **colección de recuerdos** sobre el usuario.  \n",
    "- Contiene **un atributo**:  \n",
    "  - **`memories`** – Una **list de objetos `Memory`** para almacenar múltiples recuerdos del usuario.  \n",
    "  - También tiene una **descripción** que explica su propósito.  \n",
    "\n",
    "#### ¿Por qué usar Pydantic?\n",
    "- **Validación:** Garantiza que los datos sigan el formato esperado (por ejemplo, `content` debe ser un string de texto).  \n",
    "- **Documentación:** Genera automáticamente documentación clara para el modelo de datos.  \n",
    "\n",
    "#### Ejemplo de uso  \n",
    "\n",
    "```python\n",
    "# Crear un recuerdo\n",
    "memory1 = Memory(content=\"El usuario expresó interés en aprender francés.\")\n",
    "\n",
    "# Crear otro recuerdo\n",
    "memory2 = Memory(content=\"El usuario prefiere cursos en línea.\")\n",
    "\n",
    "# Reunir recuerdos en una lista\n",
    "memory_collection = MemoryCollection(memories=[memory1, memory2])\n",
    "\n",
    "# Acceder a los datos\n",
    "print(memory_collection.memories[0].content)  # Salida: El usuario expresó interés en aprender francés.\n",
    "```"
   ]
  },
  {
   "cell_type": "markdown",
   "id": "db9eabfc-2a86-4bb3-adc2-1e288bebc693",
   "metadata": {},
   "source": [
    "## Ahora que hemos definido el schema de la colección, probémoslo con un chatbot sencillo  \n",
    "* Usaremos un chatbot con output estructurado (structured output), similar al que utilizamos en el ejercicio anterior."
   ]
  },
  {
   "cell_type": "code",
   "execution_count": 7,
   "id": "e0554340-54d5-463c-b3a4-aef9ed3a3f0c",
   "metadata": {},
   "outputs": [
    {
     "data": {
      "text/plain": [
       "[Memory(content=\"User's name is Julio.\"),\n",
       " Memory(content='Julio likes to drive his vespa in San Francisco.')]"
      ]
     },
     "execution_count": 7,
     "metadata": {},
     "output_type": "execute_result"
    }
   ],
   "source": [
    "from langchain_core.messages import HumanMessage\n",
    "from langchain_openai import ChatOpenAI\n",
    "\n",
    "# Initialize the model\n",
    "model = ChatOpenAI(model=\"gpt-4o\", temperature=0)\n",
    "\n",
    "# Bind schema to model\n",
    "model_with_structure = model.with_structured_output(MemoryCollection)\n",
    "\n",
    "# Invoke the model to produce structured output that matches the schema\n",
    "memory_collection = model_with_structure.invoke([HumanMessage(\"My name is Julio. I like to drive my vespa in SF.\")])\n",
    "memory_collection.memories"
   ]
  },
  {
   "cell_type": "markdown",
   "id": "d001fa57-ae70-42ff-85fc-617d696b66e4",
   "metadata": {},
   "source": [
    "## OK. Ahora guardemos el recuerdo."
   ]
  },
  {
   "cell_type": "code",
   "execution_count": 8,
   "id": "69d8b34f-08c6-435b-be31-548434e83c26",
   "metadata": {},
   "outputs": [],
   "source": [
    "import uuid\n",
    "from langgraph.store.memory import InMemoryStore\n",
    "\n",
    "# Initialize the in-memory store\n",
    "in_memory_store = InMemoryStore()\n",
    "\n",
    "# Namespace for the memory to save\n",
    "user_id = \"1\"\n",
    "namespace_for_memory = (user_id, \"memories\")\n",
    "\n",
    "# Save a memory to namespace as key and value\n",
    "key = str(uuid.uuid4())\n",
    "value = memory_collection.memories[0].model_dump()\n",
    "in_memory_store.put(namespace_for_memory, key, value)\n",
    "\n",
    "key = str(uuid.uuid4())\n",
    "value = memory_collection.memories[1].model_dump()\n",
    "in_memory_store.put(namespace_for_memory, key, value)"
   ]
  },
  {
   "cell_type": "markdown",
   "id": "58251895-7bce-493f-8c36-8c214c052737",
   "metadata": {},
   "source": [
    "## Finalmente, confirmemos que podemos recuperarlo."
   ]
  },
  {
   "cell_type": "code",
   "execution_count": 9,
   "id": "5135b907-ac87-4e33-806a-5af7f1cb0f9a",
   "metadata": {},
   "outputs": [
    {
     "name": "stdout",
     "output_type": "stream",
     "text": [
      "{'value': {'content': \"User's name is Julio.\"}, 'key': '02ae72a3-7e7f-4020-9a74-3ebc8008590e', 'namespace': ['1', 'memories'], 'created_at': '2025-01-07T16:18:25.875274+00:00', 'updated_at': '2025-01-07T16:18:25.875280+00:00', 'score': None}\n",
      "{'value': {'content': 'Julio likes to drive his vespa in San Francisco.'}, 'key': '917a1e65-d413-404f-a74f-432c0c55a6d4', 'namespace': ['1', 'memories'], 'created_at': '2025-01-07T16:18:25.875489+00:00', 'updated_at': '2025-01-07T16:18:25.875490+00:00', 'score': None}\n"
     ]
    }
   ],
   "source": [
    "# Search \n",
    "for m in in_memory_store.search(namespace_for_memory):\n",
    "    print(m.dict())"
   ]
  },
  {
   "cell_type": "markdown",
   "id": "b38e8b4b-8d42-41ff-a9ab-2677a1a8f3b6",
   "metadata": {},
   "source": [
    "## Bien. Revisemos lo que acabamos de hacer.  \n",
    "\n",
    "El código anterior amplía el ejemplo previo y demuestra cómo **generar datos estructurados**, **almacenarlos en memoria** y **recuperarlos después**. Aquí tienes una explicación sencilla:  \n",
    "\n",
    "#### Importar librerías y configurar el modelo  \n",
    "```python\n",
    "from langchain_core.messages import HumanMessage\n",
    "from langchain_openai import ChatOpenAI\n",
    "```\n",
    "- Importa herramientas para trabajar con mensajes de chat y modelos GPT de OpenAI.  \n",
    "\n",
    "```python\n",
    "model = ChatOpenAI(model=\"gpt-4o\", temperature=0)\n",
    "```\n",
    "- Inicializa el modelo **GPT-4o** con una temperatura de **0** (esto garantiza respuestas lo más deterministas posible).  \n",
    "\n",
    "#### Vincular el esquema al modelo  \n",
    "```python\n",
    "model_with_structure = model.with_structured_output(MemoryCollection)\n",
    "```\n",
    "- Configura el modelo para producir una salida estructurada según el esquema **`MemoryCollection`** creado anteriormente.  \n",
    "- Esto garantiza que las respuestas sean **estructuradas** y fáciles de procesar.  \n",
    "\n",
    "#### Generar salida estructurada  \n",
    "```python\n",
    "memory_collection = model_with_structure.invoke(\n",
    "    [HumanMessage(\"My name is Julio. I like to drive my vespa in SF.\")]\n",
    ")\n",
    "memory_collection.memories\n",
    "```\n",
    "- Envía un **mensaje de usuario** al modelo y le pide generar una respuesta estructurada.  \n",
    "- El output se almacena como un objeto **`MemoryCollection`**, siguiendo el schema definido antes.  \n",
    "- Por ejemplo:  \n",
    "  - Recuerdo 1: `\"My name is Julio.\"`  \n",
    "  - Recuerdo 2: `\"I like to drive my vespa in SF.\"`  \n",
    "\n",
    "#### Importar y configurar almacenamiento en memoria  \n",
    "```python\n",
    "import uuid\n",
    "from langgraph.store.memory import InMemoryStore\n",
    "\n",
    "in_memory_store = InMemoryStore()\n",
    "```\n",
    "- Importa herramientas para **almacenamiento en memoria** (ideal para acceso rápido).  \n",
    "- Crea una instancia de almacenamiento (`in_memory_store`) para guardar y gestionar los recuerdos.  \n",
    "\n",
    "#### Guardar recuerdos en el almacenamiento  \n",
    "```python\n",
    "user_id = \"1\"\n",
    "namespace_for_memory = (user_id, \"memories\")\n",
    "```\n",
    "- Define un **namespace** (como una carpeta) usando un **ID de usuario** y la etiqueta `\"memories\"`.  \n",
    "- Esto organiza los recuerdos por usuario y tipo.  \n",
    "\n",
    "```python\n",
    "key = str(uuid.uuid4())\n",
    "value = memory_collection.memories[0].model_dump()\n",
    "in_memory_store.put(namespace_for_memory, key, value)\n",
    "```\n",
    "- Genera una **clave única (unique key)** para cada recuerdo usando `uuid`.  \n",
    "- Convierte cada recuerdo en **formato diccionario** para almacenarlo.  \n",
    "- Guarda el recuerdo en el namespace con su clave y valor (key and value).  \n",
    "\n",
    "#### Buscar y recuperar recuerdos  \n",
    "```python\n",
    "for m in in_memory_store.search(namespace_for_memory):\n",
    "    print(m.dict())\n",
    "```\n",
    "- Busca todos los recuerdos almacenados en el namespace.  \n",
    "- Los imprime en formato diccionario, facilitando su lectura o procesamiento posterior.  \n",
    "\n",
    "#### Ejemplo de output  \n",
    "```\n",
    "{'content': 'My name is Julio.'}\n",
    "{'content': 'I like to drive my vespa in SF.'}\n",
    "```\n",
    "\n",
    "Este proceso permite estructurar, almacenar y recuperar información de manera eficiente, lo que es útil para construir sistemas con memoria persistente."
   ]
  },
  {
   "cell_type": "markdown",
   "id": "a0504dea-3df4-4c82-a82f-ff3aaa42cc3d",
   "metadata": {},
   "source": [
    "## Agregar y editar recuerdos en la collection usando TrustCall  \n",
    "* Recuerda que en el último ejercicio aprendimos a usar **TrustCall**.  \n",
    "* Lo utilizaremos nuevamente aquí para **agregar y editar recuerdos** en nuestra collection.  \n",
    "* Como verás a continuación, configuraremos **`enable_inserts=True`** para permitir que el extractor de TrustCall **inserte nuevos recuerdos** en la collection."
   ]
  },
  {
   "cell_type": "code",
   "execution_count": 10,
   "id": "344bedd2-dcd3-46c0-84dc-dedf60df9cf4",
   "metadata": {},
   "outputs": [],
   "source": [
    "from trustcall import create_extractor\n",
    "\n",
    "# Create the extractor\n",
    "trustcall_extractor = create_extractor(\n",
    "    model,\n",
    "    tools=[Memory],\n",
    "    tool_choice=\"Memory\",\n",
    "    enable_inserts=True,\n",
    ")"
   ]
  },
  {
   "cell_type": "code",
   "execution_count": 11,
   "id": "0987441b-7f74-4758-9469-7da0bc08d92a",
   "metadata": {},
   "outputs": [],
   "source": [
    "from langchain_core.messages import HumanMessage, SystemMessage, AIMessage\n",
    "\n",
    "# Instruction\n",
    "instruction = \"\"\"Extract memories from the following conversation:\"\"\"\n",
    "\n",
    "# Conversation\n",
    "conversation = [HumanMessage(content=\"Hi, I'm Julio.\"), \n",
    "                AIMessage(content=\"Nice to meet you, Julio.\"), \n",
    "                HumanMessage(content=\"This morning I had a nice vespa ride in San Francisco.\")]\n",
    "\n",
    "# Invoke the extractor\n",
    "result = trustcall_extractor.invoke({\"messages\": [SystemMessage(content=instruction)] + conversation})"
   ]
  },
  {
   "cell_type": "code",
   "execution_count": 12,
   "id": "69174615-5604-4c52-b271-d04fd7ac6daf",
   "metadata": {},
   "outputs": [
    {
     "name": "stdout",
     "output_type": "stream",
     "text": [
      "==================================\u001b[1m Ai Message \u001b[0m==================================\n",
      "Tool Calls:\n",
      "  Memory (call_Zq95MSs0HxLY2V3CZoLRDswM)\n",
      " Call ID: call_Zq95MSs0HxLY2V3CZoLRDswM\n",
      "  Args:\n",
      "    content: Julio had a nice vespa ride in San Francisco this morning.\n"
     ]
    }
   ],
   "source": [
    "# Messages contain the tool calls\n",
    "for m in result[\"messages\"]:\n",
    "    m.pretty_print()"
   ]
  },
  {
   "cell_type": "code",
   "execution_count": 13,
   "id": "a9c66ac5-d507-4965-864e-d25144b13385",
   "metadata": {},
   "outputs": [
    {
     "name": "stdout",
     "output_type": "stream",
     "text": [
      "content='Julio had a nice vespa ride in San Francisco this morning.'\n"
     ]
    }
   ],
   "source": [
    "# Responses contain the memories that adhere to the schema\n",
    "for m in result[\"responses\"]: \n",
    "    print(m)"
   ]
  },
  {
   "cell_type": "code",
   "execution_count": 14,
   "id": "02be1a64-a251-42e8-8891-59160dcbd022",
   "metadata": {},
   "outputs": [
    {
     "name": "stdout",
     "output_type": "stream",
     "text": [
      "{'id': 'call_Zq95MSs0HxLY2V3CZoLRDswM'}\n"
     ]
    }
   ],
   "source": [
    "# Metadata contains the tool call  \n",
    "for m in result[\"response_metadata\"]: \n",
    "    print(m)"
   ]
  },
  {
   "cell_type": "code",
   "execution_count": 15,
   "id": "72a5e59a-478a-4dd8-b92a-b84d6b66679e",
   "metadata": {},
   "outputs": [
    {
     "data": {
      "text/plain": [
       "[('0',\n",
       "  'Memory',\n",
       "  {'content': 'Julio had a nice vespa ride in San Francisco this morning.'})]"
      ]
     },
     "execution_count": 15,
     "metadata": {},
     "output_type": "execute_result"
    }
   ],
   "source": [
    "# Update the conversation\n",
    "updated_conversation = [AIMessage(content=\"That's great, what did you do after?\"), \n",
    "                        HumanMessage(content=\"I went to Whole Foods and bought a green pie soup.\"),                        \n",
    "                        AIMessage(content=\"What else is on your mind?\"),\n",
    "                        HumanMessage(content=\"I was thinking about my trip to Carmel, and going back this weekend.\"),]\n",
    "\n",
    "# Update the instruction\n",
    "system_msg = \"\"\"Update existing memories and create new ones based on the following conversation:\"\"\"\n",
    "\n",
    "# We'll save existing memories, giving them an ID, key (tool name), and value\n",
    "tool_name = \"Memory\"\n",
    "existing_memories = [(str(i), tool_name, memory.model_dump()) for i, memory in enumerate(result[\"responses\"])] if result[\"responses\"] else None\n",
    "existing_memories"
   ]
  },
  {
   "cell_type": "code",
   "execution_count": 16,
   "id": "af5766c9-89bf-4341-99df-ed3c505f5520",
   "metadata": {},
   "outputs": [],
   "source": [
    "# Invoke the extractor with our updated conversation and existing memories\n",
    "result = trustcall_extractor.invoke({\"messages\": updated_conversation, \n",
    "                                     \"existing\": existing_memories})"
   ]
  },
  {
   "cell_type": "code",
   "execution_count": 17,
   "id": "f6e7cd37-3a60-44e7-9852-c1eaee95cae4",
   "metadata": {},
   "outputs": [
    {
     "name": "stdout",
     "output_type": "stream",
     "text": [
      "==================================\u001b[1m Ai Message \u001b[0m==================================\n",
      "Tool Calls:\n",
      "  Memory (call_G5ZsqCzkpJLnocBmTKvp4LlK)\n",
      " Call ID: call_G5ZsqCzkpJLnocBmTKvp4LlK\n",
      "  Args:\n",
      "    content: Julio had a nice vespa ride in San Francisco this morning. Then, he went to Whole Foods and bought a green pie soup.\n",
      "  Memory (call_aZ0NAlikwEv4USQVxk1f7Ytj)\n",
      " Call ID: call_aZ0NAlikwEv4USQVxk1f7Ytj\n",
      "  Args:\n",
      "    content: Julio was thinking about his trip to Carmel and considering going back this weekend.\n"
     ]
    }
   ],
   "source": [
    "# Messages from the model indicate two tool calls were made\n",
    "for m in result[\"messages\"]:\n",
    "    m.pretty_print()"
   ]
  },
  {
   "cell_type": "code",
   "execution_count": 18,
   "id": "13b54f85-85d1-4f12-b6bd-5d88a566ff17",
   "metadata": {},
   "outputs": [
    {
     "name": "stdout",
     "output_type": "stream",
     "text": [
      "content='Julio had a nice vespa ride in San Francisco this morning. Then, he went to Whole Foods and bought a green pie soup.'\n",
      "content='Julio was thinking about his trip to Carmel and considering going back this weekend.'\n"
     ]
    }
   ],
   "source": [
    "# Responses contain the memories that adhere to the schema\n",
    "for m in result[\"responses\"]: \n",
    "    print(m)"
   ]
  },
  {
   "cell_type": "code",
   "execution_count": 19,
   "id": "b073903a-9547-4e98-80d5-73118e848095",
   "metadata": {},
   "outputs": [
    {
     "name": "stdout",
     "output_type": "stream",
     "text": [
      "{'id': 'call_G5ZsqCzkpJLnocBmTKvp4LlK', 'json_doc_id': '0'}\n",
      "{'id': 'call_aZ0NAlikwEv4USQVxk1f7Ytj'}\n"
     ]
    }
   ],
   "source": [
    "# Metadata contains the tool call  \n",
    "for m in result[\"response_metadata\"]: \n",
    "    print(m)"
   ]
  },
  {
   "cell_type": "markdown",
   "id": "67f0c6e7-3f43-4bb0-a617-1bd556f35198",
   "metadata": {},
   "source": [
    "## Bien. Revisemos lo que acabamos de hacer.  \n",
    "\n",
    "El código anterior demuestra cómo usar **TrustCall** para **extraer, editar y agregar recuerdos** a partir de una conversación en un formato estructurado. Aquí tienes una explicación paso a paso:\n",
    "\n",
    "#### Importar TrustCall y crear un extractor  \n",
    "```python\n",
    "from trustcall import create_extractor\n",
    "```\n",
    "- Importa la **biblioteca TrustCall**, que ayuda a extraer información estructurada de texto.  \n",
    "\n",
    "```python\n",
    "trustcall_extractor = create_extractor(\n",
    "    model,\n",
    "    tools=[Memory],\n",
    "    tool_choice=\"Memory\",\n",
    "    enable_inserts=True,\n",
    ")\n",
    "```\n",
    "- **Crea un extractor** conectado al modelo GPT.  \n",
    "- **`tools=[Memory]`**: Indica que el output debe seguir el schema **`Memory`** definido antes.  \n",
    "- **`tool_choice=\"Memory\"`**: Garantiza que el extractor siempre utilice la herramienta **Memory** para generar salidas estructuradas (structured outputs).  \n",
    "- **`enable_inserts=True`**: Permite **agregar nuevos recuerdos** a la colección (collection).  \n",
    "\n",
    "#### Proporcionar instrucciones y conversación inicial  \n",
    "```python\n",
    "instruction = \"\"\"Extract memories from the following conversation:\"\"\"\n",
    "```\n",
    "- Define las **instrucciones** para que el extractor **identifique recuerdos relevantes** en la conversación.  \n",
    "\n",
    "```python\n",
    "conversation = [HumanMessage(content=\"Hi, I'm Julio.\"), \n",
    "                AIMessage(content=\"Nice to meet you, Julio.\"), \n",
    "                HumanMessage(content=\"This morning I had a nice vespa ride in San Francisco.\")]\n",
    "```\n",
    "- Representa el **historial de conversación** con una lista de mensajes.  \n",
    "- **`HumanMessage`** y **`AIMessage`** distinguen entre mensajes del usuario y del modelo de IA (el modelo LLM).  \n",
    "\n",
    "#### Extraer recuerdos de la conversación  \n",
    "```python\n",
    "result = trustcall_extractor.invoke({\"messages\": [SystemMessage(content=instruction)] + conversation})\n",
    "```\n",
    "- Combina la **instrucción** y la **conversación** en una **única entrada (input)** para el extractor.  \n",
    "- El extractor **analiza los mensajes** y genera recuerdos estructurados.  \n",
    "\n",
    "```python\n",
    "for m in result[\"messages\"]:\n",
    "    m.pretty_print()\n",
    "```\n",
    "- Muestra **cómo el extractor interpretó la entrada (input)**.  \n",
    "\n",
    "```python\n",
    "for m in result[\"responses\"]: \n",
    "    print(m)\n",
    "```\n",
    "- Muestra los **recuerdos extraídos**, por ejemplo:  \n",
    "  - **Recuerdo 1:** `\"Hi, I'm Julio.\"`  \n",
    "  - **Recuerdo 2:** `\"I had a nice vespa ride in San Francisco.\"`  \n",
    "\n",
    "```python\n",
    "for m in result[\"response_metadata\"]: \n",
    "    print(m)\n",
    "```\n",
    "- Imprime **metadatos**, como qué herramienta se usó y cómo se procesaron los recuerdos.  \n",
    "\n",
    "#### Actualizar la conversación y los recuerdos  \n",
    "\n",
    "**Nueva conversación:**  \n",
    "```python\n",
    "updated_conversation = [AIMessage(content=\"That's great, what did you do after?\"), \n",
    "                        HumanMessage(content=\"I went to Whole Foods and bought a green pie soup.\"),                        \n",
    "                        AIMessage(content=\"What else is on your mind?\"),\n",
    "                        HumanMessage(content=\"I was thinking about my trip to Carmel, and going back this weekend.\")]\n",
    "```\n",
    "- Agrega **nuevo contexto** para extraer o actualizar recuerdos.  \n",
    "\n",
    "**Actualizar la instrucción:**\n",
    "```python\n",
    "system_msg = \"\"\"Update existing memories and create new ones based on the following conversation:\"\"\"\n",
    "```\n",
    "- Cambia la instrucción para que el extractor **modifique recuerdos existentes o agregue nuevos**.  \n",
    "\n",
    "**Guardar recuerdos existentes:**\n",
    "```python\n",
    "tool_name = \"Memory\"\n",
    "existing_memories = [(str(i), tool_name, memory.model_dump()) for i, memory in enumerate(result[\"responses\"])] if result[\"responses\"] else None\n",
    "```\n",
    "- Prepara los **recuerdos existentes** para la actualización, convirtiéndolos en una estructura con:  \n",
    "  - **ID** (por ejemplo, `0`, `1`).  \n",
    "  - **Nombre de la herramienta** (`\"Memory\"`).  \n",
    "  - **Valor** (contenido del recuerdo).  \n",
    "\n",
    "#### Actualizar recuerdos con TrustCall  \n",
    "```python\n",
    "result = trustcall_extractor.invoke({\"messages\": updated_conversation, \n",
    "                                     \"existing\": existing_memories})\n",
    "```\n",
    "- Procesa la conversación actualizada junto con los **recuerdos existentes** para:  \n",
    "  1. **Editar recuerdos previos** si es necesario.  \n",
    "  2. **Insertar nuevos recuerdos** según el contexto actualizado.  \n",
    "\n",
    "**Inspeccionar los resultados:**  \n",
    "```python\n",
    "for m in result[\"messages\"]:\n",
    "    m.pretty_print()\n",
    "```\n",
    "- Muestra **detalles de los cambios** en los recuerdos.  \n",
    "\n",
    "```python\n",
    "for m in result[\"responses\"]: \n",
    "    print(m)\n",
    "```\n",
    "- Muestra los **nuevos y actualizados recuerdos** en formato estructurado, por ejemplo:  \n",
    "  - **Recuerdo 1:** `\"Julio fue a Whole Foods y compró una sopa de green pies.\"`  \n",
    "  - **Recuerdo 2:** `\"Julio está planeando un viaje a Carmel este fin de semana.\"`  \n",
    "\n",
    "```python\n",
    "for m in result[\"response_metadata\"]: \n",
    "    print(m)\n",
    "```\n",
    "- Imprime **metadatos** sobre los cambios realizados (inserciones, ediciones).  \n",
    "\n",
    "#### Ejemplo de output con recuerdos actualizados  \n",
    "```\n",
    "{'content': \"Julio fue a Whole Foods y compró una sopa de pastel verde.\"}\n",
    "{'content': \"Julio está planeando un viaje a Carmel este fin de semana.\"}\n",
    "```\n",
    "\n",
    "Este proceso permite **extraer, almacenar y actualizar recuerdos de manera automática**, lo que resulta clave para aplicaciones con memoria persistente y capacidad de aprendizaje."
   ]
  },
  {
   "cell_type": "markdown",
   "id": "993d1ac3-e474-41ec-ac8f-597c5244e800",
   "metadata": {},
   "source": [
    "## Bien, ahora probemos este enfoque con el chatbot que construimos en el último ejercicio"
   ]
  },
  {
   "cell_type": "code",
   "execution_count": 20,
   "id": "37561fc6-a6d5-4068-b394-8bfe7c507c69",
   "metadata": {},
   "outputs": [
    {
     "data": {
      "image/png": "[encoded data removed]",
      "text/plain": [
       "<IPython.core.display.Image object>"
      ]
     },
     "metadata": {},
     "output_type": "display_data"
    }
   ],
   "source": [
    "from IPython.display import Image, display\n",
    "\n",
    "import uuid\n",
    "\n",
    "from langgraph.graph import StateGraph, MessagesState, START, END\n",
    "from langgraph.store.memory import InMemoryStore\n",
    "from langchain_core.messages import merge_message_runs\n",
    "from langchain_core.messages import HumanMessage, SystemMessage\n",
    "from langchain_core.runnables.config import RunnableConfig\n",
    "from langgraph.checkpoint.memory import MemorySaver\n",
    "from langgraph.store.base import BaseStore\n",
    "\n",
    "# Initialize the model\n",
    "model = ChatOpenAI(model=\"gpt-4o\", temperature=0)\n",
    "\n",
    "# Memory schema\n",
    "class Memory(BaseModel):\n",
    "    content: str = Field(description=\"The main content of the memory. For example: User expressed interest in learning about French.\")\n",
    "\n",
    "# Create the Trustcall extractor\n",
    "trustcall_extractor = create_extractor(\n",
    "    model,\n",
    "    tools=[Memory],\n",
    "    tool_choice=\"Memory\",\n",
    "    # This allows the extractor to insert new memories\n",
    "    enable_inserts=True,\n",
    ")\n",
    "\n",
    "# Chatbot instruction\n",
    "MODEL_SYSTEM_MESSAGE = \"\"\"You are a helpful chatbot. You are designed to be a companion to a user. \n",
    "\n",
    "You have a long term memory which keeps track of information you learn about the user over time.\n",
    "\n",
    "Current Memory (may include updated memories from this conversation): \n",
    "\n",
    "{memory}\"\"\"\n",
    "\n",
    "# Trustcall instruction\n",
    "TRUSTCALL_INSTRUCTION = \"\"\"Reflect on following interaction. \n",
    "\n",
    "Use the provided tools to retain any necessary memories about the user. \n",
    "\n",
    "Use parallel tool calling to handle updates and insertions simultaneously:\"\"\"\n",
    "\n",
    "def call_model(state: MessagesState, config: RunnableConfig, store: BaseStore):\n",
    "\n",
    "    \"\"\"Load memories from the store and use them to personalize the chatbot's response.\"\"\"\n",
    "    \n",
    "    # Get the user ID from the config\n",
    "    user_id = config[\"configurable\"][\"user_id\"]\n",
    "\n",
    "    # Retrieve memory from the store\n",
    "    namespace = (\"memories\", user_id)\n",
    "    memories = store.search(namespace)\n",
    "\n",
    "    # Format the memories for the system prompt\n",
    "    info = \"\\n\".join(f\"- {mem.value['content']}\" for mem in memories)\n",
    "    system_msg = MODEL_SYSTEM_MESSAGE.format(memory=info)\n",
    "\n",
    "    # Respond using memory as well as the chat history\n",
    "    response = model.invoke([SystemMessage(content=system_msg)]+state[\"messages\"])\n",
    "\n",
    "    return {\"messages\": response}\n",
    "\n",
    "def write_memory(state: MessagesState, config: RunnableConfig, store: BaseStore):\n",
    "\n",
    "    \"\"\"Reflect on the chat history and update the memory collection.\"\"\"\n",
    "    \n",
    "    # Get the user ID from the config\n",
    "    user_id = config[\"configurable\"][\"user_id\"]\n",
    "\n",
    "    # Define the namespace for the memories\n",
    "    namespace = (\"memories\", user_id)\n",
    "\n",
    "    # Retrieve the most recent memories for context\n",
    "    existing_items = store.search(namespace)\n",
    "\n",
    "    # Format the existing memories for the Trustcall extractor\n",
    "    tool_name = \"Memory\"\n",
    "    existing_memories = ([(existing_item.key, tool_name, existing_item.value)\n",
    "                          for existing_item in existing_items]\n",
    "                          if existing_items\n",
    "                          else None\n",
    "                        )\n",
    "\n",
    "    # Merge the chat history and the instruction\n",
    "    updated_messages=list(merge_message_runs(messages=[SystemMessage(content=TRUSTCALL_INSTRUCTION)] + state[\"messages\"]))\n",
    "\n",
    "    # Invoke the extractor\n",
    "    result = trustcall_extractor.invoke({\"messages\": updated_messages, \n",
    "                                        \"existing\": existing_memories})\n",
    "\n",
    "    # Save the memories from Trustcall to the store\n",
    "    for r, rmeta in zip(result[\"responses\"], result[\"response_metadata\"]):\n",
    "        store.put(namespace,\n",
    "                  rmeta.get(\"json_doc_id\", str(uuid.uuid4())),\n",
    "                  r.model_dump(mode=\"json\"),\n",
    "            )\n",
    "\n",
    "# Define the graph\n",
    "builder = StateGraph(MessagesState)\n",
    "builder.add_node(\"call_model\", call_model)\n",
    "builder.add_node(\"write_memory\", write_memory)\n",
    "builder.add_edge(START, \"call_model\")\n",
    "builder.add_edge(\"call_model\", \"write_memory\")\n",
    "builder.add_edge(\"write_memory\", END)\n",
    "\n",
    "# Store for long-term (across-thread) memory\n",
    "across_thread_memory = InMemoryStore()\n",
    "\n",
    "# Checkpointer for short-term (within-thread) memory\n",
    "within_thread_memory = MemorySaver()\n",
    "\n",
    "# Compile the graph with the checkpointer fir and store\n",
    "graph = builder.compile(checkpointer=within_thread_memory, store=across_thread_memory)\n",
    "\n",
    "# View\n",
    "display(Image(graph.get_graph(xray=1).draw_mermaid_png()))"
   ]
  },
  {
   "cell_type": "code",
   "execution_count": 21,
   "id": "df69b1d4-fa4d-4828-a231-e5cd10aea38d",
   "metadata": {},
   "outputs": [
    {
     "name": "stdout",
     "output_type": "stream",
     "text": [
      "================================\u001b[1m Human Message \u001b[0m=================================\n",
      "\n",
      "Hi, my name is Julio\n",
      "==================================\u001b[1m Ai Message \u001b[0m==================================\n",
      "\n",
      "Hi Julio! It's great to meet you. How can I assist you today?\n"
     ]
    }
   ],
   "source": [
    "# We supply a thread ID for short-term (within-thread) memory\n",
    "# We supply a user ID for long-term (across-thread) memory \n",
    "config = {\"configurable\": {\"thread_id\": \"1\", \"user_id\": \"1\"}}\n",
    "\n",
    "# User input \n",
    "input_messages = [HumanMessage(content=\"Hi, my name is Julio\")]\n",
    "\n",
    "# Run the graph\n",
    "for chunk in graph.stream({\"messages\": input_messages}, config, stream_mode=\"values\"):\n",
    "    chunk[\"messages\"][-1].pretty_print()"
   ]
  },
  {
   "cell_type": "code",
   "execution_count": 22,
   "id": "a2f3e41a-18e6-4b62-bae7-4559b292fc78",
   "metadata": {},
   "outputs": [
    {
     "name": "stdout",
     "output_type": "stream",
     "text": [
      "================================\u001b[1m Human Message \u001b[0m=================================\n",
      "\n",
      "I like to drive my vespa around San Francisco\n",
      "==================================\u001b[1m Ai Message \u001b[0m==================================\n",
      "\n",
      "That sounds like a lot of fun! San Francisco must be a great place to explore on a Vespa with all its unique neighborhoods and scenic views. Do you have any favorite spots you like to visit?\n"
     ]
    }
   ],
   "source": [
    "# User input \n",
    "input_messages = [HumanMessage(content=\"I like to drive my vespa around San Francisco\")]\n",
    "\n",
    "# Run the graph\n",
    "for chunk in graph.stream({\"messages\": input_messages}, config, stream_mode=\"values\"):\n",
    "    chunk[\"messages\"][-1].pretty_print()"
   ]
  },
  {
   "cell_type": "code",
   "execution_count": 23,
   "id": "4e3d3656-626c-4999-92e9-9697b704aa8f",
   "metadata": {},
   "outputs": [
    {
     "name": "stdout",
     "output_type": "stream",
     "text": [
      "{'value': {'content': \"User's name is Julio.\"}, 'key': '173a1f17-2308-4f16-bb04-9e20ea2f87fc', 'namespace': ['memories', '1'], 'created_at': '2025-01-08T09:19:09.245031+00:00', 'updated_at': '2025-01-08T09:19:09.245032+00:00', 'score': None}\n",
      "{'value': {'content': 'User likes to drive their Vespa around San Francisco.'}, 'key': '75e9347b-19d7-462b-a662-114209d76729', 'namespace': ['memories', '1'], 'created_at': '2025-01-08T09:19:34.470361+00:00', 'updated_at': '2025-01-08T09:19:34.470364+00:00', 'score': None}\n"
     ]
    }
   ],
   "source": [
    "# Namespace for the memory to save\n",
    "user_id = \"1\"\n",
    "namespace = (\"memories\", user_id)\n",
    "memories = across_thread_memory.search(namespace)\n",
    "for m in memories:\n",
    "    print(m.dict())"
   ]
  },
  {
   "cell_type": "code",
   "execution_count": 24,
   "id": "5e451c70-8ef4-4a9a-b2f8-7c627ae92c20",
   "metadata": {},
   "outputs": [
    {
     "name": "stdout",
     "output_type": "stream",
     "text": [
      "================================\u001b[1m Human Message \u001b[0m=================================\n",
      "\n",
      "I also enjoy going to Whole Foods\n",
      "==================================\u001b[1m Ai Message \u001b[0m==================================\n",
      "\n",
      "Whole Foods is a great place for fresh and organic groceries. Do you have any favorite items you like to pick up when you're there?\n"
     ]
    }
   ],
   "source": [
    "# User input \n",
    "input_messages = [HumanMessage(content=\"I also enjoy going to Whole Foods\")]\n",
    "\n",
    "# Run the graph\n",
    "for chunk in graph.stream({\"messages\": input_messages}, config, stream_mode=\"values\"):\n",
    "    chunk[\"messages\"][-1].pretty_print()"
   ]
  },
  {
   "cell_type": "markdown",
   "id": "4e8bf047-dff7-4dbf-b724-60bf7ee18383",
   "metadata": {},
   "source": [
    "#### Pay attention: now we will continue the conversation with a new thread"
   ]
  },
  {
   "cell_type": "code",
   "execution_count": 25,
   "id": "0f9d43fa-0df8-4bfe-90f9-7b74508525d1",
   "metadata": {},
   "outputs": [
    {
     "name": "stdout",
     "output_type": "stream",
     "text": [
      "================================\u001b[1m Human Message \u001b[0m=================================\n",
      "\n",
      "What do you recommend for me to buy in Whole Foods?\n",
      "==================================\u001b[1m Ai Message \u001b[0m==================================\n",
      "\n",
      "Since you enjoy going to Whole Foods, you might want to explore some of their fresh produce or organic options. If you're looking for something new, you could try their seasonal fruits and vegetables, or perhaps check out their selection of artisanal cheeses and freshly baked bread. If you're into cooking, their spice and herb section is also worth a look. Do you have any specific preferences or dietary needs?\n"
     ]
    }
   ],
   "source": [
    "# We supply a thread ID for short-term (within-thread) memory\n",
    "# We supply a user ID for long-term (across-thread) memory \n",
    "config = {\"configurable\": {\"thread_id\": \"2\", \"user_id\": \"1\"}}\n",
    "\n",
    "# User input \n",
    "input_messages = [HumanMessage(content=\"What do you recommend for me to buy in Whole Foods?\")]\n",
    "\n",
    "# Run the graph\n",
    "for chunk in graph.stream({\"messages\": input_messages}, config, stream_mode=\"values\"):\n",
    "    chunk[\"messages\"][-1].pretty_print()"
   ]
  },
  {
   "cell_type": "code",
   "execution_count": 26,
   "id": "95bd7ced-b972-472d-9077-ecd3af90eb04",
   "metadata": {},
   "outputs": [
    {
     "name": "stdout",
     "output_type": "stream",
     "text": [
      "{'value': {'content': \"User's name is Julio.\"}, 'key': '173a1f17-2308-4f16-bb04-9e20ea2f87fc', 'namespace': ['memories', '1'], 'created_at': '2025-01-08T09:19:09.245031+00:00', 'updated_at': '2025-01-08T09:19:09.245032+00:00', 'score': None}\n",
      "{'value': {'content': 'User likes to drive their Vespa around San Francisco.'}, 'key': '75e9347b-19d7-462b-a662-114209d76729', 'namespace': ['memories', '1'], 'created_at': '2025-01-08T09:19:34.470361+00:00', 'updated_at': '2025-01-08T09:19:34.470364+00:00', 'score': None}\n",
      "{'value': {'content': 'User enjoys going to Whole Foods.'}, 'key': '55ba8966-aee1-4582-aa9a-9fe2250a3ade', 'namespace': ['memories', '1'], 'created_at': '2025-01-08T09:20:22.873059+00:00', 'updated_at': '2025-01-08T09:20:22.873061+00:00', 'score': None}\n",
      "{'value': {'content': 'User is interested in recommendations for purchases at Whole Foods.'}, 'key': '0e3e60e8-adbb-4818-8af4-c4feadca4592', 'namespace': ['memories', '1'], 'created_at': '2025-01-08T09:22:44.080135+00:00', 'updated_at': '2025-01-08T09:22:44.080136+00:00', 'score': None}\n"
     ]
    }
   ],
   "source": [
    "# PAY ATTENTION HERE: see how the second threat\n",
    "# is also saved in the user memory.\n",
    "# Namespace for the memory to save\n",
    "user_id = \"1\"\n",
    "namespace = (\"memories\", user_id)\n",
    "memories = across_thread_memory.search(namespace)\n",
    "for m in memories:\n",
    "    print(m.dict())"
   ]
  },
  {
   "cell_type": "markdown",
   "id": "1cffaaff-324f-4996-b8f3-9a9539de742c",
   "metadata": {},
   "source": [
    "## Bien. Revisemos lo que acabamos de hacer\n",
    "\n",
    "El código anterior demuestra cómo crear un **chatbot de IA con memoria a largo plazo** usando **LangGraph** y **TrustCall**. El chatbot puede **extraer, almacenar, actualizar y usar recuerdos** de conversaciones para hacer las interacciones más personalizadas. Aquí tienes una **explicación simplificada**:\n",
    "\n",
    "\n",
    "#### 1. Componentes clave\n",
    "\n",
    "**1.1 Schema de memoria**\n",
    "```python\n",
    "class Memory(BaseModel):\n",
    "    content: str = Field(description=\"Almacena información del usuario.\")\n",
    "```\n",
    "- Define una **estructura de memoria** para guardar detalles importantes del usuario (por ejemplo, \"A Julio le gusta conducir motos vespa\").  \n",
    "\n",
    "\n",
    "**1.2 Extractor de TrustCall**\n",
    "```python\n",
    "trustcall_extractor = create_extractor(\n",
    "    model,\n",
    "    tools=[Memory],\n",
    "    tool_choice=\"Memory\",\n",
    "    enable_inserts=True,\n",
    ")\n",
    "```\n",
    "- Usa **TrustCall** para **extraer y actualizar recuerdos** de las conversaciones.  \n",
    "- **`enable_inserts=True`:** Permite agregar **nuevos recuerdos** sin eliminar los antiguos.  \n",
    "\n",
    "\n",
    "**1.3 Instrucciones para el comportamiento de la IA (el modelo LLM)**\n",
    "```python\n",
    "MODEL_SYSTEM_MESSAGE = \"\"\"Eres un chatbot útil. Tienes una memoria a largo plazo para los detalles del usuario.\"\"\"\n",
    "TRUSTCALL_INSTRUCTION = \"\"\"Reflexiona sobre la conversación y actualiza o inserta nuevos recuerdos.\"\"\"\n",
    "```\n",
    "- Guía al modelo de IA (el modelo LLM) para:\n",
    "  1. **Usar los recuerdos** en sus respuestas.  \n",
    "  2. **Actualizar o crear recuerdos** después de cada interacción.  \n",
    "\n",
    "#### 2. Funciones de gestión de memoria\n",
    "\n",
    "**2.1 Responder con el contexto de memoria**\n",
    "```python\n",
    "def call_model(state: MessagesState, config: RunnableConfig, store: BaseStore):\n",
    "    user_id = config[\"configurable\"][\"user_id\"]\n",
    "    namespace = (\"memories\", user_id)\n",
    "    memories = store.search(namespace)\n",
    "\n",
    "    info = \"\\n\".join(f\"- {mem.value['content']}\" for mem in memories)\n",
    "    system_msg = MODEL_SYSTEM_MESSAGE.format(memory=info)\n",
    "\n",
    "    response = model.invoke([SystemMessage(content=system_msg)]+state[\"messages\"])\n",
    "    return {\"messages\": response}\n",
    "```\n",
    "- **Carga los recuerdos almacenados** del usuario.  \n",
    "- **Personaliza las respuestas** incluyendo recuerdos relevantes (por ejemplo, \"A Julio le gusta conducir una moto vespa\").  \n",
    "\n",
    "\n",
    "**2.2 Actualizar recuerdos**\n",
    "```python\n",
    "def write_memory(state: MessagesState, config: RunnableConfig, store: BaseStore):\n",
    "    user_id = config[\"configurable\"][\"user_id\"]\n",
    "    namespace = (\"memories\", user_id)\n",
    "    existing_items = store.search(namespace)\n",
    "\n",
    "    tool_name = \"Memory\"\n",
    "    existing_memories = ([(item.key, tool_name, item.value) for item in existing_items] if existing_items else None)\n",
    "\n",
    "    updated_messages = list(merge_message_runs(messages=[SystemMessage(content=TRUSTCALL_INSTRUCTION)] + state[\"messages\"]))\n",
    "    result = trustcall_extractor.invoke({\"messages\": updated_messages, \"existing\": existing_memories})\n",
    "\n",
    "    for r, rmeta in zip(result[\"responses\"], result[\"response_metadata\"]):\n",
    "        store.put(namespace, rmeta.get(\"json_doc_id\", str(uuid.uuid4())), r.model_dump(mode=\"json\"))\n",
    "```\n",
    "- **Analiza el historial del chat** para extraer recuerdos nuevos o actualizados.  \n",
    "- **Los almacena** en la memoria para su uso futuro.  \n",
    "\n",
    "\n",
    "#### 3. Construir el flujo del chatbot\n",
    "\n",
    "**3.1 Crear el graph para el flujo de conversación**\n",
    "```python\n",
    "builder = StateGraph(MessagesState)\n",
    "builder.add_node(\"call_model\", call_model)\n",
    "builder.add_node(\"write_memory\", write_memory)\n",
    "builder.add_edge(START, \"call_model\")\n",
    "builder.add_edge(\"call_model\", \"write_memory\")\n",
    "builder.add_edge(\"write_memory\", END)\n",
    "```\n",
    "- **Define el flujo** del chatbot:  \n",
    "  1. Responde basándose en la memoria.  \n",
    "  2. Actualiza o inserta nuevos recuerdos después de la respuesta.  \n",
    "\n",
    "\n",
    "**3.2 Configurar el almacenamiento de memoria**\n",
    "```python\n",
    "across_thread_memory = InMemoryStore()\n",
    "within_thread_memory = MemorySaver()\n",
    "\n",
    "graph = builder.compile(checkpointer=within_thread_memory, store=across_thread_memory)\n",
    "```\n",
    "- **Memoria a corto plazo:** Rastrea el historial del chat durante la sesión.  \n",
    "- **Memoria a largo plazo:** Almacena detalles importantes del usuario para futuras sesiones.  \n",
    "\n",
    "\n",
    "#### 4. Interacciones y uso de memoria\n",
    "\n",
    "**4.1 Mensajes de entrada (inputs)**\n",
    "```python\n",
    "input_messages = [HumanMessage(content=\"Hola, mi nombre es Julio\")]\n",
    "```\n",
    "- El usuario se presenta, y este detalle se **guarda como un recuerdo**.  \n",
    "\n",
    "**4.2 Procesar y responder**\n",
    "```python\n",
    "for chunk in graph.stream({\"messages\": input_messages}, config, stream_mode=\"values\"):\n",
    "    chunk[\"messages\"][-1].pretty_print()\n",
    "```\n",
    "- **Envía la entrada (input) del usuario** a través del flujo del chatbot.  \n",
    "- **Almacena el recuerdo:** \"El nombre del usuario es Julio.\"  \n",
    "\n",
    "\n",
    "**4.3 Almacenar y recuperar recuerdos**\n",
    "```python\n",
    "memories = across_thread_memory.search(namespace)\n",
    "for m in memories:\n",
    "    print(m.dict())\n",
    "```\n",
    "- **Recupera los recuerdos almacenados** y los imprime:\n",
    "  ```\n",
    "  {'content': 'El nombre del usuario es Julio.'}\n",
    "  ```\n",
    "\n",
    "\n",
    "**4.4 Continuar conversaciones**\n",
    "```python\n",
    "input_messages = [HumanMessage(content=\"Me gusta conducir mi vespa por San Francisco\")]\n",
    "```\n",
    "- Agrega más detalles del usuario, almacenados como:\n",
    "  ```\n",
    "  {'content': 'Al usuario le gusta conducir una vespa por San Francisco.'}\n",
    "  ```\n",
    "\n",
    "**4.5 Cambiar de contexto**\n",
    "```python\n",
    "config = {\"configurable\": {\"thread_id\": \"2\", \"user_id\": \"1\"}}\n",
    "```\n",
    "- **Cambia el contexto de la conversación** (por ejemplo, diferente tema o sesión) mientras sigue **usando los recuerdos almacenados** sobre Julio.  \n",
    "\n",
    "\n",
    "#### 5. Ejemplo de output\n",
    "\n",
    "**Mensajes del usuario:**\n",
    "1. \"Hola, mi nombre es Julio.\"  \n",
    "2. \"Me gusta conducir mi vespa por San Francisco.\"  \n",
    "3. \"También me gusta ir a Whole Foods.\"  \n",
    "\n",
    "\n",
    "**Recuerdos almacenados:**\n",
    "```\n",
    "{'content': \"El nombre del usuario es Julio.\"}\n",
    "{'content': \"Al usuario le gusta conducir una vespa por San Francisco.\"}\n",
    "{'content': \"Al usuario le gusta ir a Whole Foods.\"}\n",
    "```\n",
    "\n",
    "\n",
    "**Próxima interacción:**\n",
    "Entrada del usuario:  \n",
    "\"¿Qué me recomiendas comprar en Whole Foods?\"  \n",
    "\n",
    "Respuesta (Personalizada):  \n",
    "\"Como disfrutas Whole Foods, podrías probar sus sopas orgánicas o bocadillos saludables. ¿Has probado su sopa de green peas?\"  "
   ]
  },
  {
   "cell_type": "markdown",
   "id": "b0f70619-400d-43d3-85bd-1eb87a676681",
   "metadata": {},
   "source": [
    "## Cómo ejecutar el código desde Visual Studio Code\n",
    "* En Visual Studio Code, busca el archivo 027-collection-schema.py  \n",
    "* En la terminal, asegúrate de estar en el directorio del archivo y ejecuta:  \n",
    "    * python 027-collection-schema.py"
   ]
  },
  {
   "cell_type": "code",
   "execution_count": null,
   "id": "0f563796-3a4c-45e9-a0a4-e7386458d5db",
   "metadata": {},
   "outputs": [],
   "source": []
  }
 ],
 "metadata": {
  "kernelspec": {
   "display_name": "Python 3 (ipykernel)",
   "language": "python",
   "name": "python3"
  },
  "language_info": {
   "codemirror_mode": {
    "name": "ipython",
    "version": 3
   },
   "file_extension": ".py",
   "mimetype": "text/x-python",
   "name": "python",
   "nbconvert_exporter": "python",
   "pygments_lexer": "ipython3",
   "version": "3.12.5"
  }
 },
 "nbformat": 4,
 "nbformat_minor": 5
}

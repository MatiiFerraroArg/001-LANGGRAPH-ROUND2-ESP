{
 "cells": [
  {
   "cell_type": "markdown",
   "id": "5af04512-3284-410b-bf81-5ed07fa6dcfc",
   "metadata": {},
   "source": [
    "# Aplicación básica de LangGraph con chatbot y tool (herramienta)  \n",
    "* Construiremos una aplicación básica que realiza **4 operaciones**, recordando algunas de las cosas que hicimos con LangChain en el **Generative AI Bootcamp**:  \n",
    "    * Usar mensajes de chat como state.  \n",
    "    * Usar un modelo de chat en un nodo.  \n",
    "    * Vincular una tool al modelo de chat.  \n",
    "    * Ejecutar una llamada a la tool dentro de un nodo."
   ]
  },
  {
   "cell_type": "markdown",
   "id": "079c36e6-341f-409b-98b0-e4ae680b78e6",
   "metadata": {},
   "source": [
    "## Setup"
   ]
  },
  {
   "cell_type": "markdown",
   "id": "871e0018-cba4-4959-881a-0a65093d202d",
   "metadata": {},
   "source": [
    "#### After you download the code from the github repository in your computer\n",
    "In terminal:\n",
    "* cd project_name\n",
    "* pyenv local 3.11.4\n",
    "* poetry install\n",
    "* poetry shell"
   ]
  },
  {
   "cell_type": "markdown",
   "id": "4065e336-d054-412c-8a3f-1fbec63e1bcd",
   "metadata": {},
   "source": [
    "#### To open the notebook with Jupyter Notebooks\n",
    "In terminal:\n",
    "* jupyter lab\n",
    "\n",
    "Go to the folder of notebooks and open the right notebook."
   ]
  },
  {
   "cell_type": "markdown",
   "id": "62dda8d4-80cf-4b8f-9981-94edda5e9911",
   "metadata": {},
   "source": [
    "#### To see the code in Virtual Studio Code or your editor of choice.\n",
    "* open Virtual Studio Code or your editor of choice.\n",
    "* open the project-folder\n",
    "* open the 004-graph-with-chain.py file"
   ]
  },
  {
   "cell_type": "markdown",
   "id": "af743328-1bc8-4b01-85fb-fcb21c6499c2",
   "metadata": {},
   "source": [
    "## Create your .env file\n",
    "* In the github repo we have included a file named .env.example\n",
    "* Rename that file to .env file and here is where you will add your confidential api keys. Remember to include:\n",
    "* OPENAI_API_KEY=your_openai_api_key\n",
    "* LANGCHAIN_TRACING_V2=true\n",
    "* LANGCHAIN_ENDPOINT=https://api.smith.langchain.com\n",
    "* LANGCHAIN_API_KEY=your_langchain_api_key\n",
    "* LANGCHAIN_PROJECT=your_project_name"
   ]
  },
  {
   "cell_type": "markdown",
   "id": "40e766aa-f3e2-491f-be99-d0c6b700d47a",
   "metadata": {},
   "source": [
    "## Track operations\n",
    "From now on, we can track the operations **and the cost** of this project from LangSmith:\n",
    "* [smith.langchain.com](https://smith.langchain.com)"
   ]
  },
  {
   "cell_type": "markdown",
   "id": "4f99504a-1b8f-4360-b342-0b81ffa06aff",
   "metadata": {},
   "source": [
    "## Connect with the .env file located in the same directory of this notebook"
   ]
  },
  {
   "cell_type": "markdown",
   "id": "e39e5789-5bde-42e1-88dd-92dc8e363c24",
   "metadata": {},
   "source": [
    "If you are using the pre-loaded poetry shell, you do not need to install the following package because it is already pre-loaded for you:"
   ]
  },
  {
   "cell_type": "code",
   "execution_count": 1,
   "id": "c5514113-ddca-4ae9-9de6-0b9225b18f3c",
   "metadata": {},
   "outputs": [],
   "source": [
    "#pip install python-dotenv"
   ]
  },
  {
   "cell_type": "code",
   "execution_count": 2,
   "id": "fecd39d0-e72e-4bc2-8a68-2fa4008ea365",
   "metadata": {},
   "outputs": [],
   "source": [
    "import os\n",
    "from dotenv import load_dotenv, find_dotenv\n",
    "_ = load_dotenv(find_dotenv())\n",
    "openai_api_key = os.environ[\"OPENAI_API_KEY\"]"
   ]
  },
  {
   "cell_type": "markdown",
   "id": "03f4a923-b19e-498e-9be5-e47ec4a77d80",
   "metadata": {},
   "source": [
    "#### Install LangChain"
   ]
  },
  {
   "cell_type": "markdown",
   "id": "9fef1e5c-b7e2-4a04-96c5-8f64377b8eba",
   "metadata": {},
   "source": [
    "If you are using the pre-loaded poetry shell, you do not need to install the following package because it is already pre-loaded for you:"
   ]
  },
  {
   "cell_type": "code",
   "execution_count": 3,
   "id": "c1cf94ae-6c39-4475-9c5b-4b74d8d78753",
   "metadata": {},
   "outputs": [],
   "source": [
    "#!pip install langchain"
   ]
  },
  {
   "cell_type": "markdown",
   "id": "189e9e17-dfb0-4fd3-85b9-1fba83771941",
   "metadata": {},
   "source": [
    "## Connect with an LLM"
   ]
  },
  {
   "cell_type": "markdown",
   "id": "b21d23f4-61f5-4227-8a75-7eefde6680ee",
   "metadata": {},
   "source": [
    "If you are using the pre-loaded poetry shell, you do not need to install the following package because it is already pre-loaded for you:"
   ]
  },
  {
   "cell_type": "code",
   "execution_count": 4,
   "id": "148df8e0-361d-4ddd-8709-af48fa1648d1",
   "metadata": {},
   "outputs": [],
   "source": [
    "#!pip install langchain-openai"
   ]
  },
  {
   "cell_type": "code",
   "execution_count": 5,
   "id": "df978ec5-bfd2-4167-bd33-86bc2687d1cb",
   "metadata": {},
   "outputs": [],
   "source": [
    "from langchain_openai import ChatOpenAI\n",
    "\n",
    "chatModel35 = ChatOpenAI(model=\"gpt-3.5-turbo-0125\")\n",
    "chatModel4o = ChatOpenAI(model=\"gpt-4o\")"
   ]
  },
  {
   "cell_type": "markdown",
   "id": "598a3c83-05f4-48da-a289-400da2a4940c",
   "metadata": {},
   "source": [
    "## Construcción de una aplicación (llamada graph en LangGraph) que conversa con un LLM"
   ]
  },
  {
   "cell_type": "markdown",
   "id": "0437b47d-b809-412b-9ac7-6c0bc3d16515",
   "metadata": {},
   "source": [
    "* Aquí tienes una representación gráfica de la aplicación que construiremos:"
   ]
  },
  {
   "cell_type": "markdown",
   "id": "ee6f81f0-93a4-4ea1-99b6-95283dc074f6",
   "metadata": {},
   "source": [
    "![Simple graph](graph002.png)"
   ]
  },
  {
   "cell_type": "markdown",
   "id": "20582816-6275-45ca-8cab-7f923a612cfc",
   "metadata": {},
   "source": [
    "## Definir el State schema"
   ]
  },
  {
   "cell_type": "markdown",
   "id": "2cd56aee-294f-46ae-a1bd-f0044b5ad3d9",
   "metadata": {},
   "source": [
    "* Para este ejemplo, nuestra clase `State` se llamará **MessagesState** y solo tendrá una clave llamada `\"messages\"` con el formato de una lista de **AnyMessages**.  \n",
    "* Cuando ejecutemos la aplicación, queremos agregar mensajes a esta clave de estado `\"messages\"`. Para ello, utilizaremos una **función reducer**.  \n",
    "* Las funciones reducer (a menudo llamadas simplemente **reducers**) nos permiten especificar cómo se actualiza el state.  \n",
    "* Si no se especifica una función reducer, se asume que las actualizaciones de la clave **sobrescriben** el state, como vimos en el ejercicio anterior.  \n",
    "* Para agregar mensajes, podemos usar el **reducer predefinido `add_messages`**. Esto garantiza que cualquier mensaje nuevo se **anexe** a la lista existente de mensajes.  \n",
    "* Para lograr esto, necesitamos **anotar** nuestra clave `\"messages\"` con la función reducer `add_messages` como metadata."
   ]
  },
  {
   "cell_type": "code",
   "execution_count": 17,
   "id": "dfc3e211-9071-4a38-b0a2-8c470ef2c4fb",
   "metadata": {},
   "outputs": [],
   "source": [
    "from typing_extensions import TypedDict\n",
    "from langchain_core.messages import AnyMessage\n",
    "from typing import Annotated\n",
    "from langgraph.graph.message import add_messages\n",
    "\n",
    "class MessagesState(TypedDict):\n",
    "    messages: Annotated[list[AnyMessage], add_messages]"
   ]
  },
  {
   "cell_type": "markdown",
   "id": "1c7d5bcd-16ed-4779-8281-b3133c8f4abd",
   "metadata": {},
   "source": [
    "En términos sencillos, esto es lo que hace el código anterior:\n",
    "\n",
    "#### **Importaciones**  \n",
    "   - **`TypedDict`** (de `typing_extensions`): Permite definir un diccionario con una estructura específica, donde cada clave tiene un tipo predefinido.  \n",
    "   - **`AnyMessage`**: Un módulo de `langchain_core.messages`.  \n",
    "   - **`Annotated`**: Una funcionalidad del módulo `typing` de Python que permite adjuntar metadatos adicionales o contexto a un tipo.  \n",
    "   - **`add_messages`**: Un módulo de `langgraph.graph.message`.  \n",
    "\n",
    "#### **Definición de la clase**  \n",
    "   - **`MessagesState`** es una subclase de `TypedDict`. Esto significa que representa un diccionario donde la estructura (las claves y sus tipos correspondientes) está claramente definida.  \n",
    "   - En este caso, el diccionario tiene una única key:  \n",
    "     - **`messages`**: Una lista de objetos `AnyMessage`.  \n",
    "\n",
    "#### **Tipo Anotado**  \n",
    "   - El tipo de `messages` es `Annotated[list[AnyMessage], add_messages]`.  \n",
    "   - Esto significa que:  \n",
    "     - El valor de `messages` debe ser una **lista de objetos `AnyMessage`**.  \n",
    "     - La anotación **`add_messages`** proporciona funcionalidad adicional para este campo. Se usará el **reducer predefinido `add_messages`** para asegurarse de que los mensajes **se anexen** a la lista existente de mensajes.  \n",
    "\n",
    "#### **¿Qué es `Annotated`?**  \n",
    "`Annotated` es una funcionalidad del módulo `typing` de Python que permite **adjuntar metadatos adicionales** o información a un type.  \n",
    "\n",
    "Esto puede ser utilizado por herramientas, bibliotecas o frameworks para influir en la forma en que se interpreta o procesa el type, **sin cambiar su comportamiento básico**.  \n",
    "\n",
    "En términos simples:  \n",
    "- Es una forma de **agregar \"notas extra\" a un type**, para que otras partes del código o herramientas puedan usar esa información para realizar acciones adicionales.  \n",
    "\n",
    "#### **Sintaxis de `Annotated`**  \n",
    "```python\n",
    "from typing import Annotated\n",
    "\n",
    "# Ejemplo básico\n",
    "x: Annotated[int, \"Este es un metadato\"]\n",
    "```\n",
    "- Aquí, `x` es un entero (`int`), pero tiene **metadata adicional** (`\"Este es un metadato\"`).  \n",
    "- Las herramientas pueden usar esta metadata para agregar funcionalidades como validación o transformación.  \n",
    "\n",
    "#### **Cómo funciona `Annotated` en el código anterior**  \n",
    "```python\n",
    "messages: Annotated[list[AnyMessage], add_messages]\n",
    "```\n",
    "- **El tipo base:** `list[AnyMessage]`  \n",
    "  - Esto significa que `messages` es una **lista que contiene objetos `AnyMessage`**.  \n",
    "\n",
    "- **La anotación (`add_messages`)**:  \n",
    "  - `add_messages` es **información adicional** o **lógica adjunta** al tipo `list[AnyMessage]`.  \n",
    "  - `add_messages` es una **función reducer** que define un comportamiento personalizado para este campo, asegurando que **los nuevos mensajes se anexen a la lista existente** en lugar de sobrescribirla.  \n",
    "\n",
    "#### **¿Por qué usar `Annotated` aquí?**  \n",
    "1. **Agregar comportamiento adicional**:  \n",
    "   - La anotación `add_messages` modifica cómo se maneja la lista `messages`.  \n",
    "2. **Mantener el código limpio**:  \n",
    "   - En lugar de modificar el tipo base `list[AnyMessage]`, la anotación separa la lógica adicional (`add_messages`) de la definición del tipo.  \n",
    "3. **Mejorar la flexibilidad**:  \n",
    "   - Diferentes herramientas o partes de la aplicación pueden **interpretar o actuar** sobre la anotación `add_messages` de formas específicas."
   ]
  },
  {
   "cell_type": "markdown",
   "id": "3e737c42-cf70-4c13-8e07-59280e190d24",
   "metadata": {},
   "source": [
    "## LangGraph tiene una forma simplificada de hacer esto  \n",
    "* Dado que tener una lista de mensajes en el state del graph es algo muy común, LangGraph tiene un **`MessagesState` predefinido**, el cual incluye una key `messages` preconstruida.  \n",
    "* Esta key **`messages`** es una lista de objetos `AnyMessage` y utiliza el **reducer `add_messages`** para asegurarse de que los mensajes se anexen en lugar de sobrescribirse."
   ]
  },
  {
   "cell_type": "markdown",
   "id": "44f06271-294c-4c34-b408-d1c66e6e81eb",
   "metadata": {},
   "source": [
    "Entonces, la forma predeterminada de hacer esto en LangGraph es:"
   ]
  },
  {
   "cell_type": "code",
   "execution_count": 7,
   "id": "a9a55705-f664-416a-ac99-d6bf6a62b5a6",
   "metadata": {},
   "outputs": [],
   "source": [
    "from langgraph.graph import MessagesState\n",
    "\n",
    "class MessagesState(MessagesState):\n",
    "    # Add any keys needed beyond messages, which is pre-built \n",
    "    pass"
   ]
  },
  {
   "cell_type": "markdown",
   "id": "37f9e141-062b-47fb-b7b2-626bc3855e1c",
   "metadata": {},
   "source": [
    "## Definir el único nodo de esta aplicación  \n",
    "* Los nodos se definen como funciones.  \n",
    "* El primer argumento en una función de nodo es el state. En este ejercicio, cada nodo puede acceder a la clave `messages` con `state['messages']`.  \n",
    "* En este ejemplo, solo tenemos un nodo.  \n",
    "* **Observa que estamos usando `chatModel4o`, que definimos previamente**. Si lo prefieres, puedes usar `chatModel35` en su lugar."
   ]
  },
  {
   "cell_type": "code",
   "execution_count": 8,
   "id": "3aa42b34-a6d4-4849-8cec-d415ae8a1016",
   "metadata": {},
   "outputs": [],
   "source": [
    "# Node with a chatbot\n",
    "def simple_llm(state: MessagesState):\n",
    "    return {\"messages\": [chatModel4o.invoke(state[\"messages\"])]}"
   ]
  },
  {
   "cell_type": "markdown",
   "id": "a94cf8a9-0b57-4594-b4b9-c98f9c006d59",
   "metadata": {},
   "source": [
    "## Como en este ejemplo solo tenemos un nodo, no es necesario definir edges."
   ]
  },
  {
   "cell_type": "markdown",
   "id": "4b899002-2c7e-459a-a3dd-f3681749f09a",
   "metadata": {},
   "source": [
    "## Construir la aplicación  \n",
    "* Primero, inicializamos un **StateGraph** con la clase **`MessagesState`** que definimos anteriormente.  \n",
    "* Luego, añadimos el único nodo.  \n",
    "* El nodo **`START`** es un nodo especial que envía la entrada del usuario al gráfico, indicando dónde comienza nuestro flujo.  \n",
    "* El nodo **`END`** es un nodo especial que representa un nodo terminal.  \n",
    "* Compilamos nuestro gráfico para realizar algunas verificaciones básicas en su estructura.  \n",
    "* Finalmente, visualizamos el gráfico como un [diagrama Mermaid](https://github.com/mermaid-js/mermaid)."
   ]
  },
  {
   "cell_type": "code",
   "execution_count": 9,
   "id": "230dc61f-11af-47e5-a078-90b358bc53e9",
   "metadata": {},
   "outputs": [
    {
     "data": {
      "image/png": "[encoded data removed]",
      "text/plain": [
       "<IPython.core.display.Image object>"
      ]
     },
     "metadata": {},
     "output_type": "display_data"
    }
   ],
   "source": [
    "from IPython.display import Image, display\n",
    "from langgraph.graph import StateGraph, START, END\n",
    "    \n",
    "# Build graph\n",
    "builder = StateGraph(MessagesState)\n",
    "\n",
    "builder.add_node(\"simple_llm\", simple_llm)\n",
    "\n",
    "# Add the logic of the graph\n",
    "builder.add_edge(START, \"simple_llm\")\n",
    "builder.add_edge(\"simple_llm\", END)\n",
    "\n",
    "# Compile the graph\n",
    "graph = builder.compile()\n",
    "\n",
    "# Visualize the graph\n",
    "display(Image(graph.get_graph().draw_mermaid_png()))"
   ]
  },
  {
   "cell_type": "markdown",
   "id": "3ae84ae0-ea1a-4e53-8b4e-08070e569671",
   "metadata": {},
   "source": [
    "## Ejecutar la aplicación  \n",
    "* El graph compilado implementa el **protocolo runnable**, una forma estándar de ejecutar componentes de LangChain. Gracias a esto, podemos usar `invoke` como uno de los métodos estándar para ejecutar esta aplicación.  \n",
    "* Nuestra entrada inicial es un diccionario:  \n",
    "  ```python\n",
    "  {\"messages\": HumanMessage(content=\"Where is the Golden Gate Bridge?\")}\n",
    "  ```\n",
    "  Esto establece el valor inicial del diccionario de estado.  \n",
    "* Cuando se llama a `invoke`:  \n",
    "    * El gráfico comienza la ejecución desde el nodo **`START`**.  \n",
    "    * Progresa a través del nodo definido.  \n",
    "    * La ejecución continúa hasta que alcanza el nodo **`END`**."
   ]
  },
  {
   "cell_type": "code",
   "execution_count": 11,
   "id": "cf4397bb-6539-4abb-8aef-7d90e34b49a4",
   "metadata": {},
   "outputs": [
    {
     "name": "stdout",
     "output_type": "stream",
     "text": [
      "================================\u001b[1m Human Message \u001b[0m=================================\n",
      "\n",
      "Where is the Golden Gate Bridge?\n",
      "==================================\u001b[1m Ai Message \u001b[0m==================================\n",
      "\n",
      "The Golden Gate Bridge is located in San Francisco, California, USA. It spans the Golden Gate Strait, the entrance to San Francisco Bay from the Pacific Ocean, connecting the city of San Francisco to Marin County.\n"
     ]
    }
   ],
   "source": [
    "from pprint import pprint\n",
    "from langchain_core.messages import AIMessage, HumanMessage\n",
    "\n",
    "# The following two lines are the most frequent way to \n",
    "# run and print a LangGraph chatbot-like app results.\n",
    "messages = graph.invoke({\"messages\": HumanMessage(content=\"Where is the Golden Gate Bridge?\")})\n",
    "\n",
    "for m in messages['messages']:\n",
    "    m.pretty_print()"
   ]
  },
  {
   "cell_type": "markdown",
   "id": "950ff02a-64ab-402b-9da4-98f75de6aab3",
   "metadata": {},
   "source": [
    "* Como puedes ver, nuestra aplicación pudo conversar con el LLM."
   ]
  },
  {
   "cell_type": "markdown",
   "id": "c3b7512a-1fa2-4594-b175-a0f840b479a9",
   "metadata": {},
   "source": [
    "![Simple graph](graph002.png)"
   ]
  },
  {
   "cell_type": "markdown",
   "id": "43b073c3-98a4-4e37-ac2b-432147e1cc91",
   "metadata": {},
   "source": [
    "## Ahora agreguemos una herramienta a nuestro `ChatModel4o`"
   ]
  },
  {
   "cell_type": "code",
   "execution_count": 12,
   "id": "d6cea16f-3083-4c2d-9b9d-da69453d2ed7",
   "metadata": {},
   "outputs": [],
   "source": [
    "def multiply(a: int, b: int) -> int:\n",
    "    \"\"\"Multiply a and b.\n",
    "\n",
    "    Args:\n",
    "        a: first int\n",
    "        b: second int\n",
    "    \"\"\"\n",
    "    return a * b\n",
    "\n",
    "chatModel4o_with_tools = chatModel4o.bind_tools([multiply])"
   ]
  },
  {
   "cell_type": "markdown",
   "id": "18576c66-9269-4db6-b0e4-7ddd664f31ea",
   "metadata": {},
   "source": [
    "## Ahora crearemos una segunda aplicación de LangGraph que pueda decidir si usa el chatbot LLM o la herramienta de multiplicación para responder a una pregunta del usuario."
   ]
  },
  {
   "cell_type": "code",
   "execution_count": 13,
   "id": "5d33b8ab-a6bd-42f6-8610-753b957ccabc",
   "metadata": {},
   "outputs": [],
   "source": [
    "# Node\n",
    "def llm_with_tool(state: MessagesState):\n",
    "    return {\"messages\": [chatModel4o_with_tools.invoke(state[\"messages\"])]}"
   ]
  },
  {
   "cell_type": "code",
   "execution_count": 14,
   "id": "1ad1a571-639f-49d2-a8b1-373f60bdd0cd",
   "metadata": {},
   "outputs": [
    {
     "data": {
      "image/png": "[encoded data removed]",
      "text/plain": [
       "<IPython.core.display.Image object>"
      ]
     },
     "metadata": {},
     "output_type": "display_data"
    }
   ],
   "source": [
    "from IPython.display import Image, display\n",
    "from langgraph.graph import StateGraph, START, END\n",
    "    \n",
    "# Build graph\n",
    "builder = StateGraph(MessagesState)\n",
    "\n",
    "builder.add_node(\"llm_with_tool\", llm_with_tool)\n",
    "\n",
    "# Add the logic of the graph\n",
    "builder.add_edge(START, \"llm_with_tool\")\n",
    "builder.add_edge(\"llm_with_tool\", END)\n",
    "\n",
    "# Compile the graph\n",
    "graph = builder.compile()\n",
    "\n",
    "# Visualize the graph\n",
    "display(Image(graph.get_graph().draw_mermaid_png()))"
   ]
  },
  {
   "cell_type": "code",
   "execution_count": 15,
   "id": "9cc9f0fc-e1ee-4e56-90c5-85b4123a358f",
   "metadata": {},
   "outputs": [
    {
     "name": "stdout",
     "output_type": "stream",
     "text": [
      "================================\u001b[1m Human Message \u001b[0m=================================\n",
      "\n",
      "Where is the Eiffel Tower?\n",
      "==================================\u001b[1m Ai Message \u001b[0m==================================\n",
      "\n",
      "The Eiffel Tower is located in Paris, France. It is situated on the Champ de Mars, near the Seine River.\n"
     ]
    }
   ],
   "source": [
    "from pprint import pprint\n",
    "from langchain_core.messages import AIMessage, HumanMessage\n",
    "\n",
    "# The following two lines are the most frequent way to \n",
    "# run and print a LangGraph chatbot-like app results.\n",
    "messages = graph.invoke({\"messages\": HumanMessage(content=\"Where is the Eiffel Tower?\")})\n",
    "\n",
    "for m in messages['messages']:\n",
    "    m.pretty_print()"
   ]
  },
  {
   "cell_type": "code",
   "execution_count": 16,
   "id": "09182711-2709-4988-ba86-4dc281401a6b",
   "metadata": {},
   "outputs": [
    {
     "name": "stdout",
     "output_type": "stream",
     "text": [
      "================================\u001b[1m Human Message \u001b[0m=================================\n",
      "\n",
      "Multiply 4 and 5\n",
      "==================================\u001b[1m Ai Message \u001b[0m==================================\n",
      "Tool Calls:\n",
      "  multiply (call_QRyPmp5TdcIlfEOyBrJ9E7V5)\n",
      " Call ID: call_QRyPmp5TdcIlfEOyBrJ9E7V5\n",
      "  Args:\n",
      "    a: 4\n",
      "    b: 5\n"
     ]
    }
   ],
   "source": [
    "from pprint import pprint\n",
    "from langchain_core.messages import AIMessage, HumanMessage\n",
    "\n",
    "# The following two lines are the most frequent way to \n",
    "# run and print a LangGraph chatbot-like app results.\n",
    "messages = graph.invoke({\"messages\": HumanMessage(content=\"Multiply 4 and 5\")})\n",
    "\n",
    "for m in messages['messages']:\n",
    "    m.pretty_print()"
   ]
  },
  {
   "cell_type": "markdown",
   "id": "f11cd626-d17e-4f2e-8ee5-add7f0c498b7",
   "metadata": {},
   "source": [
    "#### Esta segunda aplicación tiene un comportamiento agentivo  \n",
    "* Porque, dependiendo de la entrada, el LLM decide qué opción tomar:  \n",
    "    * **Opción A**: responder con el chatbot LLM.  \n",
    "    * **Opción B**: responder con la herramienta \"Multiply\".  \n",
    "* Esto es lo que se conoce como **\"comportamiento agentivo\"** (agentic behavior): el LLM toma algunas decisiones por sí mismo."
   ]
  },
  {
   "cell_type": "markdown",
   "id": "07a4e6af-da90-48d2-a1af-81b46b732d1b",
   "metadata": {},
   "source": [
    "## Cómo ejecutar el código desde Visual Studio Code  \n",
    "* En Visual Studio Code, abre el archivo **`004-graph-with-chain.py`**.  \n",
    "* En la terminal, asegúrate de estar en el directorio del archivo y ejecuta:  \n",
    "    * ```bash\n",
    "      python 004-graph-with-chain.py\n",
    "      ```"
   ]
  },
  {
   "cell_type": "code",
   "execution_count": null,
   "id": "ad16e8dd-0fb9-4e38-9048-4a5ab563470c",
   "metadata": {},
   "outputs": [],
   "source": []
  }
 ],
 "metadata": {
  "kernelspec": {
   "display_name": "Python 3 (ipykernel)",
   "language": "python",
   "name": "python3"
  },
  "language_info": {
   "codemirror_mode": {
    "name": "ipython",
    "version": 3
   },
   "file_extension": ".py",
   "mimetype": "text/x-python",
   "name": "python",
   "nbconvert_exporter": "python",
   "pygments_lexer": "ipython3",
   "version": "3.12.5"
  }
 },
 "nbformat": 4,
 "nbformat_minor": 5
}

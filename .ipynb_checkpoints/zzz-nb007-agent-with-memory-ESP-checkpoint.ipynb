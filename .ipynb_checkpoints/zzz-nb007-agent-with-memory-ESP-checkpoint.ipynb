{
 "cells": [
  {
   "cell_type": "markdown",
   "id": "d9afb83d-e14c-4e3f-861b-db38f8ca5669",
   "metadata": {},
   "source": [
    "# Agente Básico con Memoria  \n",
    "* **Objetivo**: construiremos una aplicación similar a la del ejercicio anterior, pero en este caso **añadiremos memoria**:  \n",
    "    * **act** - el LLM llama a una herramienta.  \n",
    "    * **observe** - la herramienta devuelve la salida al LLM.  \n",
    "    * **reason** - el LLM decide qué hacer a continuación (llamar otra herramienta o responder directamente).  \n",
    "    * **persist state** - usamos un checkpointer en memoria para admitir conversaciones de larga duración con interrupciones."
   ]
  },
  {
   "cell_type": "markdown",
   "id": "01911426-9083-45d7-966f-52a755633d57",
   "metadata": {},
   "source": [
    "## Setup"
   ]
  },
  {
   "cell_type": "markdown",
   "id": "871e0018-cba4-4959-881a-0a65093d202d",
   "metadata": {},
   "source": [
    "#### After you download the code from the github repository in your computer\n",
    "In terminal:\n",
    "* cd project_name\n",
    "* pyenv local 3.11.4\n",
    "* poetry install\n",
    "* poetry shell"
   ]
  },
  {
   "cell_type": "markdown",
   "id": "4065e336-d054-412c-8a3f-1fbec63e1bcd",
   "metadata": {},
   "source": [
    "#### To open the notebook with Jupyter Notebooks\n",
    "In terminal:\n",
    "* jupyter lab\n",
    "\n",
    "Go to the folder of notebooks and open the right notebook."
   ]
  },
  {
   "cell_type": "markdown",
   "id": "62dda8d4-80cf-4b8f-9981-94edda5e9911",
   "metadata": {},
   "source": [
    "#### To see the code in Virtual Studio Code or your editor of choice.\n",
    "* open Virtual Studio Code or your editor of choice.\n",
    "* open the project-folder\n",
    "* open the 007-agent-with-memory.py file"
   ]
  },
  {
   "cell_type": "markdown",
   "id": "af743328-1bc8-4b01-85fb-fcb21c6499c2",
   "metadata": {},
   "source": [
    "## Create your .env file\n",
    "* In the github repo we have included a file named .env.example\n",
    "* Rename that file to .env file and here is where you will add your confidential api keys. Remember to include:\n",
    "* OPENAI_API_KEY=your_openai_api_key\n",
    "* LANGCHAIN_TRACING_V2=true\n",
    "* LANGCHAIN_ENDPOINT=https://api.smith.langchain.com\n",
    "* LANGCHAIN_API_KEY=your_langchain_api_key\n",
    "* LANGCHAIN_PROJECT=your_project_name"
   ]
  },
  {
   "cell_type": "markdown",
   "id": "40e766aa-f3e2-491f-be99-d0c6b700d47a",
   "metadata": {},
   "source": [
    "## Track operations\n",
    "From now on, we can track the operations **and the cost** of this project from LangSmith:\n",
    "* [smith.langchain.com](https://smith.langchain.com)"
   ]
  },
  {
   "cell_type": "markdown",
   "id": "4f99504a-1b8f-4360-b342-0b81ffa06aff",
   "metadata": {},
   "source": [
    "## Connect with the .env file located in the same directory of this notebook"
   ]
  },
  {
   "cell_type": "markdown",
   "id": "e39e5789-5bde-42e1-88dd-92dc8e363c24",
   "metadata": {},
   "source": [
    "If you are using the pre-loaded poetry shell, you do not need to install the following package because it is already pre-loaded for you:"
   ]
  },
  {
   "cell_type": "code",
   "execution_count": 1,
   "id": "c5514113-ddca-4ae9-9de6-0b9225b18f3c",
   "metadata": {},
   "outputs": [],
   "source": [
    "#pip install python-dotenv"
   ]
  },
  {
   "cell_type": "code",
   "execution_count": 2,
   "id": "fecd39d0-e72e-4bc2-8a68-2fa4008ea365",
   "metadata": {},
   "outputs": [],
   "source": [
    "import os\n",
    "from dotenv import load_dotenv, find_dotenv\n",
    "_ = load_dotenv(find_dotenv())\n",
    "openai_api_key = os.environ[\"OPENAI_API_KEY\"]"
   ]
  },
  {
   "cell_type": "markdown",
   "id": "03f4a923-b19e-498e-9be5-e47ec4a77d80",
   "metadata": {},
   "source": [
    "#### Install LangChain"
   ]
  },
  {
   "cell_type": "markdown",
   "id": "9fef1e5c-b7e2-4a04-96c5-8f64377b8eba",
   "metadata": {},
   "source": [
    "If you are using the pre-loaded poetry shell, you do not need to install the following package because it is already pre-loaded for you:"
   ]
  },
  {
   "cell_type": "code",
   "execution_count": 3,
   "id": "c1cf94ae-6c39-4475-9c5b-4b74d8d78753",
   "metadata": {},
   "outputs": [],
   "source": [
    "#!pip install langchain"
   ]
  },
  {
   "cell_type": "markdown",
   "id": "189e9e17-dfb0-4fd3-85b9-1fba83771941",
   "metadata": {},
   "source": [
    "## Connect with an LLM"
   ]
  },
  {
   "cell_type": "markdown",
   "id": "b21d23f4-61f5-4227-8a75-7eefde6680ee",
   "metadata": {},
   "source": [
    "If you are using the pre-loaded poetry shell, you do not need to install the following package because it is already pre-loaded for you:"
   ]
  },
  {
   "cell_type": "code",
   "execution_count": 4,
   "id": "148df8e0-361d-4ddd-8709-af48fa1648d1",
   "metadata": {},
   "outputs": [],
   "source": [
    "#!pip install langchain-openai"
   ]
  },
  {
   "cell_type": "code",
   "execution_count": 5,
   "id": "df978ec5-bfd2-4167-bd33-86bc2687d1cb",
   "metadata": {},
   "outputs": [],
   "source": [
    "from langchain_openai import ChatOpenAI\n",
    "\n",
    "chatModel35 = ChatOpenAI(model=\"gpt-3.5-turbo-0125\")\n",
    "chatModel4o = ChatOpenAI(model=\"gpt-4o\")"
   ]
  },
  {
   "cell_type": "markdown",
   "id": "cca6e5f0-3ec7-44aa-a202-bebaff0a7caf",
   "metadata": {},
   "source": [
    "## LLM con varias herramientas (tools)"
   ]
  },
  {
   "cell_type": "code",
   "execution_count": 6,
   "id": "ea28472d-5ddb-4a56-8978-92fbcf6a0e03",
   "metadata": {},
   "outputs": [],
   "source": [
    "from langchain_openai import ChatOpenAI\n",
    "\n",
    "def multiply(a: int, b: int) -> int:\n",
    "    \"\"\"Multiply a and b.\n",
    "\n",
    "    Args:\n",
    "        a: first int\n",
    "        b: second int\n",
    "    \"\"\"\n",
    "    return a * b\n",
    "\n",
    "def add(a: int, b: int) -> int:\n",
    "    \"\"\"Adds a and b.\n",
    "\n",
    "    Args:\n",
    "        a: first int\n",
    "        b: second int\n",
    "    \"\"\"\n",
    "    return a + b\n",
    "\n",
    "def divide(a: int, b: int) -> float:\n",
    "    \"\"\"Divide a and b.\n",
    "\n",
    "    Args:\n",
    "        a: first int\n",
    "        b: second int\n",
    "    \"\"\"\n",
    "    return a / b\n",
    "\n",
    "tools = [add, multiply, divide]\n",
    "\n",
    "# For this notebook we set parallel tool calling to false\n",
    "# as math generally is done sequentially.\n",
    "# The OpenAI model defaults to parallel tool calling for efficiency.\n",
    "# You can learn more at https://python.langchain.com/docs/how_to/tool_calling_parallel/\n",
    "llm_with_tools = chatModel4o.bind_tools(tools, parallel_tool_calls=False)"
   ]
  },
  {
   "cell_type": "markdown",
   "id": "b3eeae4e-5a07-4394-b4a7-7ebc6ae9d6b9",
   "metadata": {},
   "source": [
    "## Construcción de una aplicación (llamada \"graph\" en LangGraph) que decide si responde la pregunta del usuario usando un chatbot o una herramienta"
   ]
  },
  {
   "cell_type": "markdown",
   "id": "7e98ed3b-1eab-4f49-81ef-e41ab39f7715",
   "metadata": {},
   "source": [
    "* Aquí tienes una representación gráfica de la aplicación que construiremos:"
   ]
  },
  {
   "cell_type": "markdown",
   "id": "8d732b59-098b-4159-aef0-4dc55529c951",
   "metadata": {},
   "source": [
    "![Simple graph](graph003.png)"
   ]
  },
  {
   "cell_type": "markdown",
   "id": "163227f2-8454-4b3f-909a-7368de9ae1e9",
   "metadata": {},
   "source": [
    "## Definir el State schema"
   ]
  },
  {
   "cell_type": "markdown",
   "id": "28dd4214-7da2-4a79-b75c-2a27ecbca2f6",
   "metadata": {},
   "source": [
    "* Para este ejemplo, usaremos el mismo `MessagesState` que usamos en el ejercicio anterior:"
   ]
  },
  {
   "cell_type": "code",
   "execution_count": 7,
   "id": "8e1429c4-a5af-4571-a8a8-fb80ab707e75",
   "metadata": {},
   "outputs": [],
   "source": [
    "from langgraph.graph import MessagesState\n",
    "\n",
    "class MessagesState(MessagesState):\n",
    "    # Add any keys needed beyond messages, which is pre-built \n",
    "    pass"
   ]
  },
  {
   "cell_type": "markdown",
   "id": "3047b128-1bf9-418e-88c7-c85fb318da4c",
   "metadata": {},
   "source": [
    "## Definir el primer Nodo\n",
    "* Los nodos de un graph se definen como funciones en Python.  \n",
    "* El primer argumento de una función de nodo es el state. Debido a esto, en este ejercicio cada nodo puede acceder a la clave `messages` con `state['messages']`.  \n",
    "* En este ejemplo, comenzaremos con un nodo similar al que creamos en el ejercicio anterior, **pero esta vez con un `SystemMessage`**:"
   ]
  },
  {
   "cell_type": "code",
   "execution_count": 8,
   "id": "d1dc7098-5306-4fcd-9cbf-6d0d6fe6e7a1",
   "metadata": {},
   "outputs": [],
   "source": [
    "from langgraph.graph import MessagesState\n",
    "from langchain_core.messages import HumanMessage, SystemMessage\n",
    "\n",
    "# System message\n",
    "sys_msg = SystemMessage(content=\"You are a helpful assistant tasked with performing arithmetic on a set of inputs.\")\n",
    "\n",
    "# Node\n",
    "def assistant(state: MessagesState):\n",
    "   return {\"messages\": [llm_with_tools.invoke([sys_msg] + state[\"messages\"])]}"
   ]
  },
  {
   "cell_type": "markdown",
   "id": "38e15f73-8da6-4871-b011-f1457a4a4efd",
   "metadata": {},
   "source": [
    "## Combinar Nodos y Edges para construir el Graph  \n",
    "* Primero, inicializamos un `StateGraph` con la clase `MessagesState` que definimos anteriormente.  \n",
    "* Luego, agregamos nuestros nodos y edges.  \n",
    "* El nodo `START` es un nodo especial que envía la entrada del usuario al gráfico, indicando dónde debe comenzar.  \n",
    "* **Observa cómo estamos utilizando el componente incorporado `ToolNode` de LangGraph para crear el nodo de herramientas llamado \"tools\"**.  \n",
    "    * Usamos `ToolNode` para llamar a la herramienta.  \n",
    "* **Observa cómo agregamos el edge condicional con el componente incorporado `tools_condition` de LangGraph como nuestro router**.  \n",
    "* **La principal diferencia entre esta aplicación y la anterior es que aquí el nodo de herramientas responde al asistente en lugar de ir directamente al nodo `END`**.  \n",
    "    * Esto es lo que se conoce como la arquitectura ReAct: el LLM sigue utilizando las herramientas hasta obtener una respuesta satisfactoria.  \n",
    "        * **act** - el LLM llama a una herramienta.  \n",
    "        * **observe** - la herramienta devuelve la salida al LLM.  \n",
    "        * **reason** - el LLM decide qué hacer a continuación (llamar otra herramienta o responder directamente).  \n",
    "* **Observa cómo no tenemos un nodo `END`**.  \n",
    "* Compilamos nuestro gráfico para realizar algunas comprobaciones básicas en su estructura.  \n",
    "* Finalmente, visualizamos el gráfico como un [diagrama Mermaid](https://github.com/mermaid-js/mermaid)."
   ]
  },
  {
   "cell_type": "code",
   "execution_count": 15,
   "id": "169e59d2-4e50-494a-aa62-47756c97a553",
   "metadata": {},
   "outputs": [
    {
     "data": {
      "image/png": "[encoded data removed]",
      "text/plain": [
       "<IPython.core.display.Image object>"
      ]
     },
     "metadata": {},
     "output_type": "display_data"
    }
   ],
   "source": [
    "from langgraph.graph import START, StateGraph\n",
    "from langgraph.prebuilt import tools_condition\n",
    "from langgraph.prebuilt import ToolNode\n",
    "from IPython.display import Image, display\n",
    "\n",
    "# Build graph\n",
    "builder = StateGraph(MessagesState)\n",
    "\n",
    "builder.add_node(\"assistant\", assistant)\n",
    "builder.add_node(\"tools\", ToolNode(tools))\n",
    "\n",
    "# Add the logic of the graph\n",
    "builder.add_edge(START, \"assistant\")\n",
    "\n",
    "builder.add_conditional_edges(\n",
    "    \"assistant\",\n",
    "    # If the latest message (result) from assistant is a tool call -> tools_condition routes to tools\n",
    "    # If the latest message (result) from assistant is a not a tool call -> tools_condition routes to END\n",
    "    tools_condition,\n",
    ")\n",
    "\n",
    "# PAY ATTENTION HERE: from the tools node, back to the assistant\n",
    "builder.add_edge(\"tools\", \"assistant\")\n",
    "\n",
    "# PAY ATTENTION: No END edgge.\n",
    "\n",
    "# Compile the graph\n",
    "react_graph = builder.compile()\n",
    "\n",
    "# Visualize the graph\n",
    "display(Image(react_graph.get_graph(xray=True).draw_mermaid_png()))"
   ]
  },
  {
   "cell_type": "markdown",
   "id": "200da8ae-ad82-4494-84c1-436693ae194e",
   "metadata": {},
   "source": [
    "## Ejecutar la aplicación. ¿Puede recordar tu entrada anterior?  \n",
    "* El gráfico compilado implementa el protocolo `runnable`, una forma estándar de ejecutar componentes de LangChain. Debido a esto, podemos usar `invoke` como uno de los métodos estándar para ejecutar esta aplicación."
   ]
  },
  {
   "cell_type": "code",
   "execution_count": 10,
   "id": "38d9f6a2-ab17-4bc3-91a0-900af51b3f0b",
   "metadata": {},
   "outputs": [
    {
     "name": "stdout",
     "output_type": "stream",
     "text": [
      "================================\u001b[1m Human Message \u001b[0m=================================\n",
      "\n",
      "Add 3 and 4.\n",
      "==================================\u001b[1m Ai Message \u001b[0m==================================\n",
      "Tool Calls:\n",
      "  add (call_AKxpCcslEcimrNFvBEWZ2Ru3)\n",
      " Call ID: call_AKxpCcslEcimrNFvBEWZ2Ru3\n",
      "  Args:\n",
      "    a: 3\n",
      "    b: 4\n",
      "=================================\u001b[1m Tool Message \u001b[0m=================================\n",
      "Name: add\n",
      "\n",
      "7\n",
      "==================================\u001b[1m Ai Message \u001b[0m==================================\n",
      "\n",
      "The sum of 3 and 4 is 7.\n"
     ]
    }
   ],
   "source": [
    "messages = [HumanMessage(content=\"Add 3 and 4.\")]\n",
    "\n",
    "messages = react_graph.invoke({\"messages\": messages})\n",
    "\n",
    "for m in messages['messages']:\n",
    "    m.pretty_print()"
   ]
  },
  {
   "cell_type": "code",
   "execution_count": 11,
   "id": "d9bd5b31-2f9f-4154-86b8-82a008355ce0",
   "metadata": {},
   "outputs": [
    {
     "name": "stdout",
     "output_type": "stream",
     "text": [
      "================================\u001b[1m Human Message \u001b[0m=================================\n",
      "\n",
      "Multiply that by 2.\n",
      "==================================\u001b[1m Ai Message \u001b[0m==================================\n",
      "\n",
      "I need a specific number to multiply by 2. Could you please provide the number you want to multiply?\n"
     ]
    }
   ],
   "source": [
    "messages = [HumanMessage(content=\"Multiply that by 2.\")]\n",
    "\n",
    "messages = react_graph.invoke({\"messages\": messages})\n",
    "\n",
    "for m in messages['messages']:\n",
    "    m.pretty_print()"
   ]
  },
  {
   "cell_type": "markdown",
   "id": "5b45cd01-3a0a-4c44-89b2-d206710bc4d4",
   "metadata": {},
   "source": [
    "* **Como puedes ver, la aplicación no recuerda el input/output anterior, por lo que no puede realizar la última tarea correctamente.**"
   ]
  },
  {
   "cell_type": "markdown",
   "id": "e90ec980-74e7-42dc-8952-e1bc15bdeb9e",
   "metadata": {},
   "source": [
    "## Agregando Memoria  \n",
    "* LangGraph puede usar el checkpointer `MemorySaver` para guardar automáticamente el estado del graph después de cada paso.  \n",
    "* ¿Recuerdas los checkpoints que vimos cuando estudiamos Cursor AI en el **Generative AI Bootcamp**? Este es un concepto similar:  \n",
    "    * El checkpointer guarda el estado en cada paso.  \n",
    "    * Los checkpoints se guardan en un thread.  \n",
    "    * Podemos acceder a un thread utilizando el `thread_id`.  \n",
    "* Todo lo que necesitamos hacer es simplemente compilar el graph con el checkpointer:"
   ]
  },
  {
   "cell_type": "code",
   "execution_count": 12,
   "id": "27a42810-69ea-4d54-b056-d5b99af003dc",
   "metadata": {},
   "outputs": [],
   "source": [
    "from langgraph.checkpoint.memory import MemorySaver\n",
    "\n",
    "memory = MemorySaver()\n",
    "\n",
    "# PAY ATTENTION HERE: see how we include the checkpointer\n",
    "react_graph_memory = builder.compile(checkpointer=memory)"
   ]
  },
  {
   "cell_type": "markdown",
   "id": "af62c35c-036a-4de7-919c-1c8aa054412c",
   "metadata": {},
   "source": [
    "* **Cuando usamos memoria, necesitamos especificar un `thread_id`**. Este `thread_id` almacenará nuestra collection de states.  \n",
    "    * Si lo recuerdas, utilizamos un enfoque muy similar cuando trabajamos con LangChain en el **Generative AI Bootcamp**."
   ]
  },
  {
   "cell_type": "code",
   "execution_count": 13,
   "id": "de4d463f-e2a8-4d49-a3d0-48513732634b",
   "metadata": {},
   "outputs": [
    {
     "name": "stdout",
     "output_type": "stream",
     "text": [
      "================================\u001b[1m Human Message \u001b[0m=================================\n",
      "\n",
      "Add 3 and 4.\n",
      "==================================\u001b[1m Ai Message \u001b[0m==================================\n",
      "Tool Calls:\n",
      "  add (call_7lH6zvBw4rMeTG3Zu66i53eW)\n",
      " Call ID: call_7lH6zvBw4rMeTG3Zu66i53eW\n",
      "  Args:\n",
      "    a: 3\n",
      "    b: 4\n",
      "=================================\u001b[1m Tool Message \u001b[0m=================================\n",
      "Name: add\n",
      "\n",
      "7\n",
      "==================================\u001b[1m Ai Message \u001b[0m==================================\n",
      "\n",
      "The sum of 3 and 4 is 7.\n"
     ]
    }
   ],
   "source": [
    "# PAY ATTENTION HERE: see how we specify a thread\n",
    "config = {\"configurable\": {\"thread_id\": \"1\"}}\n",
    "\n",
    "# Enter the input\n",
    "messages = [HumanMessage(content=\"Add 3 and 4.\")]\n",
    "\n",
    "# PAY ATTENTION HERE: see how we add config to referr to the thread_id\n",
    "messages = react_graph_memory.invoke({\"messages\": messages},config)\n",
    "\n",
    "for m in messages['messages']:\n",
    "    m.pretty_print()"
   ]
  },
  {
   "cell_type": "markdown",
   "id": "3d485152-f46d-47a4-8e95-9137af83c01b",
   "metadata": {},
   "source": [
    "* **Si mantenemos la misma configuración, la conversación anterior se captura en el state del thread**.  \n",
    "* El `HumanMessage` que pasamos a continuación (\"Multiply that by 2.\") se añadirá a la conversación anterior. Así, el modelo ahora sabe que \"that\" en nuestra última entrada se refiere a \"The sum of 3 and 4 is 7\"."
   ]
  },
  {
   "cell_type": "code",
   "execution_count": 14,
   "id": "2a13ba57-d684-4233-a424-b8b4acb53198",
   "metadata": {},
   "outputs": [
    {
     "name": "stdout",
     "output_type": "stream",
     "text": [
      "================================\u001b[1m Human Message \u001b[0m=================================\n",
      "\n",
      "Add 3 and 4.\n",
      "==================================\u001b[1m Ai Message \u001b[0m==================================\n",
      "Tool Calls:\n",
      "  add (call_7lH6zvBw4rMeTG3Zu66i53eW)\n",
      " Call ID: call_7lH6zvBw4rMeTG3Zu66i53eW\n",
      "  Args:\n",
      "    a: 3\n",
      "    b: 4\n",
      "=================================\u001b[1m Tool Message \u001b[0m=================================\n",
      "Name: add\n",
      "\n",
      "7\n",
      "==================================\u001b[1m Ai Message \u001b[0m==================================\n",
      "\n",
      "The sum of 3 and 4 is 7.\n",
      "================================\u001b[1m Human Message \u001b[0m=================================\n",
      "\n",
      "Multiply that by 2.\n",
      "==================================\u001b[1m Ai Message \u001b[0m==================================\n",
      "Tool Calls:\n",
      "  multiply (call_x3tKpGBsTHUCbVwzBr3PiNn1)\n",
      " Call ID: call_x3tKpGBsTHUCbVwzBr3PiNn1\n",
      "  Args:\n",
      "    a: 7\n",
      "    b: 2\n",
      "=================================\u001b[1m Tool Message \u001b[0m=================================\n",
      "Name: multiply\n",
      "\n",
      "14\n",
      "==================================\u001b[1m Ai Message \u001b[0m==================================\n",
      "\n",
      "The result of multiplying 7 by 2 is 14.\n"
     ]
    }
   ],
   "source": [
    "# PAY ATTENTION HERE: see how we check if the app has memory\n",
    "messages = [HumanMessage(content=\"Multiply that by 2.\")]\n",
    "\n",
    "# Again, see how we use config here to referr to the thread_id\n",
    "messages = react_graph_memory.invoke({\"messages\": messages}, config)\n",
    "\n",
    "for m in messages['messages']:\n",
    "    m.pretty_print()"
   ]
  },
  {
   "cell_type": "markdown",
   "id": "e2a63ec4-e41a-4ecf-b8e8-85b4cdf59da8",
   "metadata": {},
   "source": [
    "## Cómo ejecutar el código desde Visual Studio Code  \n",
    "* En Visual Studio Code, busca el archivo `007-agent-with-memory.py`.  \n",
    "* En la terminal, asegúrate de estar en el directorio del archivo y ejecuta:  \n",
    "    * `python 007-agent-with-memory.py`"
   ]
  },
  {
   "cell_type": "code",
   "execution_count": null,
   "id": "3656135a-fbf7-43fa-8baa-767f0a568d74",
   "metadata": {},
   "outputs": [],
   "source": []
  }
 ],
 "metadata": {
  "kernelspec": {
   "display_name": "Python 3 (ipykernel)",
   "language": "python",
   "name": "python3"
  },
  "language_info": {
   "codemirror_mode": {
    "name": "ipython",
    "version": 3
   },
   "file_extension": ".py",
   "mimetype": "text/x-python",
   "name": "python",
   "nbconvert_exporter": "python",
   "pygments_lexer": "ipython3",
   "version": "3.12.5"
  }
 },
 "nbformat": 4,
 "nbformat_minor": 5
}

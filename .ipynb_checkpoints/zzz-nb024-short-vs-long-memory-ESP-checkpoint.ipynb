{
 "cells": [
  {
   "cell_type": "markdown",
   "id": "be46161e-45e9-46d7-8214-bcbea10aff2e",
   "metadata": {},
   "source": [
    "# Short vs. Long-Term Memory"
   ]
  },
  {
   "cell_type": "markdown",
   "id": "2ef08eaf-b778-4843-9f51-4aa0fc96ec2d",
   "metadata": {},
   "source": [
    "## Memoria a Corto Plazo vs. Memoria a Largo Plazo (Short vs. Long-Term Memory) \n",
    "\n",
    "Aquí tienes una explicación simplificada de las diferencias entre la **memoria a corto plazo** y la **memoria a largo plazo** en **LangGraph**:\n",
    "\n",
    "#### Memoria a Corto Plazo  \n",
    "- **Alcance:**  \n",
    "  Funciona **solo dentro de la sesión o hilo (thread) actual**.  \n",
    "  Una vez que la sesión termina, la memoria se borra.  \n",
    "\n",
    "- **Caso de uso:**  \n",
    "  Es como recordar lo que se ha dicho **durante la conversación**.  \n",
    "  Útil para **rastrear el contexto (context)** a medida que avanza la conversación.  \n",
    "\n",
    "- **Uso en LangGraph:**  \n",
    "  Utiliza **Checkpoints** para **guardar y restaurar** el estado de la conversación dentro de la sesión.  \n",
    "\n",
    "#### Memoria a Largo Plazo  \n",
    "- **Alcance:**  \n",
    "  Funciona **a través de múltiples sesiones o hilos (threads)**.  \n",
    "  Incluso después de que la sesión termine, **recuerda información clave** para el futuro.  \n",
    "\n",
    "- **Caso de uso:**  \n",
    "  Es como **recordar datos sobre el usuario** (por ejemplo, su nombre o preferencias) que deben persistir **entre conversaciones**.  \n",
    "\n",
    "- **Uso en LangGraph:**  \n",
    "  Utiliza **Store** para **guardar datos de forma permanente** y recuperarlos más tarde.  \n",
    "\n",
    "#### Analogía  \n",
    "- **Memoria a corto plazo** es como tomar notas en una **pizarra blanca** que borras al final de la reunión.  \n",
    "- **Memoria a largo plazo** es como guardar información importante en un **cuaderno** que puedes consultar en cualquier momento."
   ]
  },
  {
   "cell_type": "markdown",
   "id": "aef84b77-86dc-473e-a826-5256e4ee7baa",
   "metadata": {},
   "source": [
    "## Tipos de Memoria a Largo Plazo  \n",
    "\n",
    "Aquí tienes una explicación sencilla de los **tipos de memoria a largo plazo** en **LangGraph**:\n",
    "\n",
    "#### Memoria Semántica (Semantic Memory) – \"Hechos sobre el usuario\"  \n",
    "- **Propósito:** Almacena **información general** sobre el usuario.  \n",
    "- **Ejemplos:**  \n",
    "  - **Nombre, preferencias o metas** del usuario.  \n",
    "  - Una **lista de documentos subidos** o recursos disponibles.  \n",
    "- **Analogía:** Es como un **perfil o base de datos** que registra información importante sobre el usuario.  \n",
    "\n",
    "#### Memoria Episódica (Episodic Memory) – \"Acciones o eventos pasados del agente\"  \n",
    "- **Propósito:** Recuerda **eventos específicos** o acciones realizadas en el pasado.  \n",
    "- **Ejemplos:**  \n",
    "  - **Preguntas que el usuario hizo** en sesiones anteriores.  \n",
    "  - **Pasos o soluciones** que el agente proporcionó anteriormente.  \n",
    "- **Analogía:** Es como un **diario** que registra momentos clave en las interacciones con el usuario.  \n",
    "\n",
    "#### Memoria Procedimental (Procedural Memory) – \"Instrucciones del sistema del agente\"  \n",
    "- **Propósito:** Almacena las **reglas e instrucciones** que sigue el agente.  \n",
    "- **Ejemplos:**  \n",
    "  - El **prompt del sistema** que define cómo debe responder o comportarse el agente.  \n",
    "  - **Plantillas de flujo de trabajo** para manejar tareas específicas.  \n",
    "- **Analogía:** Es como el **manual de entrenamiento** o **guía de operaciones** del agente que dirige sus acciones."
   ]
  },
  {
   "cell_type": "markdown",
   "id": "edb3f22d-4f39-4670-b5c7-a3a36bd12f9b",
   "metadata": {},
   "source": [
    "## Opciones de Memoria a Largo Plazo  \n",
    "\n",
    "Aquí tienes una explicación sencilla de las **opciones de memoria a largo plazo** en **LangGraph**:\n",
    "\n",
    "#### Memoria de Ruta Rápida (Hot-path Memory) – \"Actualizaciones en tiempo real\"  \n",
    "- **Tipo:**  \n",
    "  Funciona **durante la ejecución**, lo que significa que actualiza la memoria **inmediatamente** a medida que avanza la conversación.  \n",
    "\n",
    "- **Pros:**  \n",
    "  - Se siente **transparente** para el usuario porque las actualizaciones son **instantáneas**.  \n",
    "  - La memoria está siempre **actualizada** dentro de la sesión.  \n",
    "\n",
    "- **Contras:**  \n",
    "  - Puede **ralentizar las respuestas** si se procesa demasiada información en tiempo real.  \n",
    "  - Podría afectar la **experiencia del usuario (UX)** si la latencia (el tiempo de ejecución) se vuelve notable.  \n",
    "\n",
    "#### Memoria en Segundo Plano (Background Memory) – \"Actualizaciones después, en lotes\"  \n",
    "- **Tipo:**  \n",
    "  Funciona en un **proceso separado**, actualizando la memoria **después de la interacción** en lugar de hacerlo inmediatamente.  \n",
    "\n",
    "- **Pros:**  \n",
    "  - Reduce el riesgo de **ralentizar las respuestas** durante la conversación.  \n",
    "  - **Mejor UX** porque las actualizaciones ocurren **silenciosamente** en segundo plano.  \n",
    "\n",
    "- **Contras:**  \n",
    "  - Requiere un **ajuste cuidadoso** para decidir **con qué frecuencia** deben realizarse las actualizaciones.  \n",
    "  - Puede que no sea tan **inmediato**, por lo que algunas actualizaciones podrían **retrasarse**.  \n",
    "\n",
    "#### Analogía Rápida:  \n",
    "- **Memoria de Ruta Rápida.** Es como tomar **notas en tiempo real** durante una reunión: capturas todo al instante, pero a veces puedes **interrumpir el flujo** para seguir el ritmo.  \n",
    "- **Memoria en Segundo Plano.** Es como **grabar la reunión** y escribir notas **después**: es menos disruptivo, pero requiere **más tiempo** para procesar la información más tarde."
   ]
  },
  {
   "cell_type": "code",
   "execution_count": null,
   "id": "b1af248e-6069-44b3-a2cd-a20aa3259874",
   "metadata": {},
   "outputs": [],
   "source": []
  }
 ],
 "metadata": {
  "kernelspec": {
   "display_name": "Python 3 (ipykernel)",
   "language": "python",
   "name": "python3"
  },
  "language_info": {
   "codemirror_mode": {
    "name": "ipython",
    "version": 3
   },
   "file_extension": ".py",
   "mimetype": "text/x-python",
   "name": "python",
   "nbconvert_exporter": "python",
   "pygments_lexer": "ipython3",
   "version": "3.12.5"
  }
 },
 "nbformat": 4,
 "nbformat_minor": 5
}

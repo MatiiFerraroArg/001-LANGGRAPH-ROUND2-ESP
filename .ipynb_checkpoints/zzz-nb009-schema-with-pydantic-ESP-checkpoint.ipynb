{
 "cells": [
  {
   "cell_type": "markdown",
   "id": "be46161e-45e9-46d7-8214-bcbea10aff2e",
   "metadata": {},
   "source": [
    "# Opciones para formatear el Esquema de Estado: TypedDict, Dataclass y Pydantic"
   ]
  },
  {
   "cell_type": "markdown",
   "id": "01911426-9083-45d7-966f-52a755633d57",
   "metadata": {},
   "source": [
    "## Setup"
   ]
  },
  {
   "cell_type": "markdown",
   "id": "871e0018-cba4-4959-881a-0a65093d202d",
   "metadata": {},
   "source": [
    "#### After you download the code from the github repository in your computer\n",
    "In terminal:\n",
    "* cd project_name\n",
    "* pyenv local 3.11.4\n",
    "* poetry install\n",
    "* poetry shell"
   ]
  },
  {
   "cell_type": "markdown",
   "id": "4065e336-d054-412c-8a3f-1fbec63e1bcd",
   "metadata": {},
   "source": [
    "#### To open the notebook with Jupyter Notebooks\n",
    "In terminal:\n",
    "* jupyter lab\n",
    "\n",
    "Go to the folder of notebooks and open the right notebook."
   ]
  },
  {
   "cell_type": "markdown",
   "id": "62dda8d4-80cf-4b8f-9981-94edda5e9911",
   "metadata": {},
   "source": [
    "#### To see the code in Virtual Studio Code or your editor of choice.\n",
    "* open Virtual Studio Code or your editor of choice.\n",
    "* open the project-folder\n",
    "* open the 009-schema-with-pydantic.py file"
   ]
  },
  {
   "cell_type": "markdown",
   "id": "af743328-1bc8-4b01-85fb-fcb21c6499c2",
   "metadata": {},
   "source": [
    "## Create your .env file\n",
    "* In the github repo we have included a file named .env.example\n",
    "* Rename that file to .env file and here is where you will add your confidential api keys. Remember to include:\n",
    "* OPENAI_API_KEY=your_openai_api_key\n",
    "* LANGCHAIN_TRACING_V2=true\n",
    "* LANGCHAIN_ENDPOINT=https://api.smith.langchain.com\n",
    "* LANGCHAIN_API_KEY=your_langchain_api_key\n",
    "* LANGCHAIN_PROJECT=your_project_name"
   ]
  },
  {
   "cell_type": "markdown",
   "id": "40e766aa-f3e2-491f-be99-d0c6b700d47a",
   "metadata": {},
   "source": [
    "## Track operations\n",
    "From now on, we can track the operations **and the cost** of this project from LangSmith:\n",
    "* [smith.langchain.com](https://smith.langchain.com)"
   ]
  },
  {
   "cell_type": "markdown",
   "id": "4f99504a-1b8f-4360-b342-0b81ffa06aff",
   "metadata": {},
   "source": [
    "## Connect with the .env file located in the same directory of this notebook"
   ]
  },
  {
   "cell_type": "markdown",
   "id": "e39e5789-5bde-42e1-88dd-92dc8e363c24",
   "metadata": {},
   "source": [
    "If you are using the pre-loaded poetry shell, you do not need to install the following package because it is already pre-loaded for you:"
   ]
  },
  {
   "cell_type": "code",
   "execution_count": 1,
   "id": "c5514113-ddca-4ae9-9de6-0b9225b18f3c",
   "metadata": {},
   "outputs": [],
   "source": [
    "#pip install python-dotenv"
   ]
  },
  {
   "cell_type": "code",
   "execution_count": 2,
   "id": "fecd39d0-e72e-4bc2-8a68-2fa4008ea365",
   "metadata": {},
   "outputs": [],
   "source": [
    "import os\n",
    "from dotenv import load_dotenv, find_dotenv\n",
    "_ = load_dotenv(find_dotenv())\n",
    "openai_api_key = os.environ[\"OPENAI_API_KEY\"]"
   ]
  },
  {
   "cell_type": "markdown",
   "id": "03f4a923-b19e-498e-9be5-e47ec4a77d80",
   "metadata": {},
   "source": [
    "#### Install LangChain"
   ]
  },
  {
   "cell_type": "markdown",
   "id": "9fef1e5c-b7e2-4a04-96c5-8f64377b8eba",
   "metadata": {},
   "source": [
    "If you are using the pre-loaded poetry shell, you do not need to install the following package because it is already pre-loaded for you:"
   ]
  },
  {
   "cell_type": "code",
   "execution_count": 3,
   "id": "c1cf94ae-6c39-4475-9c5b-4b74d8d78753",
   "metadata": {},
   "outputs": [],
   "source": [
    "#!pip install langchain"
   ]
  },
  {
   "cell_type": "markdown",
   "id": "189e9e17-dfb0-4fd3-85b9-1fba83771941",
   "metadata": {},
   "source": [
    "## Connect with an LLM"
   ]
  },
  {
   "cell_type": "markdown",
   "id": "b21d23f4-61f5-4227-8a75-7eefde6680ee",
   "metadata": {},
   "source": [
    "If you are using the pre-loaded poetry shell, you do not need to install the following package because it is already pre-loaded for you:"
   ]
  },
  {
   "cell_type": "code",
   "execution_count": 4,
   "id": "148df8e0-361d-4ddd-8709-af48fa1648d1",
   "metadata": {},
   "outputs": [],
   "source": [
    "#!pip install langchain-openai"
   ]
  },
  {
   "cell_type": "code",
   "execution_count": 5,
   "id": "df978ec5-bfd2-4167-bd33-86bc2687d1cb",
   "metadata": {},
   "outputs": [],
   "source": [
    "from langchain_openai import ChatOpenAI\n",
    "\n",
    "chatModel35 = ChatOpenAI(model=\"gpt-3.5-turbo-0125\")\n",
    "chatModel4o = ChatOpenAI(model=\"gpt-4o\")"
   ]
  },
  {
   "cell_type": "markdown",
   "id": "36e063a7-7755-4751-b585-f369f3727aeb",
   "metadata": {},
   "source": [
    "## State y State Schema en LangGraph  \n",
    "* Usamos un schema para definir el formato de los datos del state. El schema representa la estructura y los tipos de datos que la aplicación (también llamada graph) utilizará.  \n",
    "* Se espera que todos los nodos se comuniquen utilizando ese schema.  \n",
    "* LangGraph ofrece flexibilidad en la definición del state schema, permitiendo el uso de varios tipos de Python y enfoques de validación.  \n",
    "* Dos formas simples de definir el esquema de estado son:  \n",
    "    * `TypedDict`.  \n",
    "    * `Dataclass`."
   ]
  },
  {
   "cell_type": "markdown",
   "id": "fb061f5a-130a-446d-8884-d237f384cf78",
   "metadata": {},
   "source": [
    "#### Ejemplos de State Schema con `TypedDict`  \n",
    "* `TypedDict` permite especificar keys y sus value types correspondientes, pero estos no se aplican estrictamente en el tiempo de ejecución (runtime)."
   ]
  },
  {
   "cell_type": "code",
   "execution_count": 6,
   "id": "da190daa-7d18-4cb9-a430-0ec7f726264a",
   "metadata": {},
   "outputs": [],
   "source": [
    "from typing_extensions import TypedDict\n",
    "\n",
    "class TypedDictState(TypedDict):\n",
    "    foo: str\n",
    "    bar: str"
   ]
  },
  {
   "cell_type": "markdown",
   "id": "1b52194c-1c6d-4cf3-afae-23ba94c1aaee",
   "metadata": {},
   "source": [
    "* Para restricciones de valor más específicas, puedes usar elementos como la type hint `Literal`. En el siguiente ejemplo, `mood` solo puede ser \"happy\" o \"sad\"."
   ]
  },
  {
   "cell_type": "code",
   "execution_count": 7,
   "id": "61e349d7-538f-4ed5-a906-02bc1e8e31e8",
   "metadata": {},
   "outputs": [],
   "source": [
    "from typing import Literal\n",
    "\n",
    "class TypedDictState(TypedDict):\n",
    "    name: str\n",
    "    mood: Literal[\"happy\",\"sad\"]"
   ]
  },
  {
   "cell_type": "markdown",
   "id": "c8ce765d-901b-4d90-8c13-64ab77149a08",
   "metadata": {},
   "source": [
    "#### Ejemplos de State Schema con Dataclass"
   ]
  },
  {
   "cell_type": "code",
   "execution_count": 8,
   "id": "d5803f20-c74b-4cc3-952e-37052b563031",
   "metadata": {},
   "outputs": [],
   "source": [
    "from dataclasses import dataclass\n",
    "\n",
    "@dataclass\n",
    "class DataclassState:\n",
    "    name: str\n",
    "    mood: Literal[\"happy\",\"sad\"]"
   ]
  },
  {
   "cell_type": "markdown",
   "id": "babbbe26-9e9a-4261-9c79-88afd027641c",
   "metadata": {},
   "source": [
    "#### `TypedDict` vs. `Dataclass`  \n",
    "\n",
    "La principal diferencia entre `TypedDict` y `Dataclass` radica en **la estructura que crean** y **cómo se usan**. Aquí tienes una explicación sencilla de cada uno:  \n",
    "\n",
    "### 1. **`TypedDict` (`TypedDictState`)**  \n",
    "- **Qué es**: `TypedDict` es una forma de definir la estructura esperada de un diccionario en Python.  \n",
    "- **Propósito**: Se usa principalmente para **verificación de tipos**, no para comportamiento en tiempo de ejecución. Ayuda a garantizar que el diccionario tenga las keys y los tipos de valores correctos.  \n",
    "- **Comportamiento**: En tiempo de ejecución, sigue siendo solo un diccionario. Se pueden agregar o eliminar claves dinámicamente, incluso si esto rompe la estructura esperada.  \n",
    "\n",
    "**Ejemplo de uso:**  \n",
    "```python\n",
    "state: TypedDictState = {\"name\": \"Alice\", \"mood\": \"happy\"}  # Funciona correctamente\n",
    "state[\"age\"] = 25  # No generará un error en tiempo de ejecución, pero fallará en la verificación de tipos.\n",
    "```\n",
    "\n",
    "---\n",
    "\n",
    "### 2. **`Dataclass` (`DataclassState`)**  \n",
    "- **Qué es**: Un `dataclass` es una plantilla para crear objetos en Python con campos predefinidos.  \n",
    "- **Propósito**: Es una clase de Python con soporte automático para operaciones comunes como la creación de objetos, comparaciones y representación en cadena (`__str__`).  \n",
    "- **Comportamiento**: A diferencia de un diccionario, tiene una estructura fija. No se pueden agregar ni eliminar atributos dinámicamente.  \n",
    "\n",
    "**Ejemplo de uso:**  \n",
    "```python\n",
    "state = DataclassState(name=\"Alice\", mood=\"happy\")  # Funciona correctamente\n",
    "state.name = \"Bob\"  # Permitido, ya que `name` es un atributo definido\n",
    "state.age = 25  # Esto generará un error porque `age` no está definido en la clase.\n",
    "```\n",
    "\n",
    "---\n",
    "\n",
    "### **Diferencias clave:**  \n",
    "\n",
    "| Característica             | `TypedDictState`                  | `DataclassState`                |\n",
    "|----------------------------|-----------------------------------|---------------------------------|\n",
    "| **Tipo**                  | Diccionario                       | Clase de Python (objeto)       |\n",
    "| **Uso principal**         | Verificación de tipos en diccionarios | Definir objetos estructurados  |\n",
    "| **Atributos dinámicos**   | Permitidos en tiempo de ejecución | No permitidos sin definición   |\n",
    "| **Estructura inmutable**  | No, se pueden agregar/eliminar claves | Sí, solo acepta campos predefinidos |\n",
    "| **Características extra** | Ninguna                           | Métodos, valores por defecto, comparaciones |\n",
    "\n",
    "---\n",
    "\n",
    "### **¿Cuál usar?**  \n",
    "- Usa **`TypedDict`** cuando trabajes con diccionarios pero necesites una verificación estricta de tipos.  \n",
    "- Usa **`dataclass`** cuando necesites objetos más estructurados, reutilizables y con más funcionalidades."
   ]
  },
  {
   "cell_type": "markdown",
   "id": "9c7a4efb-bac4-45c6-89ba-9fd297deabe8",
   "metadata": {},
   "source": [
    "* Las opciones anteriores no son lo suficientemente sólidas para aplicaciones a nivel de producción, ya que a veces no detectan errores de validación. Debido a esto, la forma más común de definir el esquema de estado en aplicaciones profesionales de LangGraph es:  \n",
    "    * **Pydantic**."
   ]
  },
  {
   "cell_type": "markdown",
   "id": "a558b2a8-90c7-4481-ad0c-dd2da3f43fe1",
   "metadata": {},
   "source": [
    "#### Ejemplos de State Schema con Pydantic"
   ]
  },
  {
   "cell_type": "code",
   "execution_count": 9,
   "id": "6bf278ef-8f13-4636-a84a-ee1465502b20",
   "metadata": {},
   "outputs": [
    {
     "name": "stdout",
     "output_type": "stream",
     "text": [
      "Validation Error: 1 validation error for PydanticState\n",
      "mood\n",
      "  Value error, Each mood must be either 'happy' or 'sad' [type=value_error, input_value='mad', input_type=str]\n",
      "    For further information visit https://errors.pydantic.dev/2.10/v/value_error\n"
     ]
    }
   ],
   "source": [
    "from pydantic import BaseModel, field_validator, ValidationError\n",
    "\n",
    "class PydanticState(BaseModel):\n",
    "    name: str\n",
    "    mood: str # \"happy\" or \"sad\" \n",
    "\n",
    "    @field_validator('mood')\n",
    "    @classmethod\n",
    "    def validate_mood(cls, value):\n",
    "        # Ensure the mood is either \"happy\" or \"sad\"\n",
    "        if value not in [\"happy\", \"sad\"]:\n",
    "            raise ValueError(\"Each mood must be either 'happy' or 'sad'\")\n",
    "        return value\n",
    "\n",
    "try:\n",
    "    state = PydanticState(name=\"John Doe\", mood=\"mad\")\n",
    "except ValidationError as e:\n",
    "    print(\"Validation Error:\", e)"
   ]
  },
  {
   "cell_type": "markdown",
   "id": "9dad59f3-412a-47c6-bf86-fd1495931ee2",
   "metadata": {},
   "source": [
    "#### Pydantic vs. Typedict y Dataclass  \n",
    "Pydantic introduce **validación de datos en tiempo de ejecución**, lo cual ni `TypedDict` ni `dataclass` proporcionan por sí mismos. En términos simples:\n",
    "\n",
    "**Características clave de `PydanticState`:**  \n",
    "1. **Basado en `BaseModel`**:  \n",
    "   - `PydanticState` no es un diccionario simple ni una clase básica. Es un **modelo** que valida sus datos cuando se crea un objeto.  \n",
    "   - Si los datos son inválidos, lanza un **`ValidationError`** de inmediato, garantizando que los datos sean correctos.  \n",
    "\n",
    "2. **Validación en tiempo de ejecución**:  \n",
    "   - En el ejemplo, el `@field_validator` garantiza que `mood` solo pueda ser `\"happy\"` o `\"sad\"`. Si intentas establecer `mood` en cualquier otro valor, se generará un error en tiempo de ejecución.  \n",
    "\n",
    "3. **Aplicación estricta de tipos**:  \n",
    "   - Mientras que `TypedDict` y `dataclass` dependen de verificadores de tipos estáticos, `Pydantic` realmente aplica los tipos y restricciones **cuando el programa se está ejecutando**.  \n",
    "\n",
    "4. **Mejor manejo de errores**:  \n",
    "   - Si se proporcionan datos no válidos, `Pydantic` lanza un error detallado, lo que es muy útil para depuración o retroalimentación para el usuario.  \n",
    "\n",
    "**Comparación con ejemplos anteriores:**  \n",
    "\n",
    "| Característica               | `TypedDictState`              | `DataclassState`              | `PydanticState`                |\n",
    "|------------------------------|------------------------------|------------------------------|--------------------------------|\n",
    "| **Aplicación de tipos**       | Solo verificación con `mypy`  | Solo verificación con `mypy`  | Aplicado en tiempo de ejecución |\n",
    "| **Reglas de validación**      | Ninguna                      | Ninguna                      | Totalmente soportadas y personalizables  |\n",
    "| **Atributos dinámicos**       | Permitidos en tiempo de ejecución | No permitidos               | No permitidos                 |\n",
    "| **Manejo de errores**         | Ninguno en tiempo de ejecución | Ninguno en tiempo de ejecución | Lanza `ValidationError`        |\n",
    "| **Características extra**     | Ninguna                      | Comparaciones, métodos, etc. | Validación, serialización, etc. |\n",
    "| **Dependencia de librería**   | Ninguna                      | Ninguna                      | Requiere `pydantic`           |\n",
    "\n",
    "**Ejemplo de uso:**  \n",
    "\n",
    "- **Entrada válida**:  \n",
    "    ```python\n",
    "    state = PydanticState(name=\"Alice\", mood=\"happy\")  # Funciona correctamente\n",
    "    print(state)\n",
    "    ```\n",
    "    **Salida**:  \n",
    "    ```\n",
    "    name='Alice' mood='happy'\n",
    "    ```\n",
    "\n",
    "- **Entrada inválida**:  \n",
    "    ```python\n",
    "    state = PydanticState(name=\"Bob\", mood=\"angry\")  # Lanza ValidationError\n",
    "    ```\n",
    "    **Salida**:  \n",
    "    ```\n",
    "    Validation Error: 1 validation error for PydanticState\n",
    "    mood\n",
    "      Each mood must be either 'happy' or 'sad' (type=value_error)\n",
    "    ```\n",
    "\n",
    "**Cuándo usar cada uno:**  \n",
    "- **`TypedDict`**: Cuando solo necesitas verificación de tipos para diccionarios sin validación en tiempo de ejecución.  \n",
    "- **`dataclass`**: Cuando necesitas objetos estructurados y reutilizables pero no validación en tiempo de ejecución.  \n",
    "- **`Pydantic`**: Cuando necesitas validación robusta en tiempo de ejecución, especialmente para **APIs, formularios de entrada o fuentes de datos externas**."
   ]
  },
  {
   "cell_type": "markdown",
   "id": "8e3691fa-eaf3-4efa-8105-8e76f07f050b",
   "metadata": {},
   "source": [
    "## Observa cómo TypedDict y Dataclass no detectan errores de validación"
   ]
  },
  {
   "cell_type": "markdown",
   "id": "6c9af45f-3aba-4cd3-914b-b33a884e0044",
   "metadata": {},
   "source": [
    "#### Ejemplo con TypedDict"
   ]
  },
  {
   "cell_type": "code",
   "execution_count": 24,
   "id": "11044d55-272e-4c37-b9b2-375eded3c081",
   "metadata": {},
   "outputs": [],
   "source": [
    "import random\n",
    "from IPython.display import Image, display\n",
    "from langgraph.graph import StateGraph, START, END\n",
    "\n",
    "def node_1(state):\n",
    "    print(\"---Node 1---\")\n",
    "    return {\"name\": state['name'] + \" is ... \"}\n",
    "\n",
    "def node_2(state):\n",
    "    print(\"---Node 2---\")\n",
    "    return {\"mood\": \"happy\"}\n",
    "\n",
    "def node_3(state):\n",
    "    print(\"---Node 3---\")\n",
    "    return {\"mood\": \"sad\"}\n",
    "\n",
    "def decide_mood(state) -> Literal[\"node_2\", \"node_3\"]:\n",
    "        \n",
    "    # Here, let's just do a 50 / 50 split between nodes 2, 3\n",
    "    if random.random() < 0.5:\n",
    "\n",
    "        # 50% of the time, we return Node 2\n",
    "        return \"node_2\"\n",
    "    \n",
    "    # 50% of the time, we return Node 3\n",
    "    return \"node_3\"\n",
    "\n",
    "# Build graph\n",
    "builder = StateGraph(TypedDictState)\n",
    "builder.add_node(\"node_1\", node_1)\n",
    "builder.add_node(\"node_2\", node_2)\n",
    "builder.add_node(\"node_3\", node_3)\n",
    "\n",
    "# Logic\n",
    "builder.add_edge(START, \"node_1\")\n",
    "builder.add_conditional_edges(\"node_1\", decide_mood)\n",
    "builder.add_edge(\"node_2\", END)\n",
    "builder.add_edge(\"node_3\", END)\n",
    "\n",
    "# Add\n",
    "graph = builder.compile()"
   ]
  },
  {
   "cell_type": "code",
   "execution_count": 11,
   "id": "39e3fa66-2741-42ae-bbb3-2a54209eaf98",
   "metadata": {},
   "outputs": [
    {
     "name": "stdout",
     "output_type": "stream",
     "text": [
      "---Node 1---\n",
      "---Node 3---\n"
     ]
    },
    {
     "data": {
      "text/plain": [
       "{'name': 'Julio is ... ', 'mood': 'sad'}"
      ]
     },
     "execution_count": 11,
     "metadata": {},
     "output_type": "execute_result"
    }
   ],
   "source": [
    "graph.invoke({\"name\":\"Julio\", \"mood\": \"driven\"})"
   ]
  },
  {
   "cell_type": "markdown",
   "id": "15e053d4-1471-49b3-ac01-965da97b6210",
   "metadata": {},
   "source": [
    "* Como puedes ver, introdujimos un `mood` que no es válido, pero no obtuvimos ningún error de validación."
   ]
  },
  {
   "cell_type": "markdown",
   "id": "091f9ced-1532-4338-a069-6841086a434d",
   "metadata": {},
   "source": [
    "#### Ejemplo con Dataclass"
   ]
  },
  {
   "cell_type": "code",
   "execution_count": 23,
   "id": "82f59eea-00d9-4abe-8ca4-ba3f65b07d8d",
   "metadata": {},
   "outputs": [],
   "source": [
    "def node_1(state):\n",
    "    print(\"---Node 1---\")\n",
    "    return {\"name\": state.name + \" is ... \"}\n",
    "\n",
    "# Build graph\n",
    "builder = StateGraph(DataclassState)\n",
    "builder.add_node(\"node_1\", node_1)\n",
    "builder.add_node(\"node_2\", node_2)\n",
    "builder.add_node(\"node_3\", node_3)\n",
    "\n",
    "# Logic\n",
    "builder.add_edge(START, \"node_1\")\n",
    "builder.add_conditional_edges(\"node_1\", decide_mood)\n",
    "builder.add_edge(\"node_2\", END)\n",
    "builder.add_edge(\"node_3\", END)\n",
    "\n",
    "# Add\n",
    "graph = builder.compile()"
   ]
  },
  {
   "cell_type": "code",
   "execution_count": 13,
   "id": "9d4e45f2-ca85-4ca9-bcbf-052f03975580",
   "metadata": {},
   "outputs": [
    {
     "name": "stdout",
     "output_type": "stream",
     "text": [
      "---Node 1---\n",
      "---Node 3---\n"
     ]
    },
    {
     "data": {
      "text/plain": [
       "{'name': 'Julio is ... ', 'mood': 'sad'}"
      ]
     },
     "execution_count": 13,
     "metadata": {},
     "output_type": "execute_result"
    }
   ],
   "source": [
    "graph.invoke(DataclassState(name=\"Julio\",mood=\"driven\"))"
   ]
  },
  {
   "cell_type": "markdown",
   "id": "ffff67c5-2f8b-4128-ad18-b12566edd19c",
   "metadata": {},
   "source": [
    "## Mira cómo Pydantic detecta validation errors"
   ]
  },
  {
   "cell_type": "code",
   "execution_count": 25,
   "id": "b048b355-71e0-4316-85c1-9d908caabd96",
   "metadata": {},
   "outputs": [],
   "source": [
    "# Build graph\n",
    "builder = StateGraph(PydanticState)\n",
    "builder.add_node(\"node_1\", node_1)\n",
    "builder.add_node(\"node_2\", node_2)\n",
    "builder.add_node(\"node_3\", node_3)\n",
    "\n",
    "# Logic\n",
    "builder.add_edge(START, \"node_1\")\n",
    "builder.add_conditional_edges(\"node_1\", decide_mood)\n",
    "builder.add_edge(\"node_2\", END)\n",
    "builder.add_edge(\"node_3\", END)\n",
    "\n",
    "# Add\n",
    "graph = builder.compile()"
   ]
  },
  {
   "cell_type": "code",
   "execution_count": 26,
   "id": "2a5e6b1d-de13-4b1d-82a4-3e60c105a382",
   "metadata": {},
   "outputs": [
    {
     "ename": "ValidationError",
     "evalue": "1 validation error for PydanticState\nmood\n  Value error, Each mood must be either 'happy' or 'sad' [type=value_error, input_value='driven', input_type=str]\n    For further information visit https://errors.pydantic.dev/2.10/v/value_error",
     "output_type": "error",
     "traceback": [
      "\u001b[0;31m---------------------------------------------------------------------------\u001b[0m",
      "\u001b[0;31mValidationError\u001b[0m                           Traceback (most recent call last)",
      "Cell \u001b[0;32mIn[26], line 1\u001b[0m\n\u001b[0;32m----> 1\u001b[0m graph\u001b[38;5;241m.\u001b[39minvoke(\u001b[43mPydanticState\u001b[49m\u001b[43m(\u001b[49m\u001b[43mname\u001b[49m\u001b[38;5;241;43m=\u001b[39;49m\u001b[38;5;124;43m\"\u001b[39;49m\u001b[38;5;124;43mJulio\u001b[39;49m\u001b[38;5;124;43m\"\u001b[39;49m\u001b[43m,\u001b[49m\u001b[43mmood\u001b[49m\u001b[38;5;241;43m=\u001b[39;49m\u001b[38;5;124;43m\"\u001b[39;49m\u001b[38;5;124;43mdriven\u001b[39;49m\u001b[38;5;124;43m\"\u001b[39;49m\u001b[43m)\u001b[49m)\n",
      "File \u001b[0;32m~/Library/Caches/pypoetry/virtualenvs/001-langgraph-round2-xTNB_YYc-py3.12/lib/python3.12/site-packages/pydantic/main.py:214\u001b[0m, in \u001b[0;36mBaseModel.__init__\u001b[0;34m(self, **data)\u001b[0m\n\u001b[1;32m    212\u001b[0m \u001b[38;5;66;03m# `__tracebackhide__` tells pytest and some other tools to omit this function from tracebacks\u001b[39;00m\n\u001b[1;32m    213\u001b[0m __tracebackhide__ \u001b[38;5;241m=\u001b[39m \u001b[38;5;28;01mTrue\u001b[39;00m\n\u001b[0;32m--> 214\u001b[0m validated_self \u001b[38;5;241m=\u001b[39m \u001b[38;5;28;43mself\u001b[39;49m\u001b[38;5;241;43m.\u001b[39;49m\u001b[43m__pydantic_validator__\u001b[49m\u001b[38;5;241;43m.\u001b[39;49m\u001b[43mvalidate_python\u001b[49m\u001b[43m(\u001b[49m\u001b[43mdata\u001b[49m\u001b[43m,\u001b[49m\u001b[43m \u001b[49m\u001b[43mself_instance\u001b[49m\u001b[38;5;241;43m=\u001b[39;49m\u001b[38;5;28;43mself\u001b[39;49m\u001b[43m)\u001b[49m\n\u001b[1;32m    215\u001b[0m \u001b[38;5;28;01mif\u001b[39;00m \u001b[38;5;28mself\u001b[39m \u001b[38;5;129;01mis\u001b[39;00m \u001b[38;5;129;01mnot\u001b[39;00m validated_self:\n\u001b[1;32m    216\u001b[0m     warnings\u001b[38;5;241m.\u001b[39mwarn(\n\u001b[1;32m    217\u001b[0m         \u001b[38;5;124m'\u001b[39m\u001b[38;5;124mA custom validator is returning a value other than `self`.\u001b[39m\u001b[38;5;130;01m\\n\u001b[39;00m\u001b[38;5;124m'\u001b[39m\n\u001b[1;32m    218\u001b[0m         \u001b[38;5;124m\"\u001b[39m\u001b[38;5;124mReturning anything other than `self` from a top level model validator isn\u001b[39m\u001b[38;5;124m'\u001b[39m\u001b[38;5;124mt supported when validating via `__init__`.\u001b[39m\u001b[38;5;130;01m\\n\u001b[39;00m\u001b[38;5;124m\"\u001b[39m\n\u001b[1;32m    219\u001b[0m         \u001b[38;5;124m'\u001b[39m\u001b[38;5;124mSee the `model_validator` docs (https://docs.pydantic.dev/latest/concepts/validators/#model-validators) for more details.\u001b[39m\u001b[38;5;124m'\u001b[39m,\n\u001b[1;32m    220\u001b[0m         stacklevel\u001b[38;5;241m=\u001b[39m\u001b[38;5;241m2\u001b[39m,\n\u001b[1;32m    221\u001b[0m     )\n",
      "\u001b[0;31mValidationError\u001b[0m: 1 validation error for PydanticState\nmood\n  Value error, Each mood must be either 'happy' or 'sad' [type=value_error, input_value='driven', input_type=str]\n    For further information visit https://errors.pydantic.dev/2.10/v/value_error"
     ]
    }
   ],
   "source": [
    "graph.invoke(PydanticState(name=\"Julio\",mood=\"driven\"))"
   ]
  },
  {
   "cell_type": "markdown",
   "id": "217b9e91-3493-4a16-b585-e891dcd6de38",
   "metadata": {},
   "source": [
    "* Como puedes ver, introdujimos un `mood` que no es válido, pero **esta vez sí obtuvimos un error de validación**."
   ]
  },
  {
   "cell_type": "markdown",
   "id": "8bef5f0f-6532-44c6-a0bd-074ab7d34465",
   "metadata": {},
   "source": [
    "## Cómo ejecutar el código desde Visual Studio Code  \n",
    "* En Visual Studio Code, busca el archivo `009-schema-with-pydantic.py`.  \n",
    "* En la terminal, asegúrate de estar en el directorio del archivo y ejecuta:  \n",
    "    * `python 009-schema-with-pydantic.py`"
   ]
  },
  {
   "cell_type": "code",
   "execution_count": null,
   "id": "2566833d-f8ed-4dc4-b23e-002e93d3539d",
   "metadata": {},
   "outputs": [],
   "source": []
  }
 ],
 "metadata": {
  "kernelspec": {
   "display_name": "Python 3 (ipykernel)",
   "language": "python",
   "name": "python3"
  },
  "language_info": {
   "codemirror_mode": {
    "name": "ipython",
    "version": 3
   },
   "file_extension": ".py",
   "mimetype": "text/x-python",
   "name": "python",
   "nbconvert_exporter": "python",
   "pygments_lexer": "ipython3",
   "version": "3.12.5"
  }
 },
 "nbformat": 4,
 "nbformat_minor": 5
}

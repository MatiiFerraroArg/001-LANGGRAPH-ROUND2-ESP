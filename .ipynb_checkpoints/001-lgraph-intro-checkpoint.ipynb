{
 "cells": [
  {
   "cell_type": "markdown",
   "id": "b830b505-76b0-494a-9726-5b1e98fdc66c",
   "metadata": {},
   "source": [
    "# LangGraph Intro"
   ]
  },
  {
   "cell_type": "markdown",
   "id": "5442b29d-faf9-44c8-a181-2a3f367bc75f",
   "metadata": {},
   "source": [
    "## Why LangGraph?\n",
    "* The LangChain team realized that AI Agent developers required a framework that gives them more control over the development process."
   ]
  },
  {
   "cell_type": "markdown",
   "id": "6ff1bdbb-96e9-4ab8-8a39-2a65cf9650f4",
   "metadata": {},
   "source": [
    "## What is LangGraph?\n",
    "* LangGraph is a framework different from LangChain and designed for building agentic and multi-agent applications.\n",
    "* Goals:\n",
    "    * Build agents that can reliably handle different types of day-to-day tasks in your work.\n",
    "    * Add precision and control into agentic workflows."
   ]
  },
  {
   "cell_type": "markdown",
   "id": "04011a70-e40a-4b0a-a048-97b938a2de2f",
   "metadata": {},
   "source": [
    "## AI Agents\n",
    "* An AI Agent is a type of LLM Application.\n",
    "* In an AI Agent, the LLM determines the control flow of the application."
   ]
  },
  {
   "cell_type": "code",
   "execution_count": null,
   "id": "d8ef83e3-76c4-42cd-8993-48dfaebcf467",
   "metadata": {},
   "outputs": [],
   "source": []
  }
 ],
 "metadata": {
  "kernelspec": {
   "display_name": "Python 3 (ipykernel)",
   "language": "python",
   "name": "python3"
  },
  "language_info": {
   "codemirror_mode": {
    "name": "ipython",
    "version": 3
   },
   "file_extension": ".py",
   "mimetype": "text/x-python",
   "name": "python",
   "nbconvert_exporter": "python",
   "pygments_lexer": "ipython3",
   "version": "3.12.5"
  }
 },
 "nbformat": 4,
 "nbformat_minor": 5
}

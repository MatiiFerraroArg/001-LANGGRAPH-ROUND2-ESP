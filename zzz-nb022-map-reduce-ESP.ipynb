{
 "cells": [
  {
   "cell_type": "markdown",
   "id": "8ac76bd4-dd06-4edf-b2c4-e53991b5cf65",
   "metadata": {},
   "source": [
    "# Operaciones de Map-Reduce con Send\n",
    "* Las operaciones de map-reduce son esenciales para una descomposición eficiente de tareas y un procesamiento en paralelo.\n",
    "    * Map: Divide una tarea en sub-tareas más pequeñas, procesando cada sub-tarea en paralelo.\n",
    "    * Reduce: Agrega los resultados de todas las sub-tareas completadas y paralelizadas."
   ]
  },
  {
   "cell_type": "markdown",
   "id": "314975c1-3b54-4f73-af26-aabe618a8f3a",
   "metadata": {},
   "source": [
    "## Ummm... De nuevo, ¿qué es una operación de Map-Reduce???\n",
    "\n",
    "Si no estás familiarizado con este término y te suena confuso, no te preocupes. Su verdadero significado es más fácil de entender de lo que parece por su nombre extraño.\n",
    "\n",
    "#### Map  \n",
    "Piensa en esto como **dividir** un trabajo grande en tareas más pequeñas y manejables. Cada tarea más pequeña se puede ejecutar al mismo tiempo (en **paralelo**).\n",
    "\n",
    "Ejemplo:  \n",
    "* Si tienes que contar las palabras en 100 libros, puedes dar 10 libros a 10 personas diferentes, y cada persona cuenta las palabras en los libros que le fueron asignados.\n",
    "\n",
    "#### Reduce  \n",
    "Una vez que todas las tareas más pequeñas han finalizado, los resultados se **combinan** para producir el resultado final.\n",
    "\n",
    "Ejemplo:  \n",
    "* Las 10 personas reportan sus conteos de palabras, y tú **sumas** todos los conteos para obtener el número total de palabras en los 100 libros.\n",
    "\n",
    "#### Procesamiento de Map-Reduce  \n",
    "- **Map**: Divide una tarea grande en tareas más pequeñas.  \n",
    "- **Reduce**: Combina los resultados de las tareas más pequeñas en el resultado final.\n",
    "\n",
    "Este enfoque ahorra tiempo al **distribuir el trabajo** de manera eficiente, especialmente cuando se trabaja con grandes conjuntos de datos."
   ]
  },
  {
   "cell_type": "markdown",
   "id": "c88643a1-aaed-429c-a181-3c448f202525",
   "metadata": {},
   "source": [
    "## ¿Y cómo se realiza una operación de Map-Reduce en LangGraph?\n",
    "\n",
    "En LangGraph, el patrón de map-reduce es un método para manejar tareas dividiéndolas en sub-tareas más pequeñas, procesando estas sub-tareas simultáneamente y luego combinando los resultados. Este enfoque es particularmente útil cuando el número de sub-tareas no se conoce de antemano.\n",
    "\n",
    "#### ¿Cómo funciona?\n",
    "\n",
    "1. **Mapping:** Se parte de una tarea principal que genera una lista de elementos. Por ejemplo, si se proporciona un tema general, el sistema podría producir una lista de temas relacionados.\n",
    "\n",
    "2. **Processing in Parallel:** Cada elemento de la lista se procesa de forma independiente y al mismo tiempo. Siguiendo el ejemplo, para cada tema relacionado, el sistema podría generar un chiste.\n",
    "\n",
    "3. **Reducing:** Después de que todos los elementos hayan sido procesados, los resultados se combinan o resumen. En este caso, esto podría implicar seleccionar el mejor chiste de la lista generada.\n",
    "\n",
    "#### Desafíos abordados\n",
    "\n",
    "- **Número desconocido de sub-tareas:** Dado que la cantidad de elementos (como los temas relacionados) puede no conocerse de antemano, resulta complicado configurar el flujo de trabajo previamente.\n",
    "\n",
    "- **States de input dinámicos:** Cada sub-tarea podría requerir un input diferente, lo que exige un sistema capaz de manejar inputs variables de manera dinámica.\n",
    "\n",
    "#### La solución de LangGraph: usar Send\n",
    "\n",
    "Como veremos a continuación, **LangGraph utiliza la API integrada Send para gestionar estos desafíos**. Empleando edges condicionales, la función Send puede distribuir diferentes inputs a múltiples instancias de un nodo de procesamiento. Esto significa que cada sub-tarea puede recibir un input único, permitiendo una gestión de flujo de trabajo flexible y dinámica.\n",
    "\n",
    "Este enfoque de map-reduce en LangGraph permite una descomposición eficiente de tareas y un procesamiento en paralelo, facilitando la gestión de workflows complejos donde el número de sub-tareas no está determinado previamente."
   ]
  },
  {
   "cell_type": "markdown",
   "id": "86b7fdeb-2543-4280-be25-8e962552530c",
   "metadata": {},
   "source": [
    "## Setup"
   ]
  },
  {
   "cell_type": "markdown",
   "id": "871e0018-cba4-4959-881a-0a65093d202d",
   "metadata": {},
   "source": [
    "#### After you download the code from the github repository in your computer\n",
    "In terminal:\n",
    "* cd project_name\n",
    "* pyenv local 3.11.4\n",
    "* poetry install\n",
    "* poetry shell"
   ]
  },
  {
   "cell_type": "markdown",
   "id": "4065e336-d054-412c-8a3f-1fbec63e1bcd",
   "metadata": {},
   "source": [
    "#### To open the notebook with Jupyter Notebooks\n",
    "In terminal:\n",
    "* jupyter lab\n",
    "\n",
    "Go to the folder of notebooks and open the right notebook."
   ]
  },
  {
   "cell_type": "markdown",
   "id": "62dda8d4-80cf-4b8f-9981-94edda5e9911",
   "metadata": {},
   "source": [
    "#### To see the code in Virtual Studio Code or your editor of choice.\n",
    "* open Virtual Studio Code or your editor of choice.\n",
    "* open the project-folder\n",
    "* open the 022-map-reduce.py file"
   ]
  },
  {
   "cell_type": "markdown",
   "id": "af743328-1bc8-4b01-85fb-fcb21c6499c2",
   "metadata": {},
   "source": [
    "## Create your .env file\n",
    "* In the github repo we have included a file named .env.example\n",
    "* Rename that file to .env file and here is where you will add your confidential api keys. Remember to include:\n",
    "* OPENAI_API_KEY=your_openai_api_key\n",
    "* LANGCHAIN_TRACING_V2=true\n",
    "* LANGCHAIN_ENDPOINT=https://api.smith.langchain.com\n",
    "* LANGCHAIN_API_KEY=your_langchain_api_key\n",
    "* LANGCHAIN_PROJECT=your_project_name"
   ]
  },
  {
   "cell_type": "markdown",
   "id": "863dd299-0780-49ad-a1b7-b76e249350da",
   "metadata": {},
   "source": [
    "We will call our LangSmith project **001-langgraph**."
   ]
  },
  {
   "cell_type": "markdown",
   "id": "40e766aa-f3e2-491f-be99-d0c6b700d47a",
   "metadata": {},
   "source": [
    "## Track operations\n",
    "From now on, we can track the operations **and the cost** of this project from LangSmith:\n",
    "* [smith.langchain.com](https://smith.langchain.com)"
   ]
  },
  {
   "cell_type": "markdown",
   "id": "4f99504a-1b8f-4360-b342-0b81ffa06aff",
   "metadata": {},
   "source": [
    "## Connect with the .env file located in the same directory of this notebook"
   ]
  },
  {
   "cell_type": "markdown",
   "id": "e39e5789-5bde-42e1-88dd-92dc8e363c24",
   "metadata": {},
   "source": [
    "If you are using the pre-loaded poetry shell, you do not need to install the following package because it is already pre-loaded for you:"
   ]
  },
  {
   "cell_type": "code",
   "execution_count": 1,
   "id": "c5514113-ddca-4ae9-9de6-0b9225b18f3c",
   "metadata": {},
   "outputs": [],
   "source": [
    "#pip install python-dotenv"
   ]
  },
  {
   "cell_type": "code",
   "execution_count": 2,
   "id": "fecd39d0-e72e-4bc2-8a68-2fa4008ea365",
   "metadata": {},
   "outputs": [],
   "source": [
    "import os\n",
    "from dotenv import load_dotenv, find_dotenv\n",
    "_ = load_dotenv(find_dotenv())\n",
    "openai_api_key = os.environ[\"OPENAI_API_KEY\"]"
   ]
  },
  {
   "cell_type": "markdown",
   "id": "03f4a923-b19e-498e-9be5-e47ec4a77d80",
   "metadata": {},
   "source": [
    "#### Install LangChain"
   ]
  },
  {
   "cell_type": "markdown",
   "id": "9fef1e5c-b7e2-4a04-96c5-8f64377b8eba",
   "metadata": {},
   "source": [
    "If you are using the pre-loaded poetry shell, you do not need to install the following package because it is already pre-loaded for you:"
   ]
  },
  {
   "cell_type": "code",
   "execution_count": 3,
   "id": "c1cf94ae-6c39-4475-9c5b-4b74d8d78753",
   "metadata": {},
   "outputs": [],
   "source": [
    "#!pip install langchain"
   ]
  },
  {
   "cell_type": "markdown",
   "id": "189e9e17-dfb0-4fd3-85b9-1fba83771941",
   "metadata": {},
   "source": [
    "## Connect with an LLM"
   ]
  },
  {
   "cell_type": "markdown",
   "id": "b21d23f4-61f5-4227-8a75-7eefde6680ee",
   "metadata": {},
   "source": [
    "If you are using the pre-loaded poetry shell, you do not need to install the following package because it is already pre-loaded for you:"
   ]
  },
  {
   "cell_type": "code",
   "execution_count": 4,
   "id": "148df8e0-361d-4ddd-8709-af48fa1648d1",
   "metadata": {},
   "outputs": [],
   "source": [
    "#!pip install langchain-openai"
   ]
  },
  {
   "cell_type": "code",
   "execution_count": 5,
   "id": "df978ec5-bfd2-4167-bd33-86bc2687d1cb",
   "metadata": {},
   "outputs": [],
   "source": [
    "from langchain_openai import ChatOpenAI\n",
    "\n",
    "chatModel35 = ChatOpenAI(model=\"gpt-3.5-turbo-0125\")\n",
    "chatModel4o = ChatOpenAI(model=\"gpt-4o\")"
   ]
  },
  {
   "cell_type": "markdown",
   "id": "5ad87382-86da-4412-848b-9f434b85d7ca",
   "metadata": {},
   "source": [
    "## Ejemplo básico de operación Map-Reduce: Una aplicación generadora de chistes\n",
    "\n",
    "#### El proceso de map-reduce  \n",
    "Diseñaremos una aplicación que realizará dos tareas:  \n",
    "* Crear un conjunto de chistes a partir de temas o subtemas relacionados con un tema dado (operación de map).  \n",
    "* Elegir el mejor chiste de la lista (operación de reduce).  \n",
    "\n",
    "#### El workflow de la aplicación será:  \n",
    "* El usuario ingresará un tema.  \n",
    "* La aplicación generará una lista de temas o subtemas relacionados con el tema ingresado.  \n",
    "* La aplicación generará un chiste para cada tema.  \n",
    "* La aplicación seleccionará el mejor chiste generado."
   ]
  },
  {
   "cell_type": "markdown",
   "id": "f3df3329-46f1-4e5b-8c3e-03649980f5be",
   "metadata": {},
   "source": [
    "## Comencemos creando los prompts que usaremos con el LLM"
   ]
  },
  {
   "cell_type": "code",
   "execution_count": 6,
   "id": "b4f3e2e3-5f7f-458d-ac64-eba955b01ada",
   "metadata": {},
   "outputs": [],
   "source": [
    "from langchain_openai import ChatOpenAI\n",
    "\n",
    "# Prompts we will use\n",
    "subjects_prompt = \"\"\"Generate a list of 3 sub-topics that are all related to this overall topic: {topic}.\"\"\"\n",
    "joke_prompt = \"\"\"Generate a joke about {subject}\"\"\"\n",
    "best_joke_prompt = \"\"\"Below are a bunch of jokes about {topic}. Select the best one! Return the ID of the best one, starting 0 as the ID for the first joke. Jokes: \\n\\n  {jokes}\"\"\"\n",
    "\n",
    "# LLM\n",
    "model = ChatOpenAI(model=\"gpt-4o\") "
   ]
  },
  {
   "cell_type": "markdown",
   "id": "c1e8765d-3125-4a7e-8b8a-1056d6e87466",
   "metadata": {},
   "source": [
    "## Ahora definamos los schemas que establecerán el formato de Subjects, BestJoke y OverallState"
   ]
  },
  {
   "cell_type": "code",
   "execution_count": 7,
   "id": "d0b0f650-8c60-4c4c-832c-34ca67accbdf",
   "metadata": {},
   "outputs": [],
   "source": [
    "import operator\n",
    "from typing import Annotated\n",
    "from typing_extensions import TypedDict\n",
    "from pydantic import BaseModel\n",
    "\n",
    "class Subjects(BaseModel):\n",
    "    subjects: list[str]\n",
    "\n",
    "class BestJoke(BaseModel):\n",
    "    id: int\n",
    "\n",
    "# PAY ATTENTION HERE: The `jokes` key will append the jokes.\n",
    "# See how we are using the operator.add reducer.\n",
    "class OverallState(TypedDict):\n",
    "    topic: str\n",
    "    subjects: list\n",
    "    jokes: Annotated[list, operator.add]\n",
    "    best_selected_joke: str"
   ]
  },
  {
   "cell_type": "markdown",
   "id": "d98d6f3a-d15a-42c4-b188-7ad403496076",
   "metadata": {},
   "source": [
    "## Ahora definiremos la función para generar subtemas (en inglés los llamaremos subjects) relacionados con el tema (topic) enviado por el usuario"
   ]
  },
  {
   "cell_type": "code",
   "execution_count": 8,
   "id": "3494781b-094f-476b-93cd-f7d9b4511b25",
   "metadata": {},
   "outputs": [],
   "source": [
    "# We are asking the LLM to generate subjects related with the topic\n",
    "def generate_subjects(state: OverallState):\n",
    "    prompt = subjects_prompt.format(topic=state[\"topic\"])\n",
    "    response = model.with_structured_output(Subjects).invoke(prompt)\n",
    "    return {\"subjects\": response.subjects}"
   ]
  },
  {
   "cell_type": "markdown",
   "id": "a6495b0d-2027-4c1d-ad89-a5b8a19d7ff6",
   "metadata": {},
   "source": [
    "## Expliquemos el código anterior en términos sencillos\n",
    "\n",
    "Aquí tienes una explicación sencilla del código anterior:\n",
    "\n",
    "1. **Propósito**: La función `generate_subjects` está diseñada para usar un LLM (referido como `model`) y generar una lista de subtemas relacionados con un tema dado.\n",
    "\n",
    "2. **Entrada**: Toma un único argumento llamado `state`, que es un objeto similar a un diccionario (`OverallState`). Este `state` contiene una key `\"topic\"` que especifica el tema principal para el cual se deben generar subtemas relacionados.\n",
    "\n",
    "3. **Pasos**:\n",
    "   - **Crear un Prompt**: La expresión `subjects_prompt.format(topic=state[\"topic\"])` toma una plantilla de prompt predefinida (`subjects_prompt`) y la rellena con el tema extraído de `state`.\n",
    "   - **Consultar el Modelo**: Se usa el LLM (`model`) para procesar este prompt. El método `with_structured_output(Subjects).invoke(prompt)` asegura que la respuesta del modelo tenga una estructura y siga un formato específico definido en `Subjects`.\n",
    "   - **Extraer Subtemas**: Se extrae el campo `subjects` de la respuesta del modelo.\n",
    "\n",
    "4. **Salida**: La función devuelve un diccionario con una única clave, `\"subjects\"`, que contiene la lista de temas generados por el modelo.\n",
    "\n",
    "#### Ejemplo:\n",
    "\n",
    "Si el tema en `state[\"topic\"]` es `\"cambio climático\"`, la función:\n",
    "1. Formatea un prompt como: \"Genera una lista de subtemas relacionados con el cambio climático.\"\n",
    "2. Envía este prompt al modelo.\n",
    "3. Recibe y procesa la respuesta del modelo (por ejemplo, `[\"Calentamiento Global\", \"Energías Renovables\", \"Huella de Carbono\"]`).\n",
    "4. Devuelve: `{\"subjects\": [\"Calentamiento Global\", \"Energías Renovables\", \"Huella de Carbono\"]}`."
   ]
  },
  {
   "cell_type": "markdown",
   "id": "fd5b260e-777f-48b6-9f9e-1aacf6b44ed7",
   "metadata": {},
   "source": [
    "## Una vez que tengamos la lista de subtemas, usaremos Send para crear un chiste para cada subtema\n",
    "\n",
    "En términos simples, la función **`Send`** en LangGraph se utiliza para enviar dinámicamente datos (llamados **state**) a nodos específicos en un workflow, incluso cuando no sabes de antemano cuántos nodos necesitarás o qué datos recibirá cada uno.  \n",
    "\n",
    "#### Escenario de ejemplo:  \n",
    "Imagina que tienes un proceso donde:  \n",
    "1. **Nodo A** crea una lista de subtemas (por ejemplo, `[\"gatos\", \"perros\", \"robots\"]`).  \n",
    "2. Quieres enviar cada subtema a otro nodo (**\"generate_joke\"**) que generará un chiste sobre ese subtema.  \n",
    "\n",
    "Sin embargo, no sabes de antemano cuántos subtemas habrá.  \n",
    "\n",
    "#### ¿Qué hace `Send`?  \n",
    "- Permite crear tantas conexiones como sea necesario **sobre la marcha** (en lugar de predefinirlas).  \n",
    "- Cada conexión puede tener sus **propios datos** (cada tema en particular).  \n",
    "\n",
    "#### Paso 1: usar un edge condicional para conectar el \"Nodo A\" con \"la Magia de Send\".\n",
    "```python\n",
    "graph.add_conditional_edges(\"node_a\", continue_to_jokes)\n",
    "```\n",
    "- **Conecta el \"nodo_a\" al nodo \"generate_joke\" de manera dinámica, creando un chiste para cada subtema asociado**. \n",
    "\n",
    "#### Paso 2: \"la Magia de Send\" crea tantos nodos generate_joke en paralelo como subtemas haya generado el Nodo A.\n",
    "```python\n",
    "def continue_to_jokes(state: OverallState):\n",
    "    return [Send(\"generate_joke\", {\"subject\": s}) for s in state['subjects']]\n",
    "```\n",
    "- Esta función toma el state (por ejemplo, una lista de subtemas).  \n",
    "- Crea un objeto Send **para cada subtema, indicándole**:  \n",
    "  1. **Ir al nodo `generate_joke`**.  \n",
    "  2. **Pasar un subtema específico (por ejemplo, `{\"subject\": \"gatos\"}`) como input**.   \n",
    "\n",
    "#### Idea clave:\n",
    "**En lugar de definir conexiones fijas, `Send` permite que el workflow se adapte en tiempo de ejecución según los datos**. Esto es especialmente útil para tareas como el procesamiento de listas o lotes de datos.\n",
    "\n",
    "#### Cómo usaremos Send en nuestro ejercicio\n",
    "* Usaremos [Send](https://langchain-ai.github.io/langgraph/concepts/low_level/#send) para crear un chiste para cada subtema. **Esto puede paralelizar automáticamente la generación de chistes para cualquier cantidad de subtemas**.\n",
    "    * `generate_joke`: el nombre del nodo en el graph.\n",
    "    * `{\"subject\": s}`: el state que se enviará."
   ]
  },
  {
   "cell_type": "code",
   "execution_count": 9,
   "id": "8f1bb3df-06a7-4145-a8b9-a7f64cf4bbf1",
   "metadata": {},
   "outputs": [],
   "source": [
    "from langgraph.constants import Send\n",
    "\n",
    "def continue_to_jokes(state: OverallState):\n",
    "    return [Send(\"generate_joke\", {\"subject\": s}) for s in state[\"subjects\"]]"
   ]
  },
  {
   "cell_type": "markdown",
   "id": "c73a8d36-7783-4fe7-bf55-19aa25608505",
   "metadata": {},
   "source": [
    "## Explicación del código anterior en términos sencillos\n",
    "\n",
    "El código define una función llamada **`continue_to_jokes`** que toma algunos datos de input (**state**) y prepara instrucciones para enviar cada elemento de esos datos a un step específico de procesamiento.\n",
    "\n",
    "#### Desglosando el código:\n",
    "\n",
    "1. **Input: `state`**  \n",
    "   - El input, llamado **`state`**, contiene datos organizados como un diccionario.  \n",
    "   - Tiene una key llamada **\"subjects\"**, que se espera que sea una **lista** (por ejemplo, `[\"gatos\", \"perros\", \"robots\"]`).\n",
    "\n",
    "2. **Output: Lista de objetos `Send`**  \n",
    "   - Para cada subtema en la lista, la función crea un objeto **`Send`**.  \n",
    "   - Cada objeto **`Send`** especifica:  \n",
    "     1. Ir al nodo **\"generate_joke\"** (un paso en el flujo de trabajo).  \n",
    "     2. Pasar un **subtema específico** como input, por ejemplo, `{\"subject\": \"gatos\"}`.\n",
    "\n",
    "3. **Propósito**  \n",
    "   - La función se usa para **redirigir datos dinámicamente**.  \n",
    "   - Si hay 3 subtemas en la lista, crea 3 instrucciones `Send`, una para cada subtema, indicando al sistema que procese cada elemento de forma individual.\n",
    "\n",
    "#### Ejemplo:  \n",
    "Si **state[\"subjects\"] = [\"gatos\", \"perros\"]**, el output será:  \n",
    "```\n",
    "[\n",
    "    Send(\"generate_joke\", {\"subject\": \"gatos\"}),  \n",
    "    Send(\"generate_joke\", {\"subject\": \"perros\"})\n",
    "]\n",
    "```\n",
    "\n",
    "Esto permite que el worlflow maneje múltiples inputs (subtemas) en paralelo, enviando cada una al nodo **\"generate_joke\"** para su procesamiento."
   ]
  },
  {
   "cell_type": "markdown",
   "id": "d3fbafb8-f343-41b1-88bf-574644f6bce5",
   "metadata": {},
   "source": [
    "## ¡Ups! Pero aún no hemos definido la función creadora de chistes. Hagámoslo ahora.\n",
    "* Definiremos un nodo que generará nuestros chistes, llamado `generate_joke`.  \n",
    "* Los devolveremos como `jokes` en `OverallState`.  \n",
    "* Esta key tiene un **reducer** que combinará las lists."
   ]
  },
  {
   "cell_type": "code",
   "execution_count": 10,
   "id": "0586732f-51bd-4971-9319-c40216598ed1",
   "metadata": {},
   "outputs": [],
   "source": [
    "class JokeState(TypedDict):\n",
    "    subject: str\n",
    "\n",
    "class Joke(BaseModel):\n",
    "    joke: str\n",
    "\n",
    "# PAY ATTENTION HERE: we ask the LLM to generate a joke about a subject\n",
    "def generate_joke(state: JokeState):\n",
    "    prompt = joke_prompt.format(subject=state[\"subject\"])\n",
    "    response = model.with_structured_output(Joke).invoke(prompt)\n",
    "    return {\"jokes\": [response.joke]}"
   ]
  },
  {
   "cell_type": "markdown",
   "id": "3de9b75a-47f5-421e-b590-ebddfae98f42",
   "metadata": {},
   "source": [
    "## Expliquemos el código anterior en términos sencillos\n",
    "\n",
    "El código anterior define cómo generar un chiste sobre un subtema específico utilizando un LLM. Desglosemos los pasos:\n",
    "\n",
    "#### Definición de estructuras de datos\n",
    "- `JokeState` y `Joke` funcionan como **planos** para organizar los datos.\n",
    "\n",
    "  - `JokeState` indica que necesitamos un diccionario (o un objeto) con una key llamada `subject` que contiene un string de texto. Por ejemplo:\n",
    "    ```python\n",
    "    state = {\"subject\": \"gatos\"}\n",
    "    ```\n",
    "\n",
    "  - `Joke` define el formato de output esperado: contiene una única key, `joke`, que también es un string de texto. Por ejemplo:\n",
    "    ```python\n",
    "    {\"joke\": \"¿Por qué el gato se sentó en el ordenador? Para vigilar al ratón.\"}\n",
    "    ```\n",
    "\n",
    "#### La función `generate_joke`\n",
    "Esta es la función principal que crea un chiste basado en el subtema dado. Veamos qué sucede dentro:\n",
    "\n",
    "1. **Obtener el subtema**:\n",
    "   - El parámetro `state` se espera que contenga el subtema del chiste (como `\"gatos\"`).\n",
    "   \n",
    "2. **Preparar un prompt**:\n",
    "   - Se crea la variable `prompt` usando una plantilla predefinida (`joke_prompt`), donde se inserta el subtema. Por ejemplo, si `state[\"subject\"]` es `\"gatos\"`, el prompt se vería así:\n",
    "     ```python\n",
    "     \"Cuéntame un chiste gracioso sobre gatos.\"\n",
    "     ```\n",
    "\n",
    "3. **Llamar al modelo de lenguaje (LLM)**:\n",
    "   - `model.with_structured_output(Joke).invoke(prompt)` envía el prompt al LLM.\n",
    "   - El LLM genera una respuesta que sigue la estructura de `Joke`, asegurando que devuelve un diccionario con una key `joke`.\n",
    "\n",
    "4. **Devolver el chiste**:\n",
    "   - La respuesta del LLM se envuelve en otro diccionario bajo la clave `\"jokes\"`, por lo que el output final podría ser:\n",
    "     ```python\n",
    "     {\"jokes\": [\"¿Por qué el gato se sentó en el ordenador? Para vigilar al ratón.\"]}\n",
    "     ```\n",
    "\n",
    "#### En resumen\n",
    "- La función recibe un subtema (por ejemplo, `\"gatos\"`).\n",
    "- Crea un prompt para pedirle al LLM que genere un chiste sobre ese subtema.\n",
    "- El LLM responde con un chiste.\n",
    "- La función devuelve el chiste en un formato estructurado."
   ]
  },
  {
   "cell_type": "markdown",
   "id": "ef26be68-b6dc-482f-8c2f-6674d7dd819d",
   "metadata": {},
   "source": [
    "## Y, finalmente, definamos la función para seleccionar el mejor chiste"
   ]
  },
  {
   "cell_type": "code",
   "execution_count": 11,
   "id": "656d3f71-c579-42f4-9cc5-47ec22739f8a",
   "metadata": {},
   "outputs": [],
   "source": [
    "# PAY ATTENTION HERE: we ask the LLM to select the best joke\n",
    "def best_joke(state: OverallState):\n",
    "    jokes = \"\\n\\n\".join(state[\"jokes\"])\n",
    "    prompt = best_joke_prompt.format(topic=state[\"topic\"], jokes=jokes)\n",
    "    response = model.with_structured_output(BestJoke).invoke(prompt)\n",
    "    return {\"best_selected_joke\": state[\"jokes\"][response.id]}"
   ]
  },
  {
   "cell_type": "markdown",
   "id": "40b30e11-9f09-4e0d-ab10-1167f6413480",
   "metadata": {},
   "source": [
    "## OK. Revisemos lo que acabamos de hacer\n",
    "\n",
    "El código anterior define una función que ayuda a elegir el mejor chiste de una lista utilizando un modelo de lenguaje (LLM). Veamos paso a paso cómo funciona:\n",
    "\n",
    "#### Datos del input (`state`)\n",
    "- La función trabaja con un diccionario llamado `state` (que sigue la estructura `OverallState`). Contiene dos piezas clave de información:\n",
    "  1. **`state[\"jokes\"]`**: Una lista de chistes (por ejemplo, `[\"¿Por qué cruzó la gallina la carretera? ¡Para llegar al otro lado!\", \"¿Cómo se llama la pasta falsa? ¡Un impasta!\"]`).\n",
    "  2. **`state[\"topic\"]`**: El tema con el que están relacionados los chistes (por ejemplo, `\"animales\"`).\n",
    "\n",
    "#### Unir los chistes\n",
    "- Los chistes de `state[\"jokes\"]` se combinan en un solo string de texto, separados por dos saltos de línea (`\\n\\n`). Por ejemplo:\n",
    "  ```python\n",
    "  jokes = \"¿Por qué cruzó la gallina la carretera? ¡Para llegar al otro lado!\\n\\n¿Cómo se llama la pasta falsa? ¡Un impasta!\"\n",
    "  ```\n",
    "\n",
    "#### Creación del prompt\n",
    "- La función construye un prompt usando una plantilla (`best_joke_prompt`) para pedirle al LLM que seleccione el mejor chiste. Este incluye:\n",
    "  - El **tema** de los chistes.\n",
    "  - La **lista de chistes**.\n",
    "\n",
    "El prompt sería algo como:\n",
    "  ```text\n",
    "  \"Aquí tienes algunos chistes sobre animales:\n",
    "  \n",
    "  1. ¿Por qué cruzó la gallina la carretera? ¡Para llegar al otro lado!\n",
    "  \n",
    "  2. ¿Cómo se llama la pasta falsa? ¡Un impasta!\n",
    "  \n",
    "  ¿Cuál es el mejor chiste? Responde con el número del chiste.\"\n",
    "  ```\n",
    "\n",
    "#### Consultando al LLM\n",
    "- La línea `model.with_structured_output(BestJoke).invoke(prompt)` envía el prompt al LLM y le pide que seleccione el mejor chiste.\n",
    "- La estructura `BestJoke` garantiza que la respuesta incluya un `id`, que identifica el número o la posición del chiste seleccionado.\n",
    "\n",
    "#### Devolviendo el mejor chiste\n",
    "- La función toma el `id` de la respuesta del LLM y lo usa para buscar el chiste correspondiente en la lista `state[\"jokes\"]`.\n",
    "- El mejor chiste se devuelve en un diccionario bajo la clave `\"best_selected_joke\"`. Por ejemplo:\n",
    "  ```python\n",
    "  {\"best_selected_joke\": \"¿Por qué cruzó la gallina la carretera? ¡Para llegar al otro lado!\"}\n",
    "  ```\n",
    "\n",
    "#### En resumen\n",
    "- La función toma una lista de chistes y un tema.\n",
    "- Pide al LLM que seleccione el mejor chiste mediante un prompt claro.\n",
    "- Devuelve el chiste seleccionado en un formato fácil de usar."
   ]
  },
  {
   "cell_type": "markdown",
   "id": "14772711-8682-47f7-b622-4b95871cb097",
   "metadata": {},
   "source": [
    "## OK. Ahora pongamos todo junto en nuestra aplicación"
   ]
  },
  {
   "cell_type": "code",
   "execution_count": 12,
   "id": "f0c58107-485e-46f7-8484-8b984f2b38f3",
   "metadata": {},
   "outputs": [
    {
     "data": {
      "image/png": "[encoded data removed]",
      "text/plain": [
       "<IPython.core.display.Image object>"
      ]
     },
     "execution_count": 12,
     "metadata": {},
     "output_type": "execute_result"
    }
   ],
   "source": [
    "from IPython.display import Image\n",
    "from langgraph.graph import END, StateGraph, START\n",
    "\n",
    "# Construct the graph: here we put everything together to construct our graph\n",
    "graph = StateGraph(OverallState)\n",
    "\n",
    "# Node to generate subjects related to the topic\n",
    "graph.add_node(\"generate_subjects\", generate_subjects)\n",
    "\n",
    "# Node to generate a joke about a subject\n",
    "graph.add_node(\"generate_joke\", generate_joke)\n",
    "\n",
    "# Node to select the best joke\n",
    "graph.add_node(\"best_joke\", best_joke)\n",
    "\n",
    "graph.add_edge(START, \"generate_subjects\")\n",
    "\n",
    "# PAY ATTENTION HERE: see how we use the continue_to_jokes function we created with Send\n",
    "graph.add_conditional_edges(\"generate_subjects\", continue_to_jokes, [\"generate_joke\"])\n",
    "\n",
    "graph.add_edge(\"generate_joke\", \"best_joke\")\n",
    "graph.add_edge(\"best_joke\", END)\n",
    "\n",
    "# Compile the graph\n",
    "app = graph.compile()\n",
    "Image(app.get_graph().draw_mermaid_png())"
   ]
  },
  {
   "cell_type": "markdown",
   "id": "318cb74f-c98a-4878-9b81-121625965f5d",
   "metadata": {},
   "source": [
    "## OK. Revisemos lo que sucede bajo el capó en esta aplicación\n",
    "\n",
    "La aplicación define un **workflow de tipo map-reduce** en LangGraph para generar y evaluar chistes basados en un tema dado. Aquí tienes una explicación simplificada, paso a paso:\n",
    "\n",
    "#### Propósito del código\n",
    "El código construye un **flujo de trabajo basado en un graph** para:\n",
    "1. Generar una lista de subtemas relacionados con un tema principal (**fase de mapeo**).  \n",
    "2. Crear un chiste para cada subtema (**fase de mapeo**).  \n",
    "3. Seleccionar el mejor chiste de los generados (**fase de reducción**).  \n",
    "\n",
    "#### Componentes clave\n",
    "\n",
    "1. **Entradas (inputs) y salidas (outputs)**:\n",
    "   - **Entrada**: Un tema proporcionado por el usuario (por ejemplo, \"Tecnología\").  \n",
    "   - **Salida**: El mejor chiste relacionado con ese tema.\n",
    "\n",
    "2. **Configuración del modelo**:\n",
    "   - Utiliza el LLM seleccionado (por ejemplo, ChatGPT-4) para generar respuestas basadas en prompts.\n",
    "\n",
    "3. **Modelos de datos**:\n",
    "   - **Subjects**: Contiene la lista de subtemas generados.  \n",
    "   - **Joke**: Almacena un chiste para un subtema específico.  \n",
    "   - **BestJoke**: Guarda el ID del mejor chiste seleccionado.\n",
    "\n",
    "4. **Gestión del estado**:\n",
    "   - **OverallState**: Rastrea el tema, los subtemas generados, los chistes y el mejor chiste seleccionado.  \n",
    "   - **JokeState**: Rastrea el subtema específico mientras se genera un chiste.\n",
    "\n",
    "#### Desglose del flujo de trabajo\n",
    "\n",
    "1. **Generación de subtemas** (Fase de Mapeo):\n",
    "   - **Función**: `generate_subjects()`\n",
    "   - Genera 3 subtemas basados en el tema principal usando el modelo de IA.\n",
    "\n",
    "2. **Generación de chistes** (Fase de Mapeo):\n",
    "   - **Función**: `generate_joke()`\n",
    "   - Crea un chiste para cada subtema.  \n",
    "   - Se ejecuta en paralelo, lo que significa que todos los chistes se generan simultáneamente.\n",
    "\n",
    "3. **Mapeo dinámico**:\n",
    "   - **Función**: `continue_to_jokes()`\n",
    "   - Mapea dinámicamente cada subtema generado al nodo de creación de chistes, incluso si el número de subtemas es desconocido de antemano.\n",
    "\n",
    "4. **Selección del mejor chiste** (Fase de Reducción):\n",
    "   - **Función**: `best_joke()`\n",
    "   - Combina todos los chistes generados y evalúa cuál es el mejor.  \n",
    "\n",
    "#### Construcción del graph\n",
    "\n",
    "- **Nodos**: Representan tareas como generar temas, crear chistes y seleccionar el mejor chiste.  \n",
    "- **Edges**: Definen las transiciones entre tareas.  \n",
    "- **Mapeo dinámico**: Permite manejar inputs de longitud variable (por ejemplo, múltiples subtemas) sin necesidad de predefinir su cantidad.  \n",
    "\n",
    "#### Conceptos clave en acción\n",
    "\n",
    "- **Fase de Mapeo**:  \n",
    "  - Divide el tema en subtemas y procesa cada subtema en paralelo para generar chistes.\n",
    "\n",
    "- **Fase de Reducción**:  \n",
    "  - Combina los resultados (chistes) y selecciona el mejor.\n",
    "\n",
    "- **Flexibilidad**:  \n",
    "  - Maneja números desconocidos de subtemas dinámicamente mediante edges condicionales.\n",
    "\n",
    "#### Analogía con el mundo real\n",
    "\n",
    "Imagina que quieres preparar un show de comedia basado en un tema:  \n",
    "1. **Tema**: \"Tecnología\".  \n",
    "2. **Paso 1 (Mapeo)**: Haces una lluvia de ideas sobre temas relacionados como \"IA\", \"Smartphones\" y \"Robots\".  \n",
    "3. **Paso 2 (Mapeo)**: Escribes chistes sobre cada uno de esos temas.  \n",
    "4. **Paso 3 (Reducción)**: Seleccionas el chiste más gracioso para contar en el show.\n",
    "\n",
    "#### Resultado final\n",
    "\n",
    "El graph ejecuta estos pasos, procesa cada etapa y devuelve el **mejor chiste** relacionado con el tema dado."
   ]
  },
  {
   "cell_type": "markdown",
   "id": "6256e67f-20a5-4707-8d82-ffa60a820a4a",
   "metadata": {},
   "source": [
    "## Prestemos atención a la línea donde activamos la \"Magia de Send\" en el código anterior\n",
    "\n",
    "En el código anterior, es importante comprender la línea donde activamos la **\"Magia de Send\"**:\n",
    "\n",
    "```python\n",
    "graph.add_conditional_edges(\"generate_subjects\", continue_to_jokes, [\"generate_joke\"])\n",
    "```\n",
    "\n",
    "#### Explicación\n",
    "Aquí está el desglose de sus componentes:\n",
    "\n",
    "1. **`graph.add_conditional_edges`**:\n",
    "   - Esta función define **edges condicionales** en el graph de state que se crean dinámicamente según alguna condición o cálculo. A diferencia de una edge estático (como `graph.add_edge`), los edges condicionales dependen del resultado de una función definida por el usuario, la cual se evalúa en tiempo de ejecución.\n",
    "\n",
    "2. **`\"generate_subjects\"`**:\n",
    "   - Este es el nodo de origen en el graph. Después de que este nodo se procesa, el graph evalúa la función `continue_to_jokes` para determinar qué sucede a continuación.\n",
    "\n",
    "3. **`continue_to_jokes`**:\n",
    "   - Esta es la función personalizada que determina los edges condicionales.  \n",
    "   - Toma el state actual como entrada (`OverallState`) y devuelve una lista de instrucciones `Send`, que indican a qué nodo ir a continuación y qué datos deben pasarse.  \n",
    "   - En este caso, por cada subtema en `state[\"subjects\"]`, se genera una instrucción `Send` que indica que el flujo debe pasar al nodo `\"generate_joke\"` y que debe enviarse el subtema correspondiente en los datos.\n",
    "\n",
    "   Aquí está la función `continue_to_jokes`:\n",
    "   ```python\n",
    "   def continue_to_jokes(state: OverallState):\n",
    "       return [Send(\"generate_joke\", {\"subject\": s}) for s in state[\"subjects\"]]\n",
    "   ```\n",
    "   - **`Send(\"generate_joke\", {\"subject\": s})`**:\n",
    "     - Esto indica al graph que envíe el flujo de control al nodo `\"generate_joke\"`, pasando un diccionario `{\"subject\": s}` como datos de entrada, donde `s` es cada subtema dentro de la lista `state[\"subjects\"]`.\n",
    "\n",
    "4. **`[\"generate_joke\"]`**:\n",
    "   - **Esta es la lista de nodos de destino posibles**. En este caso, hay un solo nodo de destino: `\"generate_joke\"`, donde la función `generate_joke` procesará los datos enviados por cada `Send`.\n",
    "\n",
    "#### ¿Qué sucede en la práctica?\n",
    "- Después de que el nodo `\"generate_subjects\"` se ejecuta, llena el estado con una lista de subtemas (`state[\"subjects\"]`).\n",
    "- Se invoca la función `continue_to_jokes`, que crea una instrucción `Send` por cada subtema en la lista.\n",
    "- Cada instrucción `Send` crea dinámicamente una conexión al nodo `\"generate_joke\"`, enviando el subtema correspondiente como input.\n",
    "- **El graph procesa el nodo `\"generate_joke\"` múltiples veces —una vez por cada subtema— generando un chiste para cada uno**.\n",
    "\n",
    "#### Analogía visual\n",
    "Imagina que `\"generate_subjects\"` es una máquina que genera una lista de subtemas como `[\"gatos\", \"perros\", \"pingüinos\"]`.  \n",
    "La función `continue_to_jokes` actúa como un distribuidor, enviando cada subtema al nodo `\"generate_joke\"` por separado. Por ejemplo:\n",
    "- `\"gatos\"` → `\"generate_joke\"`\n",
    "- `\"perros\"` → `\"generate_joke\"`\n",
    "- `\"pingüinos\"` → `\"generate_joke\"`\n",
    "\n",
    "Esto asegura que cada subtema se procese de forma independiente.\n",
    "\n",
    "#### Resumen\n",
    "Esta línea de código:\n",
    "```python\n",
    "graph.add_conditional_edges(\"generate_subjects\", continue_to_jokes, [\"generate_joke\"])\n",
    "```\n",
    "permite que el nodo `\"generate_subjects\"` se conecte dinámicamente al nodo `\"generate_joke\"` para **cada subtema** en la lista `state[\"subjects\"]`, permitiendo que se generen chistes de manera independiente para cada uno."
   ]
  },
  {
   "cell_type": "markdown",
   "id": "8357b5a1-9849-4a3c-a9d7-3837aec0abaf",
   "metadata": {},
   "source": [
    "## Y ahora podemos ejecutar la aplicación"
   ]
  },
  {
   "cell_type": "code",
   "execution_count": 13,
   "id": "7ad06095-df25-4fc5-b9f6-7126f9b8bd63",
   "metadata": {},
   "outputs": [
    {
     "name": "stdout",
     "output_type": "stream",
     "text": [
      "{'generate_subjects': {'subjects': ['Mammals', 'Reptiles', 'Birds']}}\n",
      "{'generate_joke': {'jokes': [\"Why don't mammals ever use computers? Because they're afraid of the mouse!\"]}}\n",
      "{'generate_joke': {'jokes': [\"Why don't reptiles like fast food?\\nBecause they can't catch it!\"]}}\n",
      "{'generate_joke': {'jokes': [\"Why do seagulls fly over the ocean? Because if they flew over the bay, they'd be called bagels!\"]}}\n",
      "{'best_joke': {'best_selected_joke': \"Why do seagulls fly over the ocean? Because if they flew over the bay, they'd be called bagels!\"}}\n"
     ]
    }
   ],
   "source": [
    "# Call the graph: here we call it to generate a list of jokes\n",
    "for s in app.stream({\"topic\": \"animals\"}):\n",
    "    print(s)"
   ]
  },
  {
   "cell_type": "markdown",
   "id": "ecf77e71-99cc-4fab-a7f3-2084d647b025",
   "metadata": {},
   "source": [
    "## Cómo ejecutar el código desde Visual Studio Code\n",
    "\n",
    "* En Visual Studio Code, localiza el archivo **`022-map-reduce.py`**.  \n",
    "* En la terminal, asegúrate de que estás en el directorio donde se encuentra el archivo y ejecuta:  \n",
    "    ```bash\n",
    "    python 022-map-reduce.py\n",
    "    ```"
   ]
  },
  {
   "cell_type": "code",
   "execution_count": null,
   "id": "31ea29c8-7b7d-4db8-b597-827f426fc333",
   "metadata": {},
   "outputs": [],
   "source": []
  }
 ],
 "metadata": {
  "kernelspec": {
   "display_name": "Python 3 (ipykernel)",
   "language": "python",
   "name": "python3"
  },
  "language_info": {
   "codemirror_mode": {
    "name": "ipython",
    "version": 3
   },
   "file_extension": ".py",
   "mimetype": "text/x-python",
   "name": "python",
   "nbconvert_exporter": "python",
   "pygments_lexer": "ipython3",
   "version": "3.12.5"
  }
 },
 "nbformat": 4,
 "nbformat_minor": 5
}

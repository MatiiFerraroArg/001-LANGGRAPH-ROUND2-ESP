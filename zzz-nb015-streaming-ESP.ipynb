{
 "cells": [
  {
   "cell_type": "markdown",
   "id": "1bcc99e5-c43f-4cc2-af25-1c67859c6634",
   "metadata": {},
   "source": [
    "# De Invoke a Stream\n",
    "* El streaming proporciona varias formas de visualizar el output de una aplicación LangGraph."
   ]
  },
  {
   "cell_type": "markdown",
   "id": "e840fde0-81d6-4d04-a4f5-33f4d5bf93b2",
   "metadata": {},
   "source": [
    "## Invoke vs. Stream\n",
    "\n",
    "En LangGraph, la diferencia entre `graph.invoke` y `graph.stream` radica en cómo manejan el **flujo de ejecución** y los **resultados** al trabajar con nodos en un graph.\n",
    "\n",
    "#### 1. **`graph.invoke`**:\n",
    "   - **Propósito**: Ejecuta el graph **de una sola vez** y devuelve el **resultado final**.\n",
    "   - **Comportamiento**:\n",
    "     - Ejecuta todos los nodos necesarios para calcular el input.\n",
    "     - La computación es **sincrónica**, lo que significa que se espera hasta que el graph complete todo su proceso.\n",
    "   - **Caso de uso**: Cuando necesitas el **resultado final** de un graph y no te interesan los pasos intermedios ni el streaming.\n",
    "\n",
    "   **Ejemplo**:  \n",
    "   Si tienes un graph que toma datos de entrada, los procesa a través de varios nodos y genera un resumen, `graph.invoke` hará lo siguiente:\n",
    "     - Ejecutará todo el graph.\n",
    "     - Devolverá el resumen final como un único resultado.\n",
    "\n",
    "#### 2. **`graph.stream`**:\n",
    "   - **Propósito**: Ejecuta el graph **de forma incremental**, proporcionando outputs intermedios o actualizaciones a medida que el graph procesa.\n",
    "   - **Comportamiento**:\n",
    "     - Permite observar la **salida de los nodos a medida que se completan**, en lugar de esperar a que termine todo el graph.\n",
    "     - Ideal para **actualizaciones en tiempo real** o **progresivas**.\n",
    "   - **Caso de uso**: Cuando deseas monitorear o actuar sobre **resultados intermedios** a medida que se generan.\n",
    "\n",
    "   **Ejemplo**:  \n",
    "   Si el graph está analizando datos en fragmentos, `graph.stream` hará lo siguiente:\n",
    "     - Proporcionará outputs intermedios para cada fragmento a medida que se procesan.\n",
    "     - Permitirá manejar o mostrar los resultados progresivamente, sin necesidad de esperar a que todo el proceso termine.\n",
    "\n",
    "#### **Resumen**:\n",
    "- **`graph.invoke`**: Entiéndelo como \"Ejecuta todo el proceso y dame el resultado final.\"\n",
    "- **`graph.stream`**: Entiéndelo como \"Ejecuta el proceso paso a paso y muéstrame los resultados a medida que ocurren.\"\n",
    "\n",
    "La elección entre uno u otro depende de si necesitas el resultado completo de una vez (`invoke`) o prefieres recibir actualizaciones durante el proceso (`stream`)."
   ]
  },
  {
   "cell_type": "markdown",
   "id": "6001b53a-55f7-4e9b-9235-4fed409b7e2a",
   "metadata": {},
   "source": [
    "## La importancia de Stream en LangGraph: algunas pistas\n",
    "\n",
    "Puedes comprender la importancia de `.stream` en LangGraph observando los siguientes conceptos:\n",
    "\n",
    "#### **1. ¿Qué es un step en LangGraph?**\n",
    "\n",
    "- Un **step** es como un momento en la ejecución de la aplicación donde se realiza algún trabajo.\n",
    "- Generalmente, cada **nodo** en el graph representa un step separado porque realiza una tarea específica.\n",
    "- Sin embargo, si varios nodos están configurados para ejecutarse **al mismo tiempo (en paralelo)**, todos pertenecen al **mismo step**, ya que se ejecutan juntos.\n",
    "- **Nota clave**: El equipo de LangGraph a veces usa los términos **\"step\"** y **\"checkpoint\"** de manera intercambiable, por lo que puedes considerarlos como sinónimos.\n",
    "\n",
    "#### **2. ¿Cómo podemos ver el state de una aplicación en LangGraph?**\n",
    "\n",
    "- El **state** es como una instantánea de todo lo que la aplicación sabe o ha hecho hasta un cierto step.\n",
    "  - **`graph.get_state()`**:\n",
    "    - Te da el **state actual** (lo que está ocurriendo en este momento o lo que acaba de finalizar).\n",
    "    - Muestra lo que la aplicación sabe en el **último step**.\n",
    "  - **`graph.get_state_history()`**:\n",
    "    - Proporciona una **lista de todos los state pasados**.\n",
    "    - Es como una línea de tiempo que muestra cómo ha progresado la aplicación a través de cada step.\n",
    "\n",
    "#### **3. ¿Cómo podemos ejecutar una aplicación comenzando desde diferentes steps en LangGraph?**\n",
    "\n",
    "- Puedes controlar desde qué step comienza el procesamiento de la aplicación.\n",
    "  - **`graph.stream(None, {thread_id})`**:\n",
    "    - Inicia la aplicación desde el **step más reciente** (el último state).\n",
    "    - Útil si solo quieres continuar desde donde la aplicación se detuvo.\n",
    "  - **`graph.stream(None, {particular_step, thread_id})`**:\n",
    "    - Inicia la aplicación desde un **step específico** que elijas.\n",
    "    - Útil si deseas volver a intentar o reejecutar desde un punto anterior en la línea de tiempo del graph.\n",
    "\n",
    "#### **Analogía**:\n",
    "\n",
    "Imagina que estás leyendo un libro:\n",
    "- Un **step** es como un capítulo del libro.\n",
    "  - La mayoría de los capítulos (nodos) se leen uno a la vez, pero algunos capítulos (nodos en paralelo) se leen simultáneamente.\n",
    "- **`graph.get_state()`**: Te dice en qué capítulo estás leyendo actualmente.\n",
    "- **`graph.get_state_history()`**: Te da un resumen de todos los capítulos que has leído hasta ahora.\n",
    "- **`graph.stream(None, {thread_id})`**: Continúa la lectura desde el último capítulo.\n",
    "- **`graph.stream(None, {particular_step, thread_id})`**: Te permite retroceder y releer un capítulo específico antes de continuar."
   ]
  },
  {
   "cell_type": "markdown",
   "id": "e20f8c0d-8de0-4777-b235-edd7589973c8",
   "metadata": {},
   "source": [
    "## Setup"
   ]
  },
  {
   "cell_type": "markdown",
   "id": "871e0018-cba4-4959-881a-0a65093d202d",
   "metadata": {},
   "source": [
    "#### After you download the code from the github repository in your computer\n",
    "In terminal:\n",
    "* cd project_name\n",
    "* pyenv local 3.11.4\n",
    "* poetry install\n",
    "* poetry shell"
   ]
  },
  {
   "cell_type": "markdown",
   "id": "4065e336-d054-412c-8a3f-1fbec63e1bcd",
   "metadata": {},
   "source": [
    "#### To open the notebook with Jupyter Notebooks\n",
    "In terminal:\n",
    "* jupyter lab\n",
    "\n",
    "Go to the folder of notebooks and open the right notebook."
   ]
  },
  {
   "cell_type": "markdown",
   "id": "62dda8d4-80cf-4b8f-9981-94edda5e9911",
   "metadata": {},
   "source": [
    "#### To see the code in Virtual Studio Code or your editor of choice.\n",
    "* open Virtual Studio Code or your editor of choice.\n",
    "* open the project-folder\n",
    "* open the 015-streaming.py file"
   ]
  },
  {
   "cell_type": "markdown",
   "id": "af743328-1bc8-4b01-85fb-fcb21c6499c2",
   "metadata": {},
   "source": [
    "## Create your .env file\n",
    "* In the github repo we have included a file named .env.example\n",
    "* Rename that file to .env file and here is where you will add your confidential api keys. Remember to include:\n",
    "* OPENAI_API_KEY=your_openai_api_key\n",
    "* LANGCHAIN_TRACING_V2=true\n",
    "* LANGCHAIN_ENDPOINT=https://api.smith.langchain.com\n",
    "* LANGCHAIN_API_KEY=your_langchain_api_key\n",
    "* LANGCHAIN_PROJECT=your_project_name"
   ]
  },
  {
   "cell_type": "markdown",
   "id": "40e766aa-f3e2-491f-be99-d0c6b700d47a",
   "metadata": {},
   "source": [
    "## Track operations\n",
    "From now on, we can track the operations **and the cost** of this project from LangSmith:\n",
    "* [smith.langchain.com](https://smith.langchain.com)"
   ]
  },
  {
   "cell_type": "markdown",
   "id": "4f99504a-1b8f-4360-b342-0b81ffa06aff",
   "metadata": {},
   "source": [
    "## Connect with the .env file located in the same directory of this notebook"
   ]
  },
  {
   "cell_type": "markdown",
   "id": "e39e5789-5bde-42e1-88dd-92dc8e363c24",
   "metadata": {},
   "source": [
    "If you are using the pre-loaded poetry shell, you do not need to install the following package because it is already pre-loaded for you:"
   ]
  },
  {
   "cell_type": "code",
   "execution_count": 1,
   "id": "c5514113-ddca-4ae9-9de6-0b9225b18f3c",
   "metadata": {},
   "outputs": [],
   "source": [
    "#pip install python-dotenv"
   ]
  },
  {
   "cell_type": "code",
   "execution_count": 2,
   "id": "fecd39d0-e72e-4bc2-8a68-2fa4008ea365",
   "metadata": {},
   "outputs": [],
   "source": [
    "import os\n",
    "from dotenv import load_dotenv, find_dotenv\n",
    "_ = load_dotenv(find_dotenv())\n",
    "openai_api_key = os.environ[\"OPENAI_API_KEY\"]"
   ]
  },
  {
   "cell_type": "markdown",
   "id": "03f4a923-b19e-498e-9be5-e47ec4a77d80",
   "metadata": {},
   "source": [
    "#### Install LangChain"
   ]
  },
  {
   "cell_type": "markdown",
   "id": "9fef1e5c-b7e2-4a04-96c5-8f64377b8eba",
   "metadata": {},
   "source": [
    "If you are using the pre-loaded poetry shell, you do not need to install the following package because it is already pre-loaded for you:"
   ]
  },
  {
   "cell_type": "code",
   "execution_count": 3,
   "id": "c1cf94ae-6c39-4475-9c5b-4b74d8d78753",
   "metadata": {},
   "outputs": [],
   "source": [
    "#!pip install langchain"
   ]
  },
  {
   "cell_type": "markdown",
   "id": "189e9e17-dfb0-4fd3-85b9-1fba83771941",
   "metadata": {},
   "source": [
    "## Connect with an LLM"
   ]
  },
  {
   "cell_type": "markdown",
   "id": "b21d23f4-61f5-4227-8a75-7eefde6680ee",
   "metadata": {},
   "source": [
    "If you are using the pre-loaded poetry shell, you do not need to install the following package because it is already pre-loaded for you:"
   ]
  },
  {
   "cell_type": "code",
   "execution_count": 4,
   "id": "148df8e0-361d-4ddd-8709-af48fa1648d1",
   "metadata": {},
   "outputs": [],
   "source": [
    "#!pip install langchain-openai"
   ]
  },
  {
   "cell_type": "code",
   "execution_count": 5,
   "id": "df978ec5-bfd2-4167-bd33-86bc2687d1cb",
   "metadata": {},
   "outputs": [],
   "source": [
    "from langchain_openai import ChatOpenAI\n",
    "\n",
    "chatModel35 = ChatOpenAI(model=\"gpt-3.5-turbo-0125\")\n",
    "chatModel4o = ChatOpenAI(model=\"gpt-4o\")"
   ]
  },
  {
   "cell_type": "markdown",
   "id": "c6e6ced8-ae11-42a7-b700-e13899883a2e",
   "metadata": {},
   "source": [
    "## Streaming\n",
    "* Veamos varias formas de stream outputs desde una aplicación de LangGraph.  \n",
    "* Comenzaremos reutilizando la lógica de nuestra aplicación anterior.  \n",
    "* **Ten en cuenta que el equipo de LangGraph incluye `RunnableConfig` con `call_model` para habilitar token-wise streaming. Esto solo es necesario con Python < 3.11.**"
   ]
  },
  {
   "cell_type": "code",
   "execution_count": 6,
   "id": "905b95f8-cecf-495b-bf62-ded9734f6dc3",
   "metadata": {},
   "outputs": [
    {
     "data": {
      "image/png": "[encoded data removed]",
      "text/plain": [
       "<IPython.core.display.Image object>"
      ]
     },
     "metadata": {},
     "output_type": "display_data"
    }
   ],
   "source": [
    "from IPython.display import Image, display\n",
    "\n",
    "from langchain_openai import ChatOpenAI\n",
    "from langchain_core.messages import SystemMessage, HumanMessage, RemoveMessage\n",
    "from langchain_core.runnables import RunnableConfig\n",
    "\n",
    "from langgraph.checkpoint.memory import MemorySaver\n",
    "from langgraph.graph import StateGraph, START, END\n",
    "from langgraph.graph import MessagesState\n",
    "\n",
    "# LLM\n",
    "model = ChatOpenAI(model=\"gpt-4o\", temperature=0) \n",
    "\n",
    "# State \n",
    "class State(MessagesState):\n",
    "    summary: str\n",
    "\n",
    "# Define the logic to call the model\n",
    "def call_model(state: State, config: RunnableConfig):\n",
    "    \n",
    "    # Get summary if it exists\n",
    "    summary = state.get(\"summary\", \"\")\n",
    "\n",
    "    # If there is summary, then we add it\n",
    "    if summary:\n",
    "        \n",
    "        # Add summary to system message\n",
    "        system_message = f\"Summary of conversation earlier: {summary}\"\n",
    "\n",
    "        # Append summary to any newer messages\n",
    "        messages = [SystemMessage(content=system_message)] + state[\"messages\"]\n",
    "    \n",
    "    else:\n",
    "        messages = state[\"messages\"]\n",
    "    \n",
    "    response = model.invoke(messages, config)\n",
    "    return {\"messages\": response}\n",
    "\n",
    "def summarize_conversation(state: State):\n",
    "    \n",
    "    # First, we get any existing summary\n",
    "    summary = state.get(\"summary\", \"\")\n",
    "\n",
    "    # Create our summarization prompt \n",
    "    if summary:\n",
    "        \n",
    "        # A summary already exists\n",
    "        summary_message = (\n",
    "            f\"This is summary of the conversation to date: {summary}\\n\\n\"\n",
    "            \"Extend the summary by taking into account the new messages above:\"\n",
    "        )\n",
    "        \n",
    "    else:\n",
    "        summary_message = \"Create a summary of the conversation above:\"\n",
    "\n",
    "    # Add prompt to our history\n",
    "    messages = state[\"messages\"] + [HumanMessage(content=summary_message)]\n",
    "    response = model.invoke(messages)\n",
    "    \n",
    "    # Delete all but the 2 most recent messages\n",
    "    delete_messages = [RemoveMessage(id=m.id) for m in state[\"messages\"][:-2]]\n",
    "    return {\"summary\": response.content, \"messages\": delete_messages}\n",
    "\n",
    "# Determine whether to end or summarize the conversation\n",
    "def should_continue(state: State):\n",
    "    \n",
    "    \"\"\"Return the next node to execute.\"\"\"\n",
    "    \n",
    "    messages = state[\"messages\"]\n",
    "    \n",
    "    # If there are more than six messages, then we summarize the conversation\n",
    "    if len(messages) > 6:\n",
    "        return \"summarize_conversation\"\n",
    "    \n",
    "    # Otherwise we can just end\n",
    "    return END\n",
    "\n",
    "# Define a new graph\n",
    "workflow = StateGraph(State)\n",
    "workflow.add_node(\"conversation\", call_model)\n",
    "workflow.add_node(summarize_conversation)\n",
    "\n",
    "# Set the entrypoint as conversation\n",
    "workflow.add_edge(START, \"conversation\")\n",
    "workflow.add_conditional_edges(\"conversation\", should_continue)\n",
    "workflow.add_edge(\"summarize_conversation\", END)\n",
    "\n",
    "# Compile\n",
    "memory = MemorySaver()\n",
    "graph = workflow.compile(checkpointer=memory)\n",
    "display(Image(graph.get_graph().draw_mermaid_png()))"
   ]
  },
  {
   "cell_type": "markdown",
   "id": "431557a2-4a6a-4645-901e-f3d0b45663d0",
   "metadata": {},
   "source": [
    "## LangGraph admite diferentes modos de streaming para el state del graph\n",
    "\n",
    "En LangGraph, al usar `stream_mode`, la opción define **qué tipo de información** recibes mientras el graph se está ejecutando. Aquí está la diferencia entre `\"updates\"` y `\"values\"`:\n",
    "\n",
    "#### **1. `stream_mode=\"updates\"`**\n",
    "- **Qué hace**: Envía actualizaciones sobre el **state del graph**.\n",
    "- **Qué recibes**:\n",
    "  - Notificaciones cuando los nodos están **iniciando**, **en proceso** o **completados**.\n",
    "  - Es como recibir un informe de progreso sobre **lo que está ocurriendo** en el graph.\n",
    "- **Caso de uso**:\n",
    "  - Útil si deseas monitorear la actividad del graph o **depurar** su ejecución.\n",
    "  - Ejemplo: \"El nodo A ha comenzado a procesar\", \"El nodo B ha finalizado\".\n",
    "\n",
    "#### **2. `stream_mode=\"values\"`**\n",
    "- **Qué hace**: Envía los **outputs reales** de los nodos a medida que se calculan.\n",
    "- **Qué recibes**:\n",
    "  - Los **datos o resultados** generados por los nodos conforme terminan su trabajo.\n",
    "  - Es como recibir las **respuestas** intermedias o finales que el graph está produciendo.\n",
    "- **Caso de uso**:\n",
    "  - Útil si necesitas los **resultados** de los nodos tan pronto como estén disponibles.\n",
    "  - Ejemplo: \"El nodo A produjo el valor X\", \"El nodo B produjo el valor Y\".\n",
    "\n",
    "#### **Diferencia clave**:\n",
    "- `\"updates\"`: Se centra en **qué está haciendo** el graph (progress updates).\n",
    "- `\"values\"`: Se centra en **qué está produciendo** el graph (data outputs).\n",
    "\n",
    "#### **Analogía sencilla**:\n",
    "Imagina que estás horneando un pastel:\n",
    "- **`stream_mode=\"updates\"`**: Recibes mensajes como \"El horno se está precalentando\", \"La masa está en el horno\", \"El pastel está listo\".\n",
    "- **`stream_mode=\"values\"`**: Pruebas la masa, el glaseado y el pastel a medida que se preparan, mostrando los **resultados** de cada paso.\n",
    "\n",
    "Elige `\"updates\"` para rastrear la **actividad** y `\"values\"` para rastrear los **resultados**."
   ]
  },
  {
   "cell_type": "markdown",
   "id": "d03c9ea3-8129-4570-b33d-4d1e43474406",
   "metadata": {},
   "source": [
    "## Lo entenderás más fácilmente viendo la siguiente imagen  \n",
    "* `stream_mode=\"updates\"`: Este modo transmite solo las actualizaciones del state después de que se llama a cada nodo.  \n",
    "* `stream_mode=\"values\"`: Este modo transmite el state completo después de que se llama a cada nodo."
   ]
  },
  {
   "cell_type": "markdown",
   "id": "118ebfa3-8ee2-4912-9a82-ccb634b44ef9",
   "metadata": {},
   "source": [
    "![Simple graph](graph004.png)"
   ]
  },
  {
   "cell_type": "markdown",
   "id": "2bf01449-9944-4fd1-8fdb-0671b342fa58",
   "metadata": {},
   "source": [
    "## Diferencias entre los modos \"values\" y \"updates\" en el Streaming de LangGraph\n",
    "\n",
    "LangGraph ofrece dos modos principales para transmitir outputs durante la ejecución de un graph: **\"values\"** y **\"updates\"**. Estos modos difieren en la forma en que manejan y entregan la información del state después de cada step del graph. Aquí tienes una explicación simplificada:\n",
    "\n",
    "#### **1. El modo \"values\"**  \n",
    "- **Qué hace:**  \n",
    "  - Transmite el **state completo** del graph **después de cada step** completado.  \n",
    "  - El state refleja **todas las actualizaciones** realizadas hasta ese punto, proporcionando una **instantánea** del progreso del graph.  \n",
    "\n",
    "- **Característica clave:**  \n",
    "  - Obtienes **una visión completa** del stae actual, incluyendo cualquier valor no modificado que se mantenga.  \n",
    "\n",
    "- **Ejemplos de casos de uso:**  \n",
    "  1. **Seguimiento del progreso:**  \n",
    "     - Permite monitorear cómo evoluciona el state general después de cada step.  \n",
    "  2. **Depuración y registro:**  \n",
    "     - Útil para revisar todo el contexto si algo sale mal.  \n",
    "  3. **Validación del state final:**  \n",
    "     - Permite verificar la estructura completa de los datos después de cualquier step para detectar cambios inesperados.  \n",
    "\n",
    "#### **2. El modo \"updates\"**  \n",
    "- **Qué hace:**  \n",
    "  - Transmite **solo los cambios (actualizaciones)** realizados en el state durante un step.  \n",
    "  - Si múltiples actualizaciones ocurren en el mismo step (por ejemplo, si varios nodos se ejecutan en paralelo), cada actualización se transmite **individualmente**.  \n",
    "\n",
    "- **Característica clave:**  \n",
    "  - Se enfoca en **solo los cambios** en lugar de todo el state.  \n",
    "\n",
    "- **Ejemplos de casos de uso:**  \n",
    "  1. **Retroalimentación incremental:**  \n",
    "     - Ideal para sistemas en tiempo real donde se necesitan **resultados parciales** en cuanto estén disponibles (por ejemplo, chatbots).  \n",
    "  2. **Eficiencia en estados grandes:**  \n",
    "     - Evita reenviar partes del state que no han cambiado, lo que lo hace **más rápido y liviano** para graphs complejos.  \n",
    "  3. **Aplicaciones interactivas:**  \n",
    "     - Excelente para aplicaciones que requieren **actualizaciones continuas**, como formularios dinámicos o visualizaciones en vivo.  \n",
    "\n",
    "#### **Tabla resumen**\n",
    "\n",
    "| Característica  | Modo \"values\"                            | Modo \"updates\"                          |\n",
    "|---------------|-------------------------------------------|------------------------------------------|\n",
    "| **Transmite**   | State completo después de cada paso     | Solo los cambios (actualizaciones)      |\n",
    "| **Granularidad**| Alta (instantánea completa)             | Baja (actualizaciones incrementales)    |\n",
    "| **Mejor para**  | Depuración, seguimiento del progreso, validaciones finales | Retroalimentación en tiempo real, apps interactivas, eficiencia |\n",
    "\n",
    "Ambos modos están diseñados para cubrir diferentes necesidades según si prefieres **instantáneas completas** o **actualizaciones incrementales**."
   ]
  },
  {
   "cell_type": "markdown",
   "id": "42329883-a146-4fb7-b4c7-087ad5bcc3c3",
   "metadata": {},
   "source": [
    "## Transmitiendo solo las actualizaciones del state con `stream_mode=\"updates\"`"
   ]
  },
  {
   "cell_type": "code",
   "execution_count": 7,
   "id": "5c8f220f-2a40-4cf8-9173-1e54fc257e14",
   "metadata": {},
   "outputs": [
    {
     "name": "stdout",
     "output_type": "stream",
     "text": [
      "{'conversation': {'messages': AIMessage(content='Hello, Julio! How can I assist you today?', additional_kwargs={'refusal': None}, response_metadata={'token_usage': {'completion_tokens': 12, 'prompt_tokens': 11, 'total_tokens': 23, 'completion_tokens_details': {'accepted_prediction_tokens': 0, 'audio_tokens': 0, 'reasoning_tokens': 0, 'rejected_prediction_tokens': 0}, 'prompt_tokens_details': {'audio_tokens': 0, 'cached_tokens': 0}}, 'model_name': 'gpt-4o-2024-08-06', 'system_fingerprint': 'fp_5f20662549', 'finish_reason': 'stop', 'logprobs': None}, id='run-7e96d60d-9376-4faa-8d62-c278a6af91ac-0', usage_metadata={'input_tokens': 11, 'output_tokens': 12, 'total_tokens': 23, 'input_token_details': {'audio': 0, 'cache_read': 0}, 'output_token_details': {'audio': 0, 'reasoning': 0}})}}\n"
     ]
    }
   ],
   "source": [
    "# Create a thread\n",
    "config = {\"configurable\": {\"thread_id\": \"1\"}}\n",
    "\n",
    "# Start conversation\n",
    "for chunk in graph.stream(\n",
    "    {\"messages\": [HumanMessage(content=\"Hi! I'm Julio\")]}, \n",
    "    config, \n",
    "    stream_mode=\"updates\"):\n",
    "    print(chunk)"
   ]
  },
  {
   "cell_type": "markdown",
   "id": "ec9a46c0-d58f-4041-8479-4dfb72ca76b3",
   "metadata": {},
   "source": [
    "* En el código anterior, cada fragmento es un diccionario de Python con el state actualizado de cada nodo.  \n",
    "* Ahora, imprimamos la conversación:"
   ]
  },
  {
   "cell_type": "code",
   "execution_count": 8,
   "id": "0c027525-bfe0-4bf6-8a8e-b4eb490ed930",
   "metadata": {},
   "outputs": [
    {
     "name": "stdout",
     "output_type": "stream",
     "text": [
      "==================================\u001b[1m Ai Message \u001b[0m==================================\n",
      "\n",
      "Hi Julio! How can I help you today?\n"
     ]
    }
   ],
   "source": [
    "# Start conversation\n",
    "for chunk in graph.stream(\n",
    "    {\"messages\": [HumanMessage(content=\"Hi! I'm Julio\")]}, \n",
    "    config, \n",
    "    stream_mode=\"updates\"):\n",
    "    chunk['conversation'][\"messages\"].pretty_print()"
   ]
  },
  {
   "cell_type": "markdown",
   "id": "a792b495-5d78-4d17-915f-dcf8e0b442ad",
   "metadata": {},
   "source": [
    "* Como puedes ver, **transmite solo las actualizaciones del state** después de que se llama a cada nodo."
   ]
  },
  {
   "cell_type": "markdown",
   "id": "ffd6f10d-76b0-44a4-bd67-e9860d589df3",
   "metadata": {},
   "source": [
    "## Transmitiendo el state completo con stream_mode=\"values\""
   ]
  },
  {
   "cell_type": "code",
   "execution_count": 9,
   "id": "640b6168-a99b-4d4c-ad30-5157e6dcd32f",
   "metadata": {},
   "outputs": [
    {
     "name": "stdout",
     "output_type": "stream",
     "text": [
      "================================\u001b[1m Human Message \u001b[0m=================================\n",
      "\n",
      "Hi! I'm Julio\n",
      "---------------------------------------------------------------------------\n",
      "================================\u001b[1m Human Message \u001b[0m=================================\n",
      "\n",
      "Hi! I'm Julio\n",
      "==================================\u001b[1m Ai Message \u001b[0m==================================\n",
      "\n",
      "Hello, Julio! How can I assist you today?\n",
      "---------------------------------------------------------------------------\n"
     ]
    }
   ],
   "source": [
    "# Start conversation, again\n",
    "config = {\"configurable\": {\"thread_id\": \"2\"}}\n",
    "\n",
    "# Start conversation\n",
    "input_message = HumanMessage(content=\"Hi! I'm Julio\")\n",
    "\n",
    "for event in graph.stream(\n",
    "    {\"messages\": [input_message]}, \n",
    "    config, \n",
    "    stream_mode=\"values\"):\n",
    "    for m in event['messages']:\n",
    "        m.pretty_print()\n",
    "    print(\"---\"*25)"
   ]
  },
  {
   "cell_type": "markdown",
   "id": "62b2a5c4-1626-4fbf-bc2d-358913abc477",
   "metadata": {},
   "source": [
    "* Como puedes ver, **ahora transmite el state completo** después de que se llama a cada nodo."
   ]
  },
  {
   "cell_type": "markdown",
   "id": "a14c33c8-2b7b-4e7e-b04a-4785acf24aa7",
   "metadata": {},
   "source": [
    "## Otras posibilidades de streaming  \n",
    "* También podrías transmitir otros componentes del output, como los tokens, usando el método `.astream_events`.  \n",
    "* Consulta la [guía completa sobre transmisión](https://langchain-ai.github.io/langgraph/concepts/streaming/) para más información."
   ]
  },
  {
   "cell_type": "markdown",
   "id": "1858b687-b2ff-4366-b522-90cd1ae500b9",
   "metadata": {},
   "source": [
    "## Cómo ejecutar el código desde Visual Studio Code  \n",
    "* En Visual Studio Code, busca el archivo `015-streaming.py`.  \n",
    "* En la terminal, asegúrate de estar en el directorio del archivo y ejecuta:  \n",
    "    * `python 015-streaming.py`"
   ]
  },
  {
   "cell_type": "code",
   "execution_count": null,
   "id": "1f1951c2-4a61-46f4-9bb7-56fdc01ad5b2",
   "metadata": {},
   "outputs": [],
   "source": []
  }
 ],
 "metadata": {
  "kernelspec": {
   "display_name": "Python 3 (ipykernel)",
   "language": "python",
   "name": "python3"
  },
  "language_info": {
   "codemirror_mode": {
    "name": "ipython",
    "version": 3
   },
   "file_extension": ".py",
   "mimetype": "text/x-python",
   "name": "python",
   "nbconvert_exporter": "python",
   "pygments_lexer": "ipython3",
   "version": "3.12.5"
  }
 },
 "nbformat": 4,
 "nbformat_minor": 5
}

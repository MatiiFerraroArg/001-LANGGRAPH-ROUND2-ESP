{
 "cells": [
  {
   "cell_type": "markdown",
   "id": "b830b505-76b0-494a-9726-5b1e98fdc66c",
   "metadata": {},
   "source": [
    "# LangGraph Intro"
   ]
  },
  {
   "cell_type": "markdown",
   "id": "5442b29d-faf9-44c8-a181-2a3f367bc75f",
   "metadata": {},
   "source": [
    "## ¿Por qué LangGraph?  \n",
    "* El equipo de LangChain se dio cuenta de que los desarrolladores de agentes de IA necesitaban una framework que les diera más control sobre el proceso de desarrollo."
   ]
  },
  {
   "cell_type": "markdown",
   "id": "6ff1bdbb-96e9-4ab8-8a39-2a65cf9650f4",
   "metadata": {},
   "source": [
    "## ¿Qué es LangGraph?  \n",
    "* LangGraph es una framework diferente de LangChain y está diseñado para construir aplicaciones agentivas y multiagente.  \n",
    "* LangGraph funciona muy bien con LangChain. Las aplicaciones de LangGraph suelen utilizar muchas características de LangChain, pero podrías usar LangGraph sin LangChain.  \n",
    "* Objetivos:  \n",
    "    * Construir agentes que puedan manejar de manera confiable diferentes tipos de tareas diarias en tu trabajo.  \n",
    "    * Agregar precisión y control a los flujos de trabajo agentivos."
   ]
  },
  {
   "cell_type": "markdown",
   "id": "04011a70-e40a-4b0a-a048-97b938a2de2f",
   "metadata": {},
   "source": [
    "## Agentes de IA  \n",
    "* Un agente de IA es un tipo de aplicación de LLM.  \n",
    "* En una aplicación sin agente, el desarrollador establece los pasos a seguir para realizar una tarea.  \n",
    "* En un agente de IA, el LLM decide los pasos a seguir para realizar una tarea."
   ]
  },
  {
   "cell_type": "markdown",
   "id": "23281c3c-3979-49fa-a0ca-8496f022e48c",
   "metadata": {},
   "source": [
    "## Los agentes de IA pueden tener diferentes grados de autonomía  \n",
    "* Los agentes con un bajo nivel de autonomía solo pueden decidir entre un número limitado de opciones. Por ejemplo, un agente podría decidir entre la opción A o la opción B usando un enrutador.  \n",
    "* Los agentes con un alto nivel de autonomía pueden decidir entre una amplia variedad de pasos. Por ejemplo, un agente podría decidir todos los pasos para realizar una tarea."
   ]
  },
  {
   "cell_type": "markdown",
   "id": "1d934803-48d3-4d4b-911a-76ce6ccdceea",
   "metadata": {},
   "source": [
    "## Más autonomía significa menos fiabilidad  \n",
    "* Normalmente, cuanto más autonomía le des a un agente, menos confiable será el resultado.  \n",
    "* Usando LangGraph, aumentarás la fiabilidad de tus agentes con un alto nivel de autonomía."
   ]
  },
  {
   "cell_type": "markdown",
   "id": "78a7f01d-3a8f-4f46-b9ee-c976aa231e0d",
   "metadata": {},
   "source": [
    "## Normalmente, los desarrolladores quieren combinar control y autonomía para los agentes de IA.  \n",
    "* El desarrollador establece algunos pasos obligatorios (por ejemplo, el primer y el último paso).  \n",
    "* El desarrollador permite que el LLM decida los pasos a seguir entre los pasos obligatorios."
   ]
  },
  {
   "cell_type": "markdown",
   "id": "ad019647-090e-42cc-bd82-5fd4c822387a",
   "metadata": {},
   "source": [
    "## Una buena manera de representar los pasos de un agente es usando gráficos:  \n",
    "* Cada paso es un **node** (nodo) en el gráfico.  \n",
    "* La conexión entre dos nodos se llama **edge**.  \n",
    "    * Un edge normal va del nodo 1 al nodo 2.  \n",
    "    * Un edge condicional va del nodo 1 al nodo 2 o 3."
   ]
  },
  {
   "cell_type": "markdown",
   "id": "23db000c-0516-4a9a-9ab1-ef01a5d38775",
   "metadata": {},
   "source": [
    "## LangGraph Studio facilita la visualización del flujo de trabajo de un agente de IA con gráficos"
   ]
  },
  {
   "cell_type": "code",
   "execution_count": null,
   "id": "20b3746d-508d-4067-8438-ddd9657e734a",
   "metadata": {},
   "outputs": [],
   "source": []
  }
 ],
 "metadata": {
  "kernelspec": {
   "display_name": "Python 3 (ipykernel)",
   "language": "python",
   "name": "python3"
  },
  "language_info": {
   "codemirror_mode": {
    "name": "ipython",
    "version": 3
   },
   "file_extension": ".py",
   "mimetype": "text/x-python",
   "name": "python",
   "nbconvert_exporter": "python",
   "pygments_lexer": "ipython3",
   "version": "3.12.5"
  }
 },
 "nbformat": 4,
 "nbformat_minor": 5
}
